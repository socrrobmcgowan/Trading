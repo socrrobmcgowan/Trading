{
 "cells": [
  {
   "cell_type": "code",
   "execution_count": 5,
   "metadata": {},
   "outputs": [],
   "source": [
    "import requests\n",
    "import lxml\n",
    "import json\n",
    "from bs4 import BeautifulSoup as beautifulsoup"
   ]
  },
  {
   "cell_type": "code",
   "execution_count": 6,
   "metadata": {},
   "outputs": [],
   "source": [
    "api_key = 's2dumBY1WIgOCUNbPhFOyKBiUdSAdR4d'"
   ]
  },
  {
   "cell_type": "code",
   "execution_count": 16,
   "metadata": {},
   "outputs": [
    {
     "name": "stdout",
     "output_type": "stream",
     "text": [
      "Last Closing Price\n",
      "Common Shares Outstanding\n",
      "Preferred Shares Outstanding\n",
      "Average Shares Outstanding, basic\n",
      "Average Shares Outstanding, diluted\n",
      "Revenues\n",
      "Cost of Goods Sold\n",
      "Gross Profit\n",
      "Operating Expenses\n",
      "Selling, General and Administrative\n",
      "Research & Development Expenses\n",
      "Operating Income (EBIT)\n",
      "Interest Expense, net\n",
      "Pretax Income (adjusted)\n",
      "Pretax Income\n",
      "Income Taxes\n",
      "Income from Continuing Operations\n",
      "Net Income (common shareholders)\n",
      "Cash and Cash-equivalents\n",
      "Receivables, net\n",
      "Total Current Assets\n",
      "Property, Plant and Equipment, net\n",
      "Total Assets\n",
      "Accounts payable\n",
      "Current Debt\n",
      "Total Current Liabilities\n",
      "Non-current Debt\n",
      "Total Liabilities\n",
      "Preferred Equity\n",
      "Common Stock\n",
      "Equity before minorities\n",
      "Minority Interest\n",
      "Total Equity\n",
      "Depreciation & Amortisation\n",
      "Change in Working Capital\n",
      "Operating Cash Flow\n",
      "Net Change in PP&E & Intangibles\n",
      "Investing Cash Flow\n",
      "Dividends paid\n",
      "Financing Cash Flow\n",
      "Net Change in Cash\n",
      "Market Capitalisation\n",
      "EBITDA\n",
      "Total Debt\n",
      "Free Cash Flow\n",
      "Gross Margin\n",
      "Operating Margin\n",
      "Net Profit Margin\n",
      "Return on Equity\n",
      "Return on Assets\n",
      "Free Cash Flow to Net Income\n",
      "Current Ratio\n",
      "Liabilities to Equity Ratio\n",
      "Debt to Assets Ratio\n",
      "Earnings per Share, Basic\n",
      "Earnings per Share, Diluted\n",
      "Sales per Share\n",
      "Book Value per Share\n",
      "Free Cash Flow per Share\n",
      "Dividends per Share\n",
      "Price to Earnings Ratio\n",
      "Price to Sales Ratio\n",
      "Price to Book Value\n",
      "Price to Free Cash Flow\n",
      "Market Capitalisation\n",
      "Enterprise Value\n",
      "EV/EBITDA\n",
      "EV/Sales\n",
      "EV/FCF\n",
      "Book to Market Value\n",
      "Operating Income/EV\n",
      "Pietroski F-Score\n",
      "[{'indicatorId': '0-31', 'indicatorName': 'Last Closing Price', 'value': '4.93', 'period': None, 'fyear': None, 'currency': 'USD', 'period-end-date': '2019-02-22'}, {'indicatorId': '0-64', 'indicatorName': 'Common Shares Outstanding', 'value': None, 'period': None, 'fyear': None, 'currency': None, 'period-end-date': None}, {'indicatorId': '0-65', 'indicatorName': 'Preferred Shares Outstanding', 'value': None, 'period': None, 'fyear': None, 'currency': None, 'period-end-date': None}, {'indicatorId': '0-66', 'indicatorName': 'Average Shares Outstanding, basic', 'value': None, 'period': None, 'fyear': None, 'currency': None, 'period-end-date': None}, {'indicatorId': '0-67', 'indicatorName': 'Average Shares Outstanding, diluted', 'value': None, 'period': None, 'fyear': None, 'currency': None, 'period-end-date': None}, {'indicatorId': '1-1', 'indicatorName': 'Revenues', 'value': '955600000', 'period': 'TTM', 'fyear': 2017, 'currency': 'USD', 'period-end-date': '2017-03-31'}, {'indicatorId': '1-2', 'indicatorName': 'Cost of Goods Sold', 'value': '329800000', 'period': 'TTM', 'fyear': 2017, 'currency': 'USD', 'period-end-date': '2017-03-31'}, {'indicatorId': '1-4', 'indicatorName': 'Gross Profit', 'value': '625800000', 'period': 'TTM', 'fyear': 2017, 'currency': 'USD', 'period-end-date': '2017-03-31'}, {'indicatorId': '1-11', 'indicatorName': 'Operating Expenses', 'value': '487200000', 'period': 'TTM', 'fyear': 2017, 'currency': 'USD', 'period-end-date': '2017-03-31'}, {'indicatorId': '1-12', 'indicatorName': 'Selling, General and Administrative', 'value': '433500000', 'period': 'TTM', 'fyear': 2017, 'currency': 'USD', 'period-end-date': '2017-03-31'}, {'indicatorId': '1-15', 'indicatorName': 'Research & Development Expenses', 'value': '0', 'period': 'TTM', 'fyear': 2017, 'currency': 'USD', 'period-end-date': '2017-03-31'}, {'indicatorId': '1-19', 'indicatorName': 'Operating Income (EBIT)', 'value': '138600000', 'period': 'TTM', 'fyear': 2017, 'currency': 'USD', 'period-end-date': '2017-03-31'}, {'indicatorId': '1-21', 'indicatorName': 'Interest Expense, net', 'value': '108200000', 'period': 'TTM', 'fyear': 2017, 'currency': 'USD', 'period-end-date': '2017-03-31'}, {'indicatorId': '1-28', 'indicatorName': 'Pretax Income (adjusted)', 'value': '30400000', 'period': 'TTM', 'fyear': 2017, 'currency': 'USD', 'period-end-date': '2017-03-31'}, {'indicatorId': '1-43', 'indicatorName': 'Pretax Income', 'value': '29500000', 'period': 'TTM', 'fyear': 2017, 'currency': 'USD', 'period-end-date': '2017-03-31'}, {'indicatorId': '1-44', 'indicatorName': 'Income Taxes', 'value': '6700000', 'period': 'TTM', 'fyear': 2017, 'currency': 'USD', 'period-end-date': '2017-03-31'}, {'indicatorId': '1-49', 'indicatorName': 'Income from Continuing Operations', 'value': '22800000', 'period': 'TTM', 'fyear': 2017, 'currency': 'USD', 'period-end-date': '2017-03-31'}, {'indicatorId': '1-58', 'indicatorName': 'Net Income (common shareholders)', 'value': '22000000', 'period': 'TTM', 'fyear': 2017, 'currency': 'USD', 'period-end-date': '2017-03-31'}, {'indicatorId': '2-1', 'indicatorName': 'Cash and Cash-equivalents', 'value': '33600000', 'period': 'TTM', 'fyear': 2017, 'currency': 'USD', 'period-end-date': '2017-03-31'}, {'indicatorId': '2-5', 'indicatorName': 'Receivables, net', 'value': '151600000', 'period': 'TTM', 'fyear': 2017, 'currency': 'USD', 'period-end-date': '2017-03-31'}, {'indicatorId': '2-21', 'indicatorName': 'Total Current Assets', 'value': '351700000', 'period': 'TTM', 'fyear': 2017, 'currency': 'USD', 'period-end-date': '2017-03-31'}, {'indicatorId': '2-22', 'indicatorName': 'Property, Plant and Equipment, net', 'value': '105800000', 'period': 'TTM', 'fyear': 2017, 'currency': 'USD', 'period-end-date': '2017-03-31'}, {'indicatorId': '2-41', 'indicatorName': 'Total Assets', 'value': '795100000', 'period': 'TTM', 'fyear': 2017, 'currency': 'USD', 'period-end-date': '2017-03-31'}, {'indicatorId': '2-43', 'indicatorName': 'Accounts payable', 'value': '353700000', 'period': 'TTM', 'fyear': 2017, 'currency': 'USD', 'period-end-date': '2017-03-31'}, {'indicatorId': '2-47', 'indicatorName': 'Current Debt', 'value': '7800000', 'period': 'TTM', 'fyear': 2017, 'currency': 'USD', 'period-end-date': '2017-03-31'}, {'indicatorId': '2-57', 'indicatorName': 'Total Current Liabilities', 'value': '434400000', 'period': 'TTM', 'fyear': 2017, 'currency': 'USD', 'period-end-date': '2017-03-31'}, {'indicatorId': '2-58', 'indicatorName': 'Non-current Debt', 'value': '1828200000', 'period': 'TTM', 'fyear': 2017, 'currency': 'USD', 'period-end-date': '2017-03-31'}, {'indicatorId': '2-73', 'indicatorName': 'Total Liabilities', 'value': '2324600000', 'period': 'TTM', 'fyear': 2017, 'currency': 'USD', 'period-end-date': '2017-03-31'}, {'indicatorId': '2-74', 'indicatorName': 'Preferred Equity', 'value': '0', 'period': 'TTM', 'fyear': 2017, 'currency': 'USD', 'period-end-date': '2017-03-31'}, {'indicatorId': '2-76', 'indicatorName': 'Common Stock', 'value': '0', 'period': 'TTM', 'fyear': 2017, 'currency': 'USD', 'period-end-date': '2017-03-31'}, {'indicatorId': '2-82', 'indicatorName': 'Equity before minorities', 'value': '-1530700000', 'period': 'TTM', 'fyear': 2017, 'currency': 'USD', 'period-end-date': '2017-03-31'}, {'indicatorId': '2-83', 'indicatorName': 'Minority Interest', 'value': '1200000', 'period': 'TTM', 'fyear': 2017, 'currency': 'USD', 'period-end-date': '2017-03-31'}, {'indicatorId': '2-84', 'indicatorName': 'Total Equity', 'value': '-1529500000', 'period': 'TTM', 'fyear': 2017, 'currency': 'USD', 'period-end-date': '2017-03-31'}, {'indicatorId': '3-2', 'indicatorName': 'Depreciation & Amortisation', 'value': '53700000', 'period': 'TTM', 'fyear': 2017, 'currency': 'USD', 'period-end-date': '2017-03-31'}, {'indicatorId': '3-7', 'indicatorName': 'Change in Working Capital', 'value': '-10900000', 'period': 'TTM', 'fyear': 2017, 'currency': 'USD', 'period-end-date': '2017-03-31'}, {'indicatorId': '3-13', 'indicatorName': 'Operating Cash Flow', 'value': '41200000', 'period': 'TTM', 'fyear': 2017, 'currency': 'USD', 'period-end-date': '2017-03-31'}, {'indicatorId': '3-14', 'indicatorName': 'Net Change in PP&E & Intangibles', 'value': '0', 'period': 'TTM', 'fyear': 2017, 'currency': 'USD', 'period-end-date': '2017-03-31'}, {'indicatorId': '3-31', 'indicatorName': 'Investing Cash Flow', 'value': '-37100000', 'period': 'TTM', 'fyear': 2017, 'currency': 'USD', 'period-end-date': '2017-03-31'}, {'indicatorId': '3-32', 'indicatorName': 'Dividends paid', 'value': '0', 'period': 'TTM', 'fyear': 2017, 'currency': 'USD', 'period-end-date': '2017-03-31'}, {'indicatorId': '3-43', 'indicatorName': 'Financing Cash Flow', 'value': '-8200000', 'period': 'TTM', 'fyear': 2017, 'currency': 'USD', 'period-end-date': '2017-03-31'}, {'indicatorId': '3-46', 'indicatorName': 'Net Change in Cash', 'value': '-6600000', 'period': 'TTM', 'fyear': 2017, 'currency': 'USD', 'period-end-date': '2017-03-31'}, {'indicatorId': '4-11', 'indicatorName': 'Market Capitalisation', 'value': None, 'period': None, 'fyear': None, 'currency': None, 'period-end-date': None}, {'indicatorId': '4-10', 'indicatorName': 'EBITDA', 'value': '192300000', 'period': 'TTM', 'fyear': None, 'currency': None, 'period-end-date': None}, {'indicatorId': '4-6', 'indicatorName': 'Total Debt', 'value': '1836000000', 'period': 'TTM', 'fyear': None, 'currency': None, 'period-end-date': None}, {'indicatorId': '4-25', 'indicatorName': 'Free Cash Flow', 'value': '174700000', 'period': 'TTM', 'fyear': None, 'currency': None, 'period-end-date': None}, {'indicatorId': '4-0', 'indicatorName': 'Gross Margin', 'value': '0.65490', 'period': 'TTM', 'fyear': None, 'currency': None, 'period-end-date': None}, {'indicatorId': '4-1', 'indicatorName': 'Operating Margin', 'value': '0.14500', 'period': 'TTM', 'fyear': None, 'currency': None, 'period-end-date': None}, {'indicatorId': '4-2', 'indicatorName': 'Net Profit Margin', 'value': '0.02390', 'period': 'TTM', 'fyear': None, 'currency': None, 'period-end-date': None}, {'indicatorId': '4-7', 'indicatorName': 'Return on Equity', 'value': '-0.01490', 'period': 'TTM', 'fyear': None, 'currency': None, 'period-end-date': None}, {'indicatorId': '4-9', 'indicatorName': 'Return on Assets', 'value': '0.02870', 'period': 'TTM', 'fyear': None, 'currency': None, 'period-end-date': None}, {'indicatorId': '4-28', 'indicatorName': 'Free Cash Flow to Net Income', 'value': '7.66230', 'period': 'TTM', 'fyear': None, 'currency': None, 'period-end-date': None}, {'indicatorId': '4-3', 'indicatorName': 'Current Ratio', 'value': '0.80960', 'period': 'TTM', 'fyear': None, 'currency': None, 'period-end-date': None}, {'indicatorId': '4-4', 'indicatorName': 'Liabilities to Equity Ratio', 'value': '-1.51980', 'period': 'TTM', 'fyear': None, 'currency': None, 'period-end-date': None}, {'indicatorId': '4-5', 'indicatorName': 'Debt to Assets Ratio', 'value': '2.30910', 'period': 'TTM', 'fyear': None, 'currency': None, 'period-end-date': None}, {'indicatorId': '4-12', 'indicatorName': 'Earnings per Share, Basic', 'value': None, 'period': None, 'fyear': None, 'currency': None, 'period-end-date': None}, {'indicatorId': '4-13', 'indicatorName': 'Earnings per Share, Diluted', 'value': None, 'period': None, 'fyear': None, 'currency': None, 'period-end-date': None}, {'indicatorId': '4-17', 'indicatorName': 'Sales per Share', 'value': None, 'period': None, 'fyear': None, 'currency': None, 'period-end-date': None}, {'indicatorId': '4-18', 'indicatorName': 'Book Value per Share', 'value': None, 'period': None, 'fyear': None, 'currency': None, 'period-end-date': None}, {'indicatorId': '4-26', 'indicatorName': 'Free Cash Flow per Share', 'value': None, 'period': None, 'fyear': None, 'currency': None, 'period-end-date': None}, {'indicatorId': '4-29', 'indicatorName': 'Dividends per Share', 'value': None, 'period': None, 'fyear': None, 'currency': None, 'period-end-date': None}, {'indicatorId': '4-14', 'indicatorName': 'Price to Earnings Ratio', 'value': None, 'period': None, 'fyear': None, 'currency': None, 'period-end-date': None}, {'indicatorId': '4-15', 'indicatorName': 'Price to Sales Ratio', 'value': None, 'period': None, 'fyear': None, 'currency': None, 'period-end-date': None}, {'indicatorId': '4-16', 'indicatorName': 'Price to Book Value', 'value': None, 'period': None, 'fyear': None, 'currency': None, 'period-end-date': None}, {'indicatorId': '4-27', 'indicatorName': 'Price to Free Cash Flow', 'value': None, 'period': None, 'fyear': None, 'currency': None, 'period-end-date': None}, {'indicatorId': '4-11', 'indicatorName': 'Market Capitalisation', 'value': None, 'period': None, 'fyear': None, 'currency': None, 'period-end-date': None}, {'indicatorId': '4-20', 'indicatorName': 'Enterprise Value', 'value': None, 'period': None, 'fyear': None, 'currency': None, 'period-end-date': None}, {'indicatorId': '4-21', 'indicatorName': 'EV/EBITDA', 'value': None, 'period': None, 'fyear': None, 'currency': None, 'period-end-date': None}, {'indicatorId': '4-22', 'indicatorName': 'EV/Sales', 'value': None, 'period': None, 'fyear': None, 'currency': None, 'period-end-date': None}, {'indicatorId': '4-31', 'indicatorName': 'EV/FCF', 'value': None, 'period': None, 'fyear': None, 'currency': None, 'period-end-date': None}, {'indicatorId': '4-23', 'indicatorName': 'Book to Market Value', 'value': None, 'period': None, 'fyear': None, 'currency': None, 'period-end-date': None}, {'indicatorId': '4-24', 'indicatorName': 'Operating Income/EV', 'value': None, 'period': None, 'fyear': None, 'currency': None, 'period-end-date': None}, {'indicatorId': '4-30', 'indicatorName': 'Pietroski F-Score', 'value': None, 'period': None, 'fyear': None, 'currency': None, 'period-end-date': None}]\n"
     ]
    }
   ],
   "source": [
    "r = requests.get('https://simfin.com/api/v1/info/find-id/ticker/AGI?api-key='+api_key)\n",
    "pr = json.loads(r.content)\n",
    "sim_id = pr[0]['simId']\n",
    "r = requests.get(f'https://simfin.com/api/v1/companies/id/{str(sim_id)}/ratios?api-key={api_key}')\n",
    "pr = json.loads(r.content)\n",
    "for item in pr:\n",
    "    print(item['indicatorName'])\n",
    "    \n",
    "print(pr)"
   ]
  },
  {
   "cell_type": "code",
   "execution_count": 274,
   "metadata": {},
   "outputs": [
    {
     "name": "stdout",
     "output_type": "stream",
     "text": [
      "Earnings per Share, Basic value: 27.01\n",
      "Book Value per Share value: 244.38\n"
     ]
    }
   ],
   "source": [
    "for item in pr:\n",
    "    if item['indicatorName'] == 'Earnings per Share, Basic' or item['indicatorName'] == 'Book Value per Share':\n",
    "        print(f'{item[\"indicatorName\"]} value: {item[\"value\"]}')"
   ]
  },
  {
   "cell_type": "code",
   "execution_count": 4,
   "metadata": {},
   "outputs": [
    {
     "ename": "TypeError",
     "evalue": "string indices must be integers",
     "output_type": "error",
     "traceback": [
      "\u001b[1;31m---------------------------------------------------------------------------\u001b[0m",
      "\u001b[1;31mTypeError\u001b[0m                                 Traceback (most recent call last)",
      "\u001b[1;32m<ipython-input-4-60d9136efd2c>\u001b[0m in \u001b[0;36m<module>\u001b[1;34m()\u001b[0m\n\u001b[0;32m     12\u001b[0m \u001b[0mdata\u001b[0m \u001b[1;33m=\u001b[0m \u001b[0mjson\u001b[0m\u001b[1;33m.\u001b[0m\u001b[0mloads\u001b[0m\u001b[1;33m(\u001b[0m\u001b[0mdata\u001b[0m\u001b[1;33m.\u001b[0m\u001b[0mcontent\u001b[0m\u001b[1;33m)\u001b[0m\u001b[1;33m\u001b[0m\u001b[0m\n\u001b[0;32m     13\u001b[0m \u001b[1;32mfor\u001b[0m \u001b[0mitem\u001b[0m \u001b[1;32min\u001b[0m \u001b[0mdata\u001b[0m\u001b[1;33m:\u001b[0m\u001b[1;33m\u001b[0m\u001b[0m\n\u001b[1;32m---> 14\u001b[1;33m     \u001b[0mprint\u001b[0m \u001b[1;33m(\u001b[0m\u001b[0mitem\u001b[0m\u001b[1;33m[\u001b[0m\u001b[1;34m'indicatorName'\u001b[0m\u001b[1;33m]\u001b[0m\u001b[1;33m)\u001b[0m\u001b[1;33m\u001b[0m\u001b[0m\n\u001b[0m",
      "\u001b[1;31mTypeError\u001b[0m: string indices must be integers"
     ]
    }
   ],
   "source": [
    "import pandas as pd\n",
    "import pandas_datareader.data as web\n",
    "import requests\n",
    "import quandl\n",
    "import json\n",
    "symbol = 'AAPL'\n",
    "alpha_key = 'FPL5DH1JLA759DX4'\n",
    "url = f'https://www.alphavantage.co/query?function=TIME_SERIES_DAILY_ADJUSTED&symbol={symbol}&outputsize=compact&apikey={alpha_key}'\n",
    "\n",
    "\n",
    "data = requests.get(url)\n",
    "data = json.loads(data.content)\n",
    "for item in data: \n",
    "    print (item['indicatorName'])"
   ]
  },
  {
   "cell_type": "code",
   "execution_count": 248,
   "metadata": {},
   "outputs": [],
   "source": [
    "value_data = data['Time Series (Daily)'].values()\n",
    "close_prices = [float(price['4. close']) for price in value_data]\n",
    "volumes = [int(vol['6. volume']) for vol in value_data]\n",
    "dates = [date for date in data['Time Series (Daily)'].keys()]\n",
    "data = list(zip(dates,close_prices,volumes))"
   ]
  },
  {
   "cell_type": "code",
   "execution_count": 249,
   "metadata": {},
   "outputs": [],
   "source": [
    "df = pd.DataFrame(data, columns = ['date','close','volume'])\n",
    "df.set_index('date',inplace = True)\n",
    "df.sort_index(axis = 0, ascending = True,inplace = True)"
   ]
  },
  {
   "cell_type": "code",
   "execution_count": 265,
   "metadata": {},
   "outputs": [
    {
     "data": {
      "text/html": [
       "<div>\n",
       "<style scoped>\n",
       "    .dataframe tbody tr th:only-of-type {\n",
       "        vertical-align: middle;\n",
       "    }\n",
       "\n",
       "    .dataframe tbody tr th {\n",
       "        vertical-align: top;\n",
       "    }\n",
       "\n",
       "    .dataframe thead th {\n",
       "        text-align: right;\n",
       "    }\n",
       "</style>\n",
       "<table border=\"1\" class=\"dataframe\">\n",
       "  <thead>\n",
       "    <tr style=\"text-align: right;\">\n",
       "      <th></th>\n",
       "      <th>close_price</th>\n",
       "      <th>volume</th>\n",
       "    </tr>\n",
       "    <tr>\n",
       "      <th>date</th>\n",
       "      <th></th>\n",
       "      <th></th>\n",
       "    </tr>\n",
       "  </thead>\n",
       "  <tbody>\n",
       "    <tr>\n",
       "      <th>2018-08-02</th>\n",
       "      <td>1241.13</td>\n",
       "      <td>1735180</td>\n",
       "    </tr>\n",
       "    <tr>\n",
       "      <th>2018-08-03</th>\n",
       "      <td>1238.16</td>\n",
       "      <td>1063244</td>\n",
       "    </tr>\n",
       "    <tr>\n",
       "      <th>2018-08-06</th>\n",
       "      <td>1237.67</td>\n",
       "      <td>1105916</td>\n",
       "    </tr>\n",
       "    <tr>\n",
       "      <th>2018-08-07</th>\n",
       "      <td>1255.84</td>\n",
       "      <td>2125256</td>\n",
       "    </tr>\n",
       "    <tr>\n",
       "      <th>2018-08-08</th>\n",
       "      <td>1261.33</td>\n",
       "      <td>1718664</td>\n",
       "    </tr>\n",
       "  </tbody>\n",
       "</table>\n",
       "</div>"
      ],
      "text/plain": [
       "           close_price    volume\n",
       "date                            \n",
       "2018-08-02     1241.13   1735180\n",
       "2018-08-03     1238.16   1063244\n",
       "2018-08-06     1237.67   1105916\n",
       "2018-08-07     1255.84   2125256\n",
       "2018-08-08     1261.33   1718664"
      ]
     },
     "execution_count": 265,
     "metadata": {},
     "output_type": "execute_result"
    }
   ],
   "source": [
    "symbol = 'GOOGL'\n",
    "r = requests.get(f'http://quotes.wsj.com/{symbol}/historical-prices/download?MOD_VIEW=page&num_rows=200&range_days=200&endDate=2/15/2019')\n",
    "r = r.text.split('\\n')\n",
    "data = [item.split(',') for item in r]\n",
    "\n",
    "data.remove(data[0])\n",
    "dates = [date[0] for date in data]\n",
    "dates = pd.to_datetime(dates)\n",
    "close_prices = [price[4] for price in data]\n",
    "volumes = [vol[5] for vol in data]\n",
    "\n",
    "data = list(zip(dates,close_prices,volumes))\n",
    "\n",
    "df = pd.DataFrame(data, columns = ['date','close_price','volume'])\n",
    "df.set_index('date',inplace = True)\n",
    "pd.to_datetime(df.index)\n",
    "df.sort_index(axis = 0, ascending = True, inplace = True)\n",
    "df.head()"
   ]
  },
  {
   "cell_type": "code",
   "execution_count": 221,
   "metadata": {},
   "outputs": [],
   "source": [
    "import datetime"
   ]
  },
  {
   "cell_type": "code",
   "execution_count": 230,
   "metadata": {},
   "outputs": [],
   "source": [
    "day = datetime.datetime.today().day\n",
    "month = datetime.datetime.today().month\n",
    "year = datetime.datetime.today().year"
   ]
  },
  {
   "cell_type": "code",
   "execution_count": 233,
   "metadata": {},
   "outputs": [
    {
     "name": "stdout",
     "output_type": "stream",
     "text": [
      "2/16/2019\n"
     ]
    }
   ],
   "source": [
    "print(f'{month}/{day}/{year}')"
   ]
  },
  {
   "cell_type": "code",
   "execution_count": null,
   "metadata": {},
   "outputs": [],
   "source": []
  }
 ],
 "metadata": {
  "kernelspec": {
   "display_name": "Python 3",
   "language": "python",
   "name": "python3"
  },
  "language_info": {
   "codemirror_mode": {
    "name": "ipython",
    "version": 3
   },
   "file_extension": ".py",
   "mimetype": "text/x-python",
   "name": "python",
   "nbconvert_exporter": "python",
   "pygments_lexer": "ipython3",
   "version": "3.6.5"
  }
 },
 "nbformat": 4,
 "nbformat_minor": 2
}
