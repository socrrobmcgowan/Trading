{
 "cells": [
  {
   "cell_type": "markdown",
   "metadata": {},
   "source": [
    "https://apisb.etrade.com/v1/accounts/dBZOKt9xDrtRSAOl4MSiiA/orders/preview.jsonheader_auth=True,headers={'Content-Type': 'application/xml', 'consumerKey': '715ef8b1da93e86b4dcb81b6778d46db'}data=<PreviewOrderRequest>\n",
    "                       <orderType>EQ</orderType>\n",
    "                       <clientOrderId>8282286894</clientOrderId>\n",
    "                       <Order>\n",
    "                           <allOrNone>false</allOrNone>\n",
    "                           <priceType>LIMIT</priceType>\n",
    "                           <orderTerm>GOOD_FOR_DAY</orderTerm>\n",
    "                           <marketSession>REGULAR</marketSession>\n",
    "                           <stopPrice></stopPrice>\n",
    "                           <limitPrice>1.00</limitPrice>\n",
    "                           <Instrument>\n",
    "                               <Product>\n",
    "                                   <securityType>EQ</securityType>\n",
    "                                   <symbol>AAPL</symbol>\n",
    "                               </Product>\n",
    "                               <orderAction>BUY</orderAction>\n",
    "                               <quantityType>QUANTITY</quantityType>\n",
    "                               <quantity>5</quantity>\n",
    "                           </Instrument>\n",
    "                       </Order>\n",
    "                   </PreviewOrderRequest>"
   ]
  },
  {
   "cell_type": "markdown",
   "metadata": {},
   "source": [
    "https://apisb.etrade.com/v1/accounts/{account_key}/orders/preview.jsonheader_auth=True,headers={'Content-Type': 'application/xml', 'consumerKey': '715ef8b1da93e86b4dcb81b6778d46db'}data=<PreviewOrderRequest>\n",
    "                       <orderType>EQ</orderType>\n",
    "                       <clientOrderId>4022013</clientOrderId>\n",
    "                       <Order>\n",
    "                           <allOrNone>false</allOrNone>\n",
    "                           <priceType>LIMIT</priceType>\n",
    "                           <orderTerm>GOOD_FOR_DAY</orderTerm>\n",
    "                           <marketSession>REGULAR</marketSession>\n",
    "                           <stopPrice></stopPrice>\n",
    "                           <limitPrice>1.00</limitPrice>\n",
    "                           <Instrument>\n",
    "                               <Product>\n",
    "                                   <securityType>EQ</securityType>\n",
    "                                   <symbol>AAPL</symbol>\n",
    "                               </Product>\n",
    "                               <orderAction>BUY</orderAction>\n",
    "                               <quantityType>QUANTITY</quantityType>\n",
    "                               <quantity>5</quantity>\n",
    "                           </Instrument>\n",
    "                       </Order>\n",
    "                   </PreviewOrderRequest>"
   ]
  },
  {
   "cell_type": "code",
   "execution_count": null,
   "metadata": {},
   "outputs": [],
   "source": []
  }
 ],
 "metadata": {
  "kernelspec": {
   "display_name": "Python 3",
   "language": "python",
   "name": "python3"
  },
  "language_info": {
   "codemirror_mode": {
    "name": "ipython",
    "version": 3
   },
   "file_extension": ".py",
   "mimetype": "text/x-python",
   "name": "python",
   "nbconvert_exporter": "python",
   "pygments_lexer": "ipython3",
   "version": "3.6.5"
  }
 },
 "nbformat": 4,
 "nbformat_minor": 2
}
