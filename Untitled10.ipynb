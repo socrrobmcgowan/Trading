{
 "cells": [
  {
   "cell_type": "code",
   "execution_count": null,
   "metadata": {},
   "outputs": [],
   "source": [
    "below_bb_locations = []\n",
    "above_bb_locations = []\n",
    "macd_bottoms = []\n",
    "macd_tops = []\n",
    "    \n",
    "    \n",
    "            if len(spy_data_dict['prices']) > 20:\n",
    "                for x in range(-15,-0):\n",
    "                    if spy_df['price'].iloc[x] < spy_df['BB_20_lower_2std'].iloc[x]:\n",
    "                        below_bb_locations.append(x)\n",
    "                        below_bb.append(spy_df['price'].iloc[x] < spy_df['BB_20_lower_2std'].iloc[x])\n",
    "                    else:\n",
    "                        below_bb.append(spy_df['price'].iloc[x] < spy_df['BB_20_lower_2std'].iloc[x])\n",
    "                    if spy_df['price'].iloc[x] > spy_df['BB_20_upper_2std'].iloc[x]:\n",
    "                        above_bb_locations.append(x)\n",
    "                        above_bb.append(spy_df['price'].iloc[x] > spy_df['BB_20_upper_2std'].iloc[x])\n",
    "                    else:\n",
    "                        above_bb.append(spy_df['price'].iloc[x] > spy_df['BB_20_upper_2std'].iloc[x])\n",
    "                \n",
    "                if True in below_bb:\n",
    "                    for n in range(below_bb_locations[0],0):\n",
    "                        if (spy_df['macd'].iloc[n-1] - spy_df['macd'].iloc[n-2]) <=0 and (spy_df['macd'].iloc[n]-spy_df['macd'].iloc[n-1])>0:\n",
    "                            macd_bottoms.append(True)\n",
    "                        else:\n",
    "                            macd_bottoms.append(False)\n",
    "                            \n",
    "                if True in above_bb:\n",
    "                    for n in range(above_bb_locations[0],0):\n",
    "                        if (spy_df['macd'].iloc[n-1] - spy_df['macd'].iloc[n-2]) >=0 and (spy_df['macd'].iloc[n]-spy_df['macd'].iloc[n-1])<0:\n",
    "                            macd_tops.append(True)\n",
    "                        else:\n",
    "                            macd_tops.append(False)\n",
    "                \n",
    "                if True in below_bb and macd_bottoms.count(True) > 1 and not is_long_2 and not is_short:\n",
    "                    is_long_2 = True\n",
    "                    buy_open_order()\n",
    "                    two_strike_price = str(int(round(spy_price-1,0)))\n",
    "                    two_entry = spy_price\n",
    "                if True in above_bb and macd_tops.count(True) > 1 and not is_long_2 and not is_short:\n",
    "                    is_short = True\n",
    "                    buy_open_order_put()\n",
    "                    short_strike_price = str(int(round(spy_price-1,0)))\n",
    "                    short_entry = spy_price\n",
    "  "
   ]
  },
  {
   "cell_type": "code",
   "execution_count": 23,
   "metadata": {},
   "outputs": [],
   "source": [
    "mylist = [False,False,True,False,False,True]"
   ]
  },
  {
   "cell_type": "code",
   "execution_count": 25,
   "metadata": {},
   "outputs": [
    {
     "data": {
      "text/plain": [
       "2"
      ]
     },
     "execution_count": 25,
     "metadata": {},
     "output_type": "execute_result"
    }
   ],
   "source": [
    "mylist.count(True)"
   ]
  },
  {
   "cell_type": "code",
   "execution_count": null,
   "metadata": {},
   "outputs": [],
   "source": []
  },
  {
   "cell_type": "code",
   "execution_count": null,
   "metadata": {},
   "outputs": [],
   "source": []
  }
 ],
 "metadata": {
  "kernelspec": {
   "display_name": "Python 3",
   "language": "python",
   "name": "python3"
  },
  "language_info": {
   "codemirror_mode": {
    "name": "ipython",
    "version": 3
   },
   "file_extension": ".py",
   "mimetype": "text/x-python",
   "name": "python",
   "nbconvert_exporter": "python",
   "pygments_lexer": "ipython3",
   "version": "3.6.5"
  }
 },
 "nbformat": 4,
 "nbformat_minor": 2
}
