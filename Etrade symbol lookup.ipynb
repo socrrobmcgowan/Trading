{
 "cells": [
  {
   "cell_type": "code",
   "execution_count": 1,
   "id": "above-wells",
   "metadata": {},
   "outputs": [
    {
     "name": "stdout",
     "output_type": "stream",
     "text": [
      "Please accept agreement and enter text code from browser: B3QKL\n"
     ]
    }
   ],
   "source": [
    "import numpy as np\n",
    "import pandas as pd\n",
    "import json\n",
    "from rauth import OAuth1Service,OAuth1Session\n",
    "import requests \n",
    "import webbrowser\n",
    "import datetime\n",
    "from requests_oauthlib import OAuth1\n",
    "import time\n",
    "import os\n",
    "\n",
    "consumer_key='85bdd7b968b11348fd8682f33a1d1c82'\n",
    "consumer_secret='1fd4678dd9db8eefeb9046bfcfda129d'\n",
    "\n",
    "etrade = OAuth1Service(\n",
    "    name=\"etrade\",\n",
    "    consumer_key='85bdd7b968b11348fd8682f33a1d1c82',\n",
    "    consumer_secret='1fd4678dd9db8eefeb9046bfcfda129d',\n",
    "    request_token_url=\"https://api.etrade.com/oauth/request_token\",\n",
    "    access_token_url=\"https://api.etrade.com/oauth/access_token\",\n",
    "    authorize_url=\"https://us.etrade.com/e/t/etws/authorize?key={}&token={}\",\n",
    "    base_url=\"https://api.etrade.com\")\n",
    "\n",
    "request_token, request_token_secret = etrade.get_request_token(\n",
    "        params={\"oauth_callback\": \"oob\", \"format\": \"json\"})\n",
    "\n",
    "authorize_url = etrade.authorize_url.format(etrade.consumer_key, request_token)\n",
    "webbrowser.open(authorize_url)\n",
    "text_code = input(\"Please accept agreement and enter text code from browser: \")\n",
    "session = etrade.get_auth_session(request_token,\n",
    "                                  request_token_secret,\n",
    "                                  params={\"oauth_verifier\": text_code})\n",
    "\n",
    "r = session.get('https://api.etrade.com/v1/market/quote/AAPL.json')"
   ]
  },
  {
   "cell_type": "code",
   "execution_count": 3,
   "id": "northern-genre",
   "metadata": {},
   "outputs": [
    {
     "data": {
      "text/plain": [
       "b'{\"QuoteResponse\":{\"QuoteData\":[{\"dateTime\":\"13:11:00 EDT 07-06-2021\",\"dateTimeUTC\":1625591460,\"quoteStatus\":\"REALTIME\",\"ahFlag\":\"false\",\"hasMiniOptions\":false,\"All\":{\"adjustedFlag\":false,\"ask\":141.58,\"askSize\":500,\"askTime\":\"13:11:00 EDT 07-06-2021\",\"bid\":141.57,\"bidExchange\":\" \",\"bidSize\":700,\"bidTime\":\"13:11:00 EDT 07-06-2021\",\"changeClose\":1.6199,\"changeClosePercentage\":1.16,\"companyName\":\"APPLE INC COM\",\"daysToExpiration\":0,\"dirLast\":\"2\",\"dividend\":0.22,\"eps\":4.4565,\"estEarnings\":5.196,\"exDividendDate\":1620407463,\"high\":143.15,\"high52\":145.09,\"lastTrade\":141.5799,\"low\":140.07,\"low52\":89.145,\"open\":140.07,\"openInterest\":0,\"optionStyle\":\"\",\"optionUnderlier\":\"\",\"previousClose\":139.96,\"previousDayVolume\":52454441,\"primaryExchange\":\"NSDQ\",\"symbolDescription\":\"APPLE INC COM\",\"totalVolume\":71128704,\"upc\":0,\"cashDeliverable\":0,\"marketCap\":2362633128216.90,\"sharesOutstanding\":16687631000,\"nextEarningDate\":\"\",\"beta\":1.38,\"yield\":0.6288,\"declaredDividend\":0.22,\"dividendPayableDate\":1620925863,\"pe\":31.4061,\"week52LowDate\":1595610663,\"week52HiDate\":1611598263,\"intrinsicValue\":0.0,\"timePremium\":0.0,\"optionMultiplier\":0.0,\"contractSize\":0.0,\"expirationDate\":0,\"timeOfLastTrade\":1625591460,\"averageVolume\":67551601},\"Product\":{\"symbol\":\"AAPL\",\"securityType\":\"EQ\"}}]}}'"
      ]
     },
     "execution_count": 3,
     "metadata": {},
     "output_type": "execute_result"
    }
   ],
   "source": [
    "r.content"
   ]
  },
  {
   "cell_type": "code",
   "execution_count": null,
   "id": "italic-president",
   "metadata": {},
   "outputs": [],
   "source": []
  }
 ],
 "metadata": {
  "kernelspec": {
   "display_name": "Python 3",
   "language": "python",
   "name": "python3"
  },
  "language_info": {
   "codemirror_mode": {
    "name": "ipython",
    "version": 3
   },
   "file_extension": ".py",
   "mimetype": "text/x-python",
   "name": "python",
   "nbconvert_exporter": "python",
   "pygments_lexer": "ipython3",
   "version": "3.8.8"
  }
 },
 "nbformat": 4,
 "nbformat_minor": 5
}
