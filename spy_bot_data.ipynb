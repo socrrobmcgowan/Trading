{
 "cells": [
  {
   "cell_type": "code",
   "execution_count": 1,
   "metadata": {},
   "outputs": [],
   "source": [
    "import pandas as pd\n",
    "import datetime\n",
    "import numpy as np\n",
    "import csv\n",
    "import matplotlib.pyplot as plt\n",
    "%matplotlib inline"
   ]
  },
  {
   "cell_type": "code",
   "execution_count": null,
   "metadata": {},
   "outputs": [],
   "source": []
  },
  {
   "cell_type": "code",
   "execution_count": null,
   "metadata": {},
   "outputs": [],
   "source": []
  },
  {
   "cell_type": "code",
   "execution_count": null,
   "metadata": {},
   "outputs": [],
   "source": []
  },
  {
   "cell_type": "code",
   "execution_count": null,
   "metadata": {},
   "outputs": [],
   "source": []
  },
  {
   "cell_type": "code",
   "execution_count": null,
   "metadata": {},
   "outputs": [],
   "source": []
  },
  {
   "cell_type": "code",
   "execution_count": null,
   "metadata": {},
   "outputs": [],
   "source": []
  },
  {
   "cell_type": "code",
   "execution_count": null,
   "metadata": {},
   "outputs": [],
   "source": []
  },
  {
   "cell_type": "code",
   "execution_count": null,
   "metadata": {},
   "outputs": [],
   "source": []
  },
  {
   "cell_type": "code",
   "execution_count": 2,
   "metadata": {},
   "outputs": [],
   "source": [
    "#master_vix_df = pd.read_csv('master_vix_data.csv',index_col=0)\n",
    "master_spy_df = pd.read_csv('master_spy_data.csv',index_col=0)\n",
    "# master_df_one_longs = pd.read_csv('one_longs.csv',index_col=0)\n",
    "# master_df_one_shorts = pd.read_csv('one_shorts.csv',index_col=0)\n",
    "# master_df_two_longs = pd.read_csv('two_longs.csv',index_col=0)\n",
    "# master_df_two_shorts = pd.read_csv('two_shorts.csv',index_col=0)\n",
    "# master_df_three_longs = pd.read_csv('three_longs.csv',index_col=0)\n",
    "# master_df_three_shorts = pd.read_csv('three_shorts.csv',index_col=0)"
   ]
  },
  {
   "cell_type": "code",
   "execution_count": 3,
   "metadata": {},
   "outputs": [
    {
     "ename": "NameError",
     "evalue": "name 'master_df_one_longs' is not defined",
     "output_type": "error",
     "traceback": [
      "\u001b[1;31m---------------------------------------------------------------------------\u001b[0m",
      "\u001b[1;31mNameError\u001b[0m                                 Traceback (most recent call last)",
      "\u001b[1;32m<ipython-input-3-761a67ad5911>\u001b[0m in \u001b[0;36m<module>\u001b[1;34m()\u001b[0m\n\u001b[1;32m----> 1\u001b[1;33m \u001b[0mmaster_df_one_longs\u001b[0m\u001b[1;33m[\u001b[0m\u001b[1;34m'pnl'\u001b[0m\u001b[1;33m]\u001b[0m \u001b[1;33m=\u001b[0m \u001b[0mmaster_df_one_longs\u001b[0m\u001b[1;33m[\u001b[0m\u001b[1;34m'one_long_closes'\u001b[0m\u001b[1;33m]\u001b[0m\u001b[1;33m-\u001b[0m\u001b[0mmaster_df_one_longs\u001b[0m\u001b[1;33m[\u001b[0m\u001b[1;34m'one_long_opens'\u001b[0m\u001b[1;33m]\u001b[0m\u001b[1;33m\u001b[0m\u001b[0m\n\u001b[0m\u001b[0;32m      2\u001b[0m \u001b[0mmaster_df_one_shorts\u001b[0m\u001b[1;33m[\u001b[0m\u001b[1;34m'pnl'\u001b[0m\u001b[1;33m]\u001b[0m \u001b[1;33m=\u001b[0m \u001b[0mmaster_df_one_shorts\u001b[0m\u001b[1;33m[\u001b[0m\u001b[1;34m'one_short_opens'\u001b[0m\u001b[1;33m]\u001b[0m\u001b[1;33m-\u001b[0m\u001b[0mmaster_df_one_shorts\u001b[0m\u001b[1;33m[\u001b[0m\u001b[1;34m'one_short_closes'\u001b[0m\u001b[1;33m]\u001b[0m\u001b[1;33m\u001b[0m\u001b[0m\n\u001b[0;32m      3\u001b[0m \u001b[0mmaster_df_two_longs\u001b[0m\u001b[1;33m[\u001b[0m\u001b[1;34m'pnl'\u001b[0m\u001b[1;33m]\u001b[0m \u001b[1;33m=\u001b[0m \u001b[0mmaster_df_two_longs\u001b[0m\u001b[1;33m[\u001b[0m\u001b[1;34m'two_long_closes'\u001b[0m\u001b[1;33m]\u001b[0m\u001b[1;33m-\u001b[0m\u001b[0mmaster_df_two_longs\u001b[0m\u001b[1;33m[\u001b[0m\u001b[1;34m'two_long_opens'\u001b[0m\u001b[1;33m]\u001b[0m\u001b[1;33m\u001b[0m\u001b[0m\n\u001b[0;32m      4\u001b[0m \u001b[0mmaster_df_two_shorts\u001b[0m\u001b[1;33m[\u001b[0m\u001b[1;34m'pnl'\u001b[0m\u001b[1;33m]\u001b[0m \u001b[1;33m=\u001b[0m \u001b[0mmaster_df_two_shorts\u001b[0m\u001b[1;33m[\u001b[0m\u001b[1;34m'two_short_opens'\u001b[0m\u001b[1;33m]\u001b[0m\u001b[1;33m-\u001b[0m\u001b[0mmaster_df_two_shorts\u001b[0m\u001b[1;33m[\u001b[0m\u001b[1;34m'two_short_closes'\u001b[0m\u001b[1;33m]\u001b[0m\u001b[1;33m\u001b[0m\u001b[0m\n\u001b[0;32m      5\u001b[0m \u001b[0mmaster_df_three_longs\u001b[0m\u001b[1;33m[\u001b[0m\u001b[1;34m'pnl'\u001b[0m\u001b[1;33m]\u001b[0m \u001b[1;33m=\u001b[0m \u001b[0mmaster_df_three_longs\u001b[0m\u001b[1;33m[\u001b[0m\u001b[1;34m'three_long_closes'\u001b[0m\u001b[1;33m]\u001b[0m\u001b[1;33m-\u001b[0m\u001b[0mmaster_df_three_longs\u001b[0m\u001b[1;33m[\u001b[0m\u001b[1;34m'three_long_opens'\u001b[0m\u001b[1;33m]\u001b[0m\u001b[1;33m\u001b[0m\u001b[0m\n",
      "\u001b[1;31mNameError\u001b[0m: name 'master_df_one_longs' is not defined"
     ]
    }
   ],
   "source": [
    "master_df_one_longs['pnl'] = master_df_one_longs['one_long_closes']-master_df_one_longs['one_long_opens']\n",
    "master_df_one_shorts['pnl'] = master_df_one_shorts['one_short_opens']-master_df_one_shorts['one_short_closes']\n",
    "master_df_two_longs['pnl'] = master_df_two_longs['two_long_closes']-master_df_two_longs['two_long_opens']\n",
    "master_df_two_shorts['pnl'] = master_df_two_shorts['two_short_opens']-master_df_two_shorts['two_short_closes']\n",
    "master_df_three_longs['pnl'] = master_df_three_longs['three_long_closes']-master_df_three_longs['three_long_opens']\n",
    "master_df_three_shorts['pnl'] = master_df_three_shorts['three_short_opens']-master_df_three_shorts['three_short_closes']"
   ]
  },
  {
   "cell_type": "code",
   "execution_count": 4,
   "metadata": {},
   "outputs": [
    {
     "ename": "NameError",
     "evalue": "name 'master_df_one_longs' is not defined",
     "output_type": "error",
     "traceback": [
      "\u001b[1;31m---------------------------------------------------------------------------\u001b[0m",
      "\u001b[1;31mNameError\u001b[0m                                 Traceback (most recent call last)",
      "\u001b[1;32m<ipython-input-4-02144209915f>\u001b[0m in \u001b[0;36m<module>\u001b[1;34m()\u001b[0m\n\u001b[1;32m----> 1\u001b[1;33m \u001b[0mmaster_df_one_longs\u001b[0m\u001b[1;33m\u001b[0m\u001b[0m\n\u001b[0m",
      "\u001b[1;31mNameError\u001b[0m: name 'master_df_one_longs' is not defined"
     ]
    }
   ],
   "source": [
    "master_df_one_longs"
   ]
  },
  {
   "cell_type": "code",
   "execution_count": 5,
   "metadata": {},
   "outputs": [
    {
     "ename": "NameError",
     "evalue": "name 'master_df_one_shorts' is not defined",
     "output_type": "error",
     "traceback": [
      "\u001b[1;31m---------------------------------------------------------------------------\u001b[0m",
      "\u001b[1;31mNameError\u001b[0m                                 Traceback (most recent call last)",
      "\u001b[1;32m<ipython-input-5-16a0caf94ee1>\u001b[0m in \u001b[0;36m<module>\u001b[1;34m()\u001b[0m\n\u001b[1;32m----> 1\u001b[1;33m \u001b[0mmaster_df_one_shorts\u001b[0m\u001b[1;33m\u001b[0m\u001b[0m\n\u001b[0m",
      "\u001b[1;31mNameError\u001b[0m: name 'master_df_one_shorts' is not defined"
     ]
    }
   ],
   "source": [
    "master_df_one_shorts"
   ]
  },
  {
   "cell_type": "code",
   "execution_count": 6,
   "metadata": {
    "scrolled": true
   },
   "outputs": [
    {
     "ename": "NameError",
     "evalue": "name 'master_df_two_longs' is not defined",
     "output_type": "error",
     "traceback": [
      "\u001b[1;31m---------------------------------------------------------------------------\u001b[0m",
      "\u001b[1;31mNameError\u001b[0m                                 Traceback (most recent call last)",
      "\u001b[1;32m<ipython-input-6-bcb1f2d7734f>\u001b[0m in \u001b[0;36m<module>\u001b[1;34m()\u001b[0m\n\u001b[1;32m----> 1\u001b[1;33m \u001b[0mmaster_df_two_longs\u001b[0m\u001b[1;33m\u001b[0m\u001b[0m\n\u001b[0m",
      "\u001b[1;31mNameError\u001b[0m: name 'master_df_two_longs' is not defined"
     ]
    }
   ],
   "source": [
    "master_df_two_longs"
   ]
  },
  {
   "cell_type": "code",
   "execution_count": 7,
   "metadata": {},
   "outputs": [
    {
     "ename": "NameError",
     "evalue": "name 'master_df_two_shorts' is not defined",
     "output_type": "error",
     "traceback": [
      "\u001b[1;31m---------------------------------------------------------------------------\u001b[0m",
      "\u001b[1;31mNameError\u001b[0m                                 Traceback (most recent call last)",
      "\u001b[1;32m<ipython-input-7-ead49deb5b97>\u001b[0m in \u001b[0;36m<module>\u001b[1;34m()\u001b[0m\n\u001b[1;32m----> 1\u001b[1;33m \u001b[0mmaster_df_two_shorts\u001b[0m\u001b[1;33m\u001b[0m\u001b[0m\n\u001b[0m",
      "\u001b[1;31mNameError\u001b[0m: name 'master_df_two_shorts' is not defined"
     ]
    }
   ],
   "source": [
    "master_df_two_shorts"
   ]
  },
  {
   "cell_type": "code",
   "execution_count": 8,
   "metadata": {},
   "outputs": [
    {
     "ename": "NameError",
     "evalue": "name 'master_df_three_longs' is not defined",
     "output_type": "error",
     "traceback": [
      "\u001b[1;31m---------------------------------------------------------------------------\u001b[0m",
      "\u001b[1;31mNameError\u001b[0m                                 Traceback (most recent call last)",
      "\u001b[1;32m<ipython-input-8-4880a011e207>\u001b[0m in \u001b[0;36m<module>\u001b[1;34m()\u001b[0m\n\u001b[1;32m----> 1\u001b[1;33m \u001b[0mmaster_df_three_longs\u001b[0m\u001b[1;33m\u001b[0m\u001b[0m\n\u001b[0m",
      "\u001b[1;31mNameError\u001b[0m: name 'master_df_three_longs' is not defined"
     ]
    }
   ],
   "source": [
    "master_df_three_longs"
   ]
  },
  {
   "cell_type": "code",
   "execution_count": null,
   "metadata": {},
   "outputs": [],
   "source": [
    "master_df_three_shorts"
   ]
  },
  {
   "cell_type": "code",
   "execution_count": null,
   "metadata": {},
   "outputs": [],
   "source": [
    "master_df_one_longs['pnl'].sum()"
   ]
  },
  {
   "cell_type": "code",
   "execution_count": null,
   "metadata": {},
   "outputs": [],
   "source": [
    "master_df_one_shorts['pnl'].sum()"
   ]
  },
  {
   "cell_type": "code",
   "execution_count": null,
   "metadata": {},
   "outputs": [],
   "source": [
    "master_df_two_longs['pnl'].sum()"
   ]
  },
  {
   "cell_type": "code",
   "execution_count": null,
   "metadata": {},
   "outputs": [],
   "source": [
    "master_df_two_shorts['pnl'].sum()"
   ]
  },
  {
   "cell_type": "code",
   "execution_count": null,
   "metadata": {},
   "outputs": [],
   "source": [
    "master_df_three_longs['pnl'].sum()"
   ]
  },
  {
   "cell_type": "code",
   "execution_count": null,
   "metadata": {},
   "outputs": [],
   "source": [
    "master_df_three_shorts['pnl'].sum()"
   ]
  },
  {
   "cell_type": "code",
   "execution_count": null,
   "metadata": {},
   "outputs": [],
   "source": []
  },
  {
   "cell_type": "code",
   "execution_count": 9,
   "metadata": {},
   "outputs": [
    {
     "ename": "NameError",
     "evalue": "name 'master_spy_df' is not defined",
     "output_type": "error",
     "traceback": [
      "\u001b[1;31m---------------------------------------------------------------------------\u001b[0m",
      "\u001b[1;31mNameError\u001b[0m                                 Traceback (most recent call last)",
      "\u001b[1;32m<ipython-input-9-0b357aacf9b4>\u001b[0m in \u001b[0;36m<module>\u001b[1;34m()\u001b[0m\n\u001b[1;32m----> 1\u001b[1;33m \u001b[0mmaster_spy_df\u001b[0m\u001b[1;33m[\u001b[0m\u001b[1;34m'prices'\u001b[0m\u001b[1;33m]\u001b[0m\u001b[1;33m.\u001b[0m\u001b[0mastype\u001b[0m\u001b[1;33m(\u001b[0m\u001b[0mdtype\u001b[0m\u001b[1;33m=\u001b[0m\u001b[1;34m'float'\u001b[0m\u001b[1;33m)\u001b[0m\u001b[1;33m.\u001b[0m\u001b[0mplot\u001b[0m\u001b[1;33m(\u001b[0m\u001b[1;33m)\u001b[0m\u001b[1;33m\u001b[0m\u001b[0m\n\u001b[0m",
      "\u001b[1;31mNameError\u001b[0m: name 'master_spy_df' is not defined"
     ]
    }
   ],
   "source": [
    "master_spy_df['prices'].astype(dtype='float').plot()"
   ]
  },
  {
   "cell_type": "code",
   "execution_count": null,
   "metadata": {},
   "outputs": [],
   "source": [
    "master_vix_df['prices'].plot()"
   ]
  },
  {
   "cell_type": "code",
   "execution_count": 4,
   "metadata": {},
   "outputs": [],
   "source": [
    "master_spy_df['change'] = master_spy_df['prices'].astype(dtype='float').diff(periods=1)\n",
    "master_spy_df['2_min_change'] = master_spy_df['prices'].astype(dtype='float').diff(periods=2)\n",
    "#master_vix_df['change'] = master_vix_df['prices'].diff(periods=1)\n",
    "master_spy_df['5_min_change'] = master_spy_df['prices'].astype(dtype='float').diff(periods=5)\n",
    "master_spy_df['10_min_change'] = master_spy_df['prices'].astype(dtype='float').diff(periods=10)\n",
    "master_spy_df['15_min_change'] = master_spy_df['prices'].astype(dtype='float').diff(periods=15)\n",
    "master_spy_df['20_min_change'] = master_spy_df['prices'].astype(dtype='float').diff(periods=20)\n",
    "master_spy_df['10_ma'] = master_spy_df['prices'].rolling(10).mean()\n",
    "master_spy_df['20_ma'] = master_spy_df['prices'].rolling(20).mean()\n",
    "master_spy_df['50_ma'] = master_spy_df['prices'].rolling(50).mean()\n",
    "master_spy_df['100_ma'] = master_spy_df['prices'].rolling(100).mean()\n",
    "master_spy_df['200_ma'] = master_spy_df['prices'].rolling(200).mean()\n",
    "master_spy_df['fast'] = master_spy_df['prices'].ewm(span=12, min_periods=12).mean()\n",
    "master_spy_df['slow'] = master_spy_df['prices'].ewm(span=26, min_periods=26).mean()\n",
    "master_spy_df['macd'] = master_spy_df['fast']-master_spy_df['slow']\n",
    "master_spy_df['signal'] = master_spy_df['macd'].ewm(span=9).mean()\n",
    "master_spy_df['BB_20_upper_2std'] = (master_spy_df['prices'].rolling(20).std()*2) + master_spy_df['20_ma']\n",
    "master_spy_df['BB_20_lower_2std'] = master_spy_df['20_ma'] - (master_spy_df['prices'].rolling(20).std()*2)\n",
    "# master_vix_df['5_ma'] = master_vix_df['prices'].rolling(5).mean()\n",
    "# master_vix_df['9_ma'] = master_vix_df['prices'].rolling(9).mean()\n",
    "# master_vix_df['10_ma'] = master_vix_df['prices'].rolling(10).mean()\n",
    "# master_vix_df['20_ma'] = master_vix_df['prices'].rolling(20).mean()\n",
    "# master_vix_df['50_ma'] = master_vix_df['prices'].rolling(50).mean()\n",
    "# master_vix_df['100_ma'] = master_vix_df['prices'].rolling(100).mean()"
   ]
  },
  {
   "cell_type": "code",
   "execution_count": null,
   "metadata": {},
   "outputs": [],
   "source": [
    "#####################################################\n",
    "##vix 20-50 bullish cross (expect SPY to fall)#######\n",
    "#####################################################\n",
    "minute_changes = []\n",
    "five_minute_changes = []\n",
    "ten_minute_changes = []\n",
    "fifteen_minute_changes = []\n",
    "twenty_minute_changes = []\n",
    "for i in master_vix_df.index:\n",
    "    if master_vix_df['20_ma'].iloc[i] > master_vix_df['50_ma'].iloc[i] and master_vix_df['20_ma'].iloc[i-1] < master_vix_df['50_ma'].iloc[i-1]:\n",
    "        try:\n",
    "            minute_changes.append(master_spy_df['change'].iloc[i+1])\n",
    "            five_minute_changes.append(master_spy_df['5_min_change'].iloc[i+5])\n",
    "            ten_minute_changes.append(master_spy_df['10_min_change'].iloc[i+10])\n",
    "            fifteen_minute_changes.append(master_spy_df['15_min_change'].iloc[i+15])\n",
    "            twenty_minute_changes.append(master_spy_df['20_min_change'].iloc[i+20])\n",
    "        except:\n",
    "            pass\n",
    "minute_changes = np.array(minute_changes)\n",
    "five_minute_changes = np.array(five_minute_changes)\n",
    "ten_minute_changes = np.array(ten_minute_changes)\n",
    "fifteen_minute_changes = np.array(fifteen_minute_changes)\n",
    "twenty_minute_changes = np.array(twenty_minute_changes)"
   ]
  },
  {
   "cell_type": "code",
   "execution_count": null,
   "metadata": {
    "scrolled": true
   },
   "outputs": [],
   "source": [
    "minute_changes.mean()"
   ]
  },
  {
   "cell_type": "code",
   "execution_count": null,
   "metadata": {},
   "outputs": [],
   "source": [
    "five_minute_changes.mean()"
   ]
  },
  {
   "cell_type": "code",
   "execution_count": null,
   "metadata": {},
   "outputs": [],
   "source": [
    "ten_minute_changes.mean()"
   ]
  },
  {
   "cell_type": "code",
   "execution_count": null,
   "metadata": {},
   "outputs": [],
   "source": [
    "fifteen_minute_changes.mean()"
   ]
  },
  {
   "cell_type": "code",
   "execution_count": null,
   "metadata": {},
   "outputs": [],
   "source": [
    "twenty_minute_changes.mean()"
   ]
  },
  {
   "cell_type": "code",
   "execution_count": null,
   "metadata": {},
   "outputs": [],
   "source": [
    "minute_changes.std()"
   ]
  },
  {
   "cell_type": "code",
   "execution_count": null,
   "metadata": {},
   "outputs": [],
   "source": [
    "five_minute_changes.std()"
   ]
  },
  {
   "cell_type": "code",
   "execution_count": null,
   "metadata": {},
   "outputs": [],
   "source": [
    "ten_minute_changes.std()"
   ]
  },
  {
   "cell_type": "code",
   "execution_count": null,
   "metadata": {},
   "outputs": [],
   "source": [
    "fifteen_minute_changes.std()"
   ]
  },
  {
   "cell_type": "code",
   "execution_count": null,
   "metadata": {},
   "outputs": [],
   "source": [
    "twenty_minute_changes.std()"
   ]
  },
  {
   "cell_type": "code",
   "execution_count": null,
   "metadata": {},
   "outputs": [],
   "source": [
    "master_spy_df['15_min_change'].astype(dtype='float').std()"
   ]
  },
  {
   "cell_type": "code",
   "execution_count": null,
   "metadata": {},
   "outputs": [],
   "source": [
    "#####################################################\n",
    "##vix 20-50 bearish cross (expect SPY to rise)#######\n",
    "#####################################################\n",
    "minute_changes = []\n",
    "five_minute_changes = []\n",
    "ten_minute_changes = []\n",
    "fifteen_minute_changes = []\n",
    "twenty_minute_changes = []\n",
    "for i in master_vix_df.index:\n",
    "    if master_vix_df['20_ma'].iloc[i] < master_vix_df['50_ma'].iloc[i] and master_vix_df['20_ma'].iloc[i-1] > master_vix_df['50_ma'].iloc[i-1]:\n",
    "        try:\n",
    "            minute_changes.append(master_spy_df['change'].iloc[i+1])\n",
    "            five_minute_changes.append(master_spy_df['5_min_change'].iloc[i+5])\n",
    "            ten_minute_changes.append(master_spy_df['10_min_change'].iloc[i+10])\n",
    "            fifteen_minute_changes.append(master_spy_df['15_min_change'].iloc[i+15])\n",
    "            twenty_minute_changes.append(master_spy_df['20_min_change'].iloc[i+20])\n",
    "        except:\n",
    "            pass\n",
    "minute_changes = np.array(minute_changes)\n",
    "five_minute_changes = np.array(five_minute_changes)\n",
    "ten_minute_changes = np.array(ten_minute_changes)\n",
    "fifteen_minute_changes = np.array(fifteen_minute_changes)\n",
    "twenty_minute_changes = np.array(twenty_minute_changes)"
   ]
  },
  {
   "cell_type": "code",
   "execution_count": null,
   "metadata": {},
   "outputs": [],
   "source": [
    "minute_changes.mean()"
   ]
  },
  {
   "cell_type": "code",
   "execution_count": null,
   "metadata": {},
   "outputs": [],
   "source": [
    "five_minute_changes.mean()"
   ]
  },
  {
   "cell_type": "code",
   "execution_count": null,
   "metadata": {},
   "outputs": [],
   "source": [
    "ten_minute_changes.mean()"
   ]
  },
  {
   "cell_type": "code",
   "execution_count": null,
   "metadata": {},
   "outputs": [],
   "source": [
    "twenty_minute_changes.mean()"
   ]
  },
  {
   "cell_type": "code",
   "execution_count": null,
   "metadata": {},
   "outputs": [],
   "source": [
    "#####################################################\n",
    "##vix 9-20 bullish cross (expect SPY to fall)#######\n",
    "#####################################################\n",
    "minute_changes = []\n",
    "five_minute_changes = []\n",
    "ten_minute_changes = []\n",
    "fifteen_minute_changes = []\n",
    "twenty_minute_changes = []\n",
    "for i in master_vix_df.index:\n",
    "    if master_vix_df['9_ma'].iloc[i] > master_vix_df['20_ma'].iloc[i] and master_vix_df['9_ma'].iloc[i-1] < master_vix_df['20_ma'].iloc[i-1]:\n",
    "        try:\n",
    "            minute_changes.append(master_spy_df['change'].iloc[i+1])\n",
    "            five_minute_changes.append(master_spy_df['5_min_change'].iloc[i+5])\n",
    "            ten_minute_changes.append(master_spy_df['10_min_change'].iloc[i+10])\n",
    "            fifteen_minute_changes.append(master_spy_df['15_min_change'].iloc[i+15])\n",
    "            twenty_minute_changes.append(master_spy_df['20_min_change'].iloc[i+20])\n",
    "        except:\n",
    "            pass\n",
    "minute_changes = np.array(minute_changes)\n",
    "five_minute_changes = np.array(five_minute_changes)\n",
    "ten_minute_changes = np.array(ten_minute_changes)\n",
    "fifteen_minute_changes = np.array(fifteen_minute_changes)\n",
    "twenty_minute_changes = np.array(twenty_minute_changes)"
   ]
  },
  {
   "cell_type": "code",
   "execution_count": null,
   "metadata": {},
   "outputs": [],
   "source": [
    "minute_changes.mean()"
   ]
  },
  {
   "cell_type": "code",
   "execution_count": null,
   "metadata": {},
   "outputs": [],
   "source": [
    "five_minute_changes.mean()"
   ]
  },
  {
   "cell_type": "code",
   "execution_count": null,
   "metadata": {},
   "outputs": [],
   "source": [
    "ten_minute_changes.mean()"
   ]
  },
  {
   "cell_type": "code",
   "execution_count": null,
   "metadata": {},
   "outputs": [],
   "source": [
    "fifteen_minute_changes.mean()"
   ]
  },
  {
   "cell_type": "code",
   "execution_count": null,
   "metadata": {},
   "outputs": [],
   "source": [
    "twenty_minute_changes.mean()"
   ]
  },
  {
   "cell_type": "code",
   "execution_count": null,
   "metadata": {},
   "outputs": [],
   "source": [
    "minute_changes"
   ]
  },
  {
   "cell_type": "code",
   "execution_count": null,
   "metadata": {},
   "outputs": [],
   "source": [
    "five_minute_changes"
   ]
  },
  {
   "cell_type": "code",
   "execution_count": null,
   "metadata": {},
   "outputs": [],
   "source": [
    "ten_minute_changes"
   ]
  },
  {
   "cell_type": "code",
   "execution_count": null,
   "metadata": {},
   "outputs": [],
   "source": [
    "#####################################################\n",
    "##vix 9-20 bearish cross (expect SPY to rise)#######\n",
    "#####################################################\n",
    "minute_changes = []\n",
    "five_minute_changes = []\n",
    "ten_minute_changes = []\n",
    "fifteen_minute_changes = []\n",
    "twenty_minute_changes = []\n",
    "for i in master_vix_df.index:\n",
    "    if master_vix_df['9_ma'].iloc[i] < master_vix_df['20_ma'].iloc[i] and master_vix_df['9_ma'].iloc[i-1] > master_vix_df['20_ma'].iloc[i-1]:\n",
    "        try:\n",
    "            minute_changes.append(master_spy_df['change'].iloc[i+1])\n",
    "            five_minute_changes.append(master_spy_df['5_min_change'].iloc[i+5])\n",
    "            ten_minute_changes.append(master_spy_df['10_min_change'].iloc[i+10])\n",
    "            fifteen_minute_changes.append(master_spy_df['15_min_change'].iloc[i+15])\n",
    "            twenty_minute_changes.append(master_spy_df['20_min_change'].iloc[i+20])\n",
    "        except:\n",
    "            pass\n",
    "minute_changes = np.array(minute_changes)\n",
    "five_minute_changes = np.array(five_minute_changes)\n",
    "ten_minute_changes = np.array(ten_minute_changes)\n",
    "fifteen_minute_changes = np.array(fifteen_minute_changes)\n",
    "twenty_minute_changes = np.array(twenty_minute_changes)"
   ]
  },
  {
   "cell_type": "code",
   "execution_count": null,
   "metadata": {},
   "outputs": [],
   "source": [
    "minute_changes.mean()"
   ]
  },
  {
   "cell_type": "code",
   "execution_count": null,
   "metadata": {},
   "outputs": [],
   "source": [
    "five_minute_changes.mean()"
   ]
  },
  {
   "cell_type": "code",
   "execution_count": null,
   "metadata": {},
   "outputs": [],
   "source": [
    "ten_minute_changes.mean()"
   ]
  },
  {
   "cell_type": "code",
   "execution_count": null,
   "metadata": {},
   "outputs": [],
   "source": [
    "fifteen_minute_changes.mean()"
   ]
  },
  {
   "cell_type": "code",
   "execution_count": null,
   "metadata": {},
   "outputs": [],
   "source": [
    "twenty_minute_changes.mean()"
   ]
  },
  {
   "cell_type": "code",
   "execution_count": null,
   "metadata": {},
   "outputs": [],
   "source": [
    "len(minute_changes[minute_changes>0])/len(minute_changes)"
   ]
  },
  {
   "cell_type": "code",
   "execution_count": null,
   "metadata": {},
   "outputs": [],
   "source": [
    "len(five_minute_changes[five_minute_changes>0])/len(five_minute_changes)"
   ]
  },
  {
   "cell_type": "code",
   "execution_count": null,
   "metadata": {},
   "outputs": [],
   "source": [
    "len(ten_minute_changes[ten_minute_changes>0])/len(ten_minute_changes)"
   ]
  },
  {
   "cell_type": "code",
   "execution_count": null,
   "metadata": {},
   "outputs": [],
   "source": [
    "len(fifteen_minute_changes[fifteen_minute_changes>0])/len(fifteen_minute_changes)"
   ]
  },
  {
   "cell_type": "code",
   "execution_count": null,
   "metadata": {},
   "outputs": [],
   "source": [
    "len(twenty_minute_changes[twenty_minute_changes>0])/len(twenty_minute_changes)"
   ]
  },
  {
   "cell_type": "code",
   "execution_count": null,
   "metadata": {},
   "outputs": [],
   "source": []
  },
  {
   "cell_type": "code",
   "execution_count": null,
   "metadata": {},
   "outputs": [],
   "source": [
    "master_spy_df.head()"
   ]
  },
  {
   "cell_type": "code",
   "execution_count": null,
   "metadata": {},
   "outputs": [],
   "source": []
  },
  {
   "cell_type": "code",
   "execution_count": null,
   "metadata": {},
   "outputs": [],
   "source": [
    "change_differences.mean()"
   ]
  },
  {
   "cell_type": "code",
   "execution_count": null,
   "metadata": {},
   "outputs": [],
   "source": []
  },
  {
   "cell_type": "code",
   "execution_count": null,
   "metadata": {},
   "outputs": [],
   "source": [
    "master_spy_df.tail()"
   ]
  },
  {
   "cell_type": "code",
   "execution_count": null,
   "metadata": {},
   "outputs": [],
   "source": [
    "master_vix_df.tail()"
   ]
  },
  {
   "cell_type": "code",
   "execution_count": null,
   "metadata": {},
   "outputs": [],
   "source": [
    "master_spy_df.head()"
   ]
  },
  {
   "cell_type": "code",
   "execution_count": null,
   "metadata": {},
   "outputs": [],
   "source": [
    "master_vix_df.head()"
   ]
  },
  {
   "cell_type": "code",
   "execution_count": null,
   "metadata": {},
   "outputs": [],
   "source": [
    "for i in master_vix_df.index: \n",
    "    if master_vix_df['times'][i] not in list(master_spy_df['times']):\n",
    "        master_vix_df.drop(index=i,inplace=True)\n",
    "for i in master_spy_df.index: \n",
    "    if master_spy_df['times'][i] not in list(master_vix_df['times']):\n",
    "        master_spy_df.drop(index=i,inplace=True)"
   ]
  },
  {
   "cell_type": "code",
   "execution_count": null,
   "metadata": {},
   "outputs": [],
   "source": [
    "master_vix_df.tail()"
   ]
  },
  {
   "cell_type": "code",
   "execution_count": null,
   "metadata": {},
   "outputs": [],
   "source": [
    "master_spy_df.tail()"
   ]
  },
  {
   "cell_type": "code",
   "execution_count": null,
   "metadata": {},
   "outputs": [],
   "source": []
  },
  {
   "cell_type": "code",
   "execution_count": null,
   "metadata": {},
   "outputs": [],
   "source": [
    "change_differences = (master_vix_df['change']*-1) - master_spy_df['change']"
   ]
  },
  {
   "cell_type": "code",
   "execution_count": null,
   "metadata": {},
   "outputs": [],
   "source": [
    "z_scores = (change_differences - change_differences.mean())/change_differences.std()"
   ]
  },
  {
   "cell_type": "code",
   "execution_count": null,
   "metadata": {},
   "outputs": [],
   "source": [
    "master_spy_df.reset_index(inplace=True)\n",
    "master_vix_df.reset_index(inplace=True)"
   ]
  },
  {
   "cell_type": "code",
   "execution_count": null,
   "metadata": {},
   "outputs": [],
   "source": [
    "change_differences = (master_vix_df['change']*-1) - master_spy_df['change']\n",
    "change_differences.dropna(inplace=True)\n",
    "z_scores = (change_differences - change_differences.mean())/change_differences.std()"
   ]
  },
  {
   "cell_type": "code",
   "execution_count": null,
   "metadata": {},
   "outputs": [],
   "source": [
    "change_differences.std()"
   ]
  },
  {
   "cell_type": "code",
   "execution_count": null,
   "metadata": {},
   "outputs": [],
   "source": [
    "previous_change_differences = []\n",
    "next_change_differences = []\n",
    "z_score_location = []\n",
    "spy_changes = []\n",
    "vix_changes = []\n",
    "\n",
    "for i in z_scores.index:\n",
    "    if z_scores[i] > 2:\n",
    "        previous_change_differences.append(change_differences[i-1])\n",
    "        next_change_differences.append(change_differences[i+1])\n",
    "        z_score_location.append(master_spy_df['times'][i])\n",
    "        spy_changes.append(master_spy_df['change'][i+1])\n",
    "        vix_changes.append(master_vix_df['change'][i+1])\n",
    "        \n",
    "spy_changes = np.array(spy_changes)\n",
    "vix_changes = np.array(vix_changes)\n",
    "previous_change_differences = np.array(previous_change_differences)\n",
    "next_change_differences = np.array(next_change_differences)"
   ]
  },
  {
   "cell_type": "code",
   "execution_count": null,
   "metadata": {},
   "outputs": [],
   "source": [
    "len(previous_change_differences)"
   ]
  },
  {
   "cell_type": "code",
   "execution_count": null,
   "metadata": {},
   "outputs": [],
   "source": [
    "len(next_change_differences)"
   ]
  },
  {
   "cell_type": "code",
   "execution_count": null,
   "metadata": {},
   "outputs": [],
   "source": [
    "next_change_differences"
   ]
  },
  {
   "cell_type": "code",
   "execution_count": null,
   "metadata": {},
   "outputs": [],
   "source": [
    "previous_change_differences"
   ]
  },
  {
   "cell_type": "code",
   "execution_count": null,
   "metadata": {},
   "outputs": [],
   "source": [
    "next_change_differences.mean()"
   ]
  },
  {
   "cell_type": "code",
   "execution_count": null,
   "metadata": {},
   "outputs": [],
   "source": [
    "previous_change_differences.mean()"
   ]
  },
  {
   "cell_type": "code",
   "execution_count": null,
   "metadata": {},
   "outputs": [],
   "source": [
    "next_change_differences.sum()"
   ]
  },
  {
   "cell_type": "code",
   "execution_count": null,
   "metadata": {},
   "outputs": [],
   "source": [
    "change_differences.mean()"
   ]
  },
  {
   "cell_type": "code",
   "execution_count": null,
   "metadata": {},
   "outputs": [],
   "source": [
    "len(next_change_differences[next_change_differences<-0.01])/len(next_change_differences)"
   ]
  },
  {
   "cell_type": "code",
   "execution_count": null,
   "metadata": {},
   "outputs": [],
   "source": [
    "next_change_differences.sum()"
   ]
  },
  {
   "cell_type": "code",
   "execution_count": null,
   "metadata": {},
   "outputs": [],
   "source": [
    "spy_changes.mean()"
   ]
  },
  {
   "cell_type": "code",
   "execution_count": null,
   "metadata": {},
   "outputs": [],
   "source": [
    "spy_changes.sum()"
   ]
  },
  {
   "cell_type": "code",
   "execution_count": null,
   "metadata": {},
   "outputs": [],
   "source": [
    "vix_changes.mean()"
   ]
  },
  {
   "cell_type": "code",
   "execution_count": null,
   "metadata": {},
   "outputs": [],
   "source": [
    "vix_changes.sum()"
   ]
  },
  {
   "cell_type": "code",
   "execution_count": null,
   "metadata": {},
   "outputs": [],
   "source": [
    "len(vix_changes[vix_changes>0])/len(vix_changes)"
   ]
  },
  {
   "cell_type": "code",
   "execution_count": null,
   "metadata": {},
   "outputs": [],
   "source": [
    "len(spy_changes[spy_changes<0])/len(spy_changes)"
   ]
  },
  {
   "cell_type": "code",
   "execution_count": null,
   "metadata": {},
   "outputs": [],
   "source": []
  },
  {
   "cell_type": "code",
   "execution_count": null,
   "metadata": {},
   "outputs": [],
   "source": []
  },
  {
   "cell_type": "code",
   "execution_count": null,
   "metadata": {},
   "outputs": [],
   "source": [
    "previous_change_differences = []\n",
    "next_change_differences = []\n",
    "z_score_location = []\n",
    "spy_changes = []\n",
    "vix_changes = []\n",
    "\n",
    "for i in z_scores.index:\n",
    "    if z_scores[i] < -2:\n",
    "        try:\n",
    "            previous_change_differences.append(change_differences[i-1])\n",
    "            next_change_differences.append(change_differences[i+1])\n",
    "            z_score_location.append(i)\n",
    "            spy_changes.append(master_spy_df['change'][i+1])\n",
    "            vix_changes.append(master_vix_df['change'][i+1])\n",
    "        except:\n",
    "            print('no')\n",
    "            pass\n",
    "        \n",
    "spy_changes = np.array(spy_changes)\n",
    "vix_changes = np.array(vix_changes)\n",
    "previous_change_differences = np.array(previous_change_differences)\n",
    "next_change_differences = np.array(next_change_differences)\n",
    "    "
   ]
  },
  {
   "cell_type": "code",
   "execution_count": null,
   "metadata": {},
   "outputs": [],
   "source": [
    "len(previous_change_differences)"
   ]
  },
  {
   "cell_type": "code",
   "execution_count": null,
   "metadata": {},
   "outputs": [],
   "source": [
    "len(next_change_differences)"
   ]
  },
  {
   "cell_type": "code",
   "execution_count": null,
   "metadata": {},
   "outputs": [],
   "source": [
    "next_change_differences"
   ]
  },
  {
   "cell_type": "code",
   "execution_count": null,
   "metadata": {},
   "outputs": [],
   "source": [
    "previous_change_differences"
   ]
  },
  {
   "cell_type": "code",
   "execution_count": null,
   "metadata": {},
   "outputs": [],
   "source": [
    "next_change_differences.mean()"
   ]
  },
  {
   "cell_type": "code",
   "execution_count": null,
   "metadata": {},
   "outputs": [],
   "source": [
    "previous_change_differences.mean()"
   ]
  },
  {
   "cell_type": "code",
   "execution_count": null,
   "metadata": {},
   "outputs": [],
   "source": [
    "next_change_differences.sum()"
   ]
  },
  {
   "cell_type": "code",
   "execution_count": null,
   "metadata": {},
   "outputs": [],
   "source": [
    "change_differences.mean()"
   ]
  },
  {
   "cell_type": "code",
   "execution_count": null,
   "metadata": {},
   "outputs": [],
   "source": [
    "len(next_change_differences[next_change_differences>0.01])/len(next_change_differences)"
   ]
  },
  {
   "cell_type": "code",
   "execution_count": null,
   "metadata": {},
   "outputs": [],
   "source": [
    "next_change_differences.sum()"
   ]
  },
  {
   "cell_type": "code",
   "execution_count": null,
   "metadata": {},
   "outputs": [],
   "source": [
    "spy_changes.mean()"
   ]
  },
  {
   "cell_type": "code",
   "execution_count": null,
   "metadata": {},
   "outputs": [],
   "source": [
    "spy_changes.sum()"
   ]
  },
  {
   "cell_type": "code",
   "execution_count": null,
   "metadata": {},
   "outputs": [],
   "source": [
    "vix_changes.mean()"
   ]
  },
  {
   "cell_type": "code",
   "execution_count": null,
   "metadata": {},
   "outputs": [],
   "source": [
    "vix_changes.sum()"
   ]
  },
  {
   "cell_type": "code",
   "execution_count": null,
   "metadata": {},
   "outputs": [],
   "source": [
    "len(spy_changes[spy_changes > 0])/len(spy_changes)"
   ]
  },
  {
   "cell_type": "code",
   "execution_count": null,
   "metadata": {},
   "outputs": [],
   "source": [
    "len(vix_changes[vix_changes<0])/len(vix_changes)"
   ]
  },
  {
   "cell_type": "code",
   "execution_count": null,
   "metadata": {},
   "outputs": [],
   "source": [
    "master_spy_df['change'].sum()"
   ]
  },
  {
   "cell_type": "code",
   "execution_count": null,
   "metadata": {},
   "outputs": [],
   "source": [
    "spy_changes = []\n",
    "vix_changes = []\n",
    "\n",
    "mylist = []\n",
    "for i in master_spy_df['change'].index:\n",
    "    if master_spy_df['change'][i] > .20:\n",
    "        spy_changes.append(master_spy_df['change'][i+1])\n",
    "        vix_changes.append(master_vix_df['change'][i+1])\n",
    "        \n",
    "spy_changes = np.array(spy_changes)\n",
    "vix_changes = np.array(vix_changes)"
   ]
  },
  {
   "cell_type": "code",
   "execution_count": null,
   "metadata": {},
   "outputs": [],
   "source": [
    "len(spy_changes)"
   ]
  },
  {
   "cell_type": "code",
   "execution_count": null,
   "metadata": {},
   "outputs": [],
   "source": [
    "spy_changes[spy_changes>0].mean()"
   ]
  },
  {
   "cell_type": "code",
   "execution_count": null,
   "metadata": {},
   "outputs": [],
   "source": [
    "spy_changes.mean()"
   ]
  },
  {
   "cell_type": "code",
   "execution_count": null,
   "metadata": {},
   "outputs": [],
   "source": [
    "spy_changes.sum()"
   ]
  },
  {
   "cell_type": "code",
   "execution_count": null,
   "metadata": {},
   "outputs": [],
   "source": [
    "len(spy_changes[spy_changes<0])/len(spy_changes)"
   ]
  },
  {
   "cell_type": "code",
   "execution_count": null,
   "metadata": {},
   "outputs": [],
   "source": [
    "len(spy_changes[spy_changes>0])/len(spy_changes)"
   ]
  },
  {
   "cell_type": "code",
   "execution_count": null,
   "metadata": {},
   "outputs": [],
   "source": [
    "vix_changes.mean()"
   ]
  },
  {
   "cell_type": "code",
   "execution_count": null,
   "metadata": {},
   "outputs": [],
   "source": [
    "vix_changes.sum()"
   ]
  },
  {
   "cell_type": "code",
   "execution_count": null,
   "metadata": {},
   "outputs": [],
   "source": [
    "len(vix_changes[vix_changes<0])/len(vix_changes)"
   ]
  },
  {
   "cell_type": "code",
   "execution_count": null,
   "metadata": {},
   "outputs": [],
   "source": []
  },
  {
   "cell_type": "code",
   "execution_count": null,
   "metadata": {},
   "outputs": [],
   "source": [
    "spy_changes = []\n",
    "vix_changes = []\n",
    "\n",
    "mylist = []\n",
    "for i in master_spy_df['change'].index:\n",
    "    if master_spy_df['change'][i] < -.20:\n",
    "        spy_changes.append(master_spy_df['change'][i+1])\n",
    "        vix_changes.append(master_vix_df['change'][i+1])\n",
    "        \n",
    "spy_changes = np.array(spy_changes)\n",
    "vix_changes = np.array(vix_changes)"
   ]
  },
  {
   "cell_type": "code",
   "execution_count": null,
   "metadata": {},
   "outputs": [],
   "source": [
    "len(spy_changes)"
   ]
  },
  {
   "cell_type": "code",
   "execution_count": null,
   "metadata": {},
   "outputs": [],
   "source": [
    "spy_changes.mean()"
   ]
  },
  {
   "cell_type": "code",
   "execution_count": null,
   "metadata": {},
   "outputs": [],
   "source": [
    "spy_changes.sum()"
   ]
  },
  {
   "cell_type": "code",
   "execution_count": null,
   "metadata": {},
   "outputs": [],
   "source": [
    "vix_changes.mean()"
   ]
  },
  {
   "cell_type": "code",
   "execution_count": null,
   "metadata": {},
   "outputs": [],
   "source": [
    "vix_changes.sum()"
   ]
  },
  {
   "cell_type": "code",
   "execution_count": null,
   "metadata": {},
   "outputs": [],
   "source": [
    "len(spy_changes[spy_changes>0])/len(spy_changes)"
   ]
  },
  {
   "cell_type": "code",
   "execution_count": null,
   "metadata": {},
   "outputs": [],
   "source": [
    "len(vix_changes[vix_changes>0])/len(vix_changes)"
   ]
  },
  {
   "cell_type": "code",
   "execution_count": null,
   "metadata": {},
   "outputs": [],
   "source": [
    "master_vix_df['change'].std()*2"
   ]
  },
  {
   "cell_type": "code",
   "execution_count": null,
   "metadata": {},
   "outputs": [],
   "source": [
    "master_spy_df['change'].std()*2"
   ]
  },
  {
   "cell_type": "code",
   "execution_count": null,
   "metadata": {},
   "outputs": [],
   "source": [
    "spy_changes = []\n",
    "vix_changes = []\n",
    "\n",
    "mylist = []\n",
    "for i in master_spy_df['change'].index:\n",
    "    if master_spy_df['change'][i] > .10:\n",
    "        x +=1\n",
    "        spy_changes.append(master_spy_df['change'][i+1])\n",
    "        vix_changes.append(master_vix_df['change'][i+1])\n",
    "        \n",
    "spy_changes = np.array(spy_changes)\n",
    "vix_changes = np.array(vix_changes)"
   ]
  },
  {
   "cell_type": "code",
   "execution_count": null,
   "metadata": {},
   "outputs": [],
   "source": [
    "spy_changes.mean()"
   ]
  },
  {
   "cell_type": "code",
   "execution_count": null,
   "metadata": {},
   "outputs": [],
   "source": [
    "spy_changes.sum()"
   ]
  },
  {
   "cell_type": "code",
   "execution_count": null,
   "metadata": {},
   "outputs": [],
   "source": [
    "vix_changes.mean()"
   ]
  },
  {
   "cell_type": "code",
   "execution_count": null,
   "metadata": {},
   "outputs": [],
   "source": [
    "vix_changes.sum()"
   ]
  },
  {
   "cell_type": "code",
   "execution_count": null,
   "metadata": {},
   "outputs": [],
   "source": [
    "len(spy_changes)"
   ]
  },
  {
   "cell_type": "code",
   "execution_count": null,
   "metadata": {},
   "outputs": [],
   "source": [
    "len(spy_changes[spy_changes>0])/len(spy_changes)"
   ]
  },
  {
   "cell_type": "code",
   "execution_count": null,
   "metadata": {},
   "outputs": [],
   "source": [
    "len(vix_changes[vix_changes<0])/len(vix_changes)"
   ]
  },
  {
   "cell_type": "code",
   "execution_count": null,
   "metadata": {},
   "outputs": [],
   "source": [
    "spy_changes = []\n",
    "vix_changes = []\n",
    "\n",
    "mylist = []\n",
    "for i in master_spy_df['change'].index:\n",
    "    if master_spy_df['change'][i] < -.10:\n",
    "        x +=1\n",
    "        spy_changes.append(master_spy_df['change'][i+1])\n",
    "        vix_changes.append(master_vix_df['change'][i+1])\n",
    "\n",
    "spy_changes = np.array(spy_changes)\n",
    "vix_changes = np.array(vix_changes)"
   ]
  },
  {
   "cell_type": "code",
   "execution_count": null,
   "metadata": {},
   "outputs": [],
   "source": [
    "spy_changes.sum()"
   ]
  },
  {
   "cell_type": "code",
   "execution_count": null,
   "metadata": {},
   "outputs": [],
   "source": [
    "spy_changes.mean()"
   ]
  },
  {
   "cell_type": "code",
   "execution_count": null,
   "metadata": {},
   "outputs": [],
   "source": [
    "vix_changes.sum()"
   ]
  },
  {
   "cell_type": "code",
   "execution_count": null,
   "metadata": {},
   "outputs": [],
   "source": [
    "len(spy_changes)"
   ]
  },
  {
   "cell_type": "code",
   "execution_count": null,
   "metadata": {},
   "outputs": [],
   "source": [
    "vix_changes.mean()"
   ]
  },
  {
   "cell_type": "code",
   "execution_count": null,
   "metadata": {},
   "outputs": [],
   "source": [
    "len(vix_changes[vix_changes>0])/len(vix_changes)"
   ]
  },
  {
   "cell_type": "code",
   "execution_count": null,
   "metadata": {},
   "outputs": [],
   "source": [
    "len(spy_changes[spy_changes>0])/len(spy_changes)"
   ]
  },
  {
   "cell_type": "code",
   "execution_count": null,
   "metadata": {},
   "outputs": [],
   "source": [
    "spy_changes = []\n",
    "vix_changes = []\n",
    "\n",
    "mylist = []\n",
    "for i in master_spy_df['change'].index:\n",
    "    if master_vix_df['change'][i] > 0.05:\n",
    "        spy_changes.append(master_spy_df['change'][i+1])\n",
    "        vix_changes.append(master_vix_df['change'][i+1])\n",
    "\n",
    "spy_changes = np.array(spy_changes)\n",
    "vix_changes = np.array(vix_changes)"
   ]
  },
  {
   "cell_type": "code",
   "execution_count": null,
   "metadata": {},
   "outputs": [],
   "source": [
    "spy_changes.mean()"
   ]
  },
  {
   "cell_type": "code",
   "execution_count": null,
   "metadata": {},
   "outputs": [],
   "source": [
    "spy_changes.sum()"
   ]
  },
  {
   "cell_type": "code",
   "execution_count": null,
   "metadata": {},
   "outputs": [],
   "source": [
    "len(spy_changes[spy_changes<0])/len(spy_changes)"
   ]
  },
  {
   "cell_type": "code",
   "execution_count": null,
   "metadata": {},
   "outputs": [],
   "source": [
    "len(spy_changes)"
   ]
  },
  {
   "cell_type": "code",
   "execution_count": null,
   "metadata": {},
   "outputs": [],
   "source": [
    "master_spy_df.head()"
   ]
  },
  {
   "cell_type": "code",
   "execution_count": null,
   "metadata": {},
   "outputs": [],
   "source": [
    "############################################\n",
    "##MACD/signal line cross with 50 MA cross###\n",
    "############################################\n",
    "spy_changes_1 = []\n",
    "spy_changes_5 = []\n",
    "spy_changes_10 = []\n",
    "\n",
    "for i in master_spy_df['change'].index:\n",
    "    if master_spy_df['prices'][i] > master_spy_df['50_ma'][i] and master_spy_df['prices'][i-1]<=master_spy_df['50_ma'][i-1]:\n",
    "        if master_spy_df['macd'][i] > master_spy_df['signal'][i] and master_spy_df['macd'][i-1] <= master_spy_df['signal'][i-1]:\n",
    "            spy_changes_1.append(master_spy_df['change'][i+1])\n",
    "            spy_changes_5.append(master_spy_df['5_min_change'][i+5])\n",
    "            spy_changes_10.append(master_spy_df['10_min_change'][i+10])   \n",
    "\n",
    "spy_changes_1 = np.array(spy_changes_1)\n",
    "spy_changes_5 = np.array(spy_changes_5)\n",
    "spy_changes_10 = np.array(spy_changes_10)"
   ]
  },
  {
   "cell_type": "code",
   "execution_count": null,
   "metadata": {},
   "outputs": [],
   "source": [
    "print(spy_changes_1.mean())\n",
    "print(spy_changes_5.mean())\n",
    "print(spy_changes_10.mean())"
   ]
  },
  {
   "cell_type": "code",
   "execution_count": null,
   "metadata": {},
   "outputs": [],
   "source": [
    "len(spy_changes_5[spy_changes_5>0])/len(spy_changes_5)"
   ]
  },
  {
   "cell_type": "code",
   "execution_count": null,
   "metadata": {},
   "outputs": [],
   "source": [
    "print(spy_changes_1.sum())\n",
    "print(spy_changes_5.sum())\n",
    "print(spy_changes_10.sum())"
   ]
  },
  {
   "cell_type": "code",
   "execution_count": null,
   "metadata": {},
   "outputs": [],
   "source": [
    "############################################\n",
    "##MACD zero line cross with 50 MA cross####\n",
    "############################################\n",
    "\n",
    "spy_changes_1 = []\n",
    "spy_changes_5 = []\n",
    "spy_changes_10 = []\n",
    "\n",
    "for i in master_spy_df['change'].index:\n",
    "    if master_spy_df['prices'][i] > master_spy_df['50_ma'][i] and master_spy_df['prices'][i-1]<=master_spy_df['50_ma'][i-1]:\n",
    "        if master_spy_df['macd'][i] > 0 and master_spy_df['macd'][i-1] <= 0:\n",
    "            spy_changes_1.append(master_spy_df['change'][i+1])\n",
    "            spy_changes_5.append(master_spy_df['5_min_change'][i+5])\n",
    "            spy_changes_10.append(master_spy_df['10_min_change'][i+10])\n",
    "\n",
    "spy_changes_1 = np.array(spy_changes_1)\n",
    "spy_changes_5 = np.array(spy_changes_5)\n",
    "spy_changes_10 = np.array(spy_changes_10)"
   ]
  },
  {
   "cell_type": "code",
   "execution_count": null,
   "metadata": {},
   "outputs": [],
   "source": [
    "len(spy_changes_1)"
   ]
  },
  {
   "cell_type": "code",
   "execution_count": null,
   "metadata": {},
   "outputs": [],
   "source": [
    "print(spy_changes_1.mean())\n",
    "print(spy_changes_5.mean())\n",
    "print(spy_changes_10.mean())\n",
    "print(spy_changes_1.sum())\n",
    "print(spy_changes_5.sum())\n",
    "print(spy_changes_10.sum())"
   ]
  },
  {
   "cell_type": "code",
   "execution_count": null,
   "metadata": {},
   "outputs": [],
   "source": [
    "###########################\n",
    "##MACD zero line cross ####\n",
    "###########################\n",
    "\n",
    "spy_changes_1 = []\n",
    "spy_changes_5 = []\n",
    "spy_changes_10 = []\n",
    "\n",
    "for i in master_spy_df['change'].index:\n",
    "    if master_spy_df['macd'][i] > 0 and master_spy_df['macd'][i-1] <= 0:\n",
    "        spy_changes_1.append(master_spy_df['change'][i+1])\n",
    "        spy_changes_5.append(master_spy_df['5_min_change'][i+5])\n",
    "        spy_changes_10.append(master_spy_df['10_min_change'][i+10])\n",
    "\n",
    "spy_changes_1 = np.array(spy_changes_1)\n",
    "spy_changes_5 = np.array(spy_changes_5)\n",
    "spy_changes_10 = np.array(spy_changes_10)"
   ]
  },
  {
   "cell_type": "code",
   "execution_count": null,
   "metadata": {},
   "outputs": [],
   "source": [
    "len(spy_changes_1)"
   ]
  },
  {
   "cell_type": "code",
   "execution_count": null,
   "metadata": {},
   "outputs": [],
   "source": [
    "print(spy_changes_1.mean())\n",
    "print(spy_changes_5.mean())\n",
    "print(spy_changes_10.mean())\n",
    "print(spy_changes_1.sum())\n",
    "print(spy_changes_5.sum())\n",
    "print(spy_changes_10.sum())"
   ]
  },
  {
   "cell_type": "code",
   "execution_count": null,
   "metadata": {},
   "outputs": [],
   "source": [
    "print(len(spy_changes_1[spy_changes_1>0])/len(spy_changes_1))\n",
    "print(len(spy_changes_5[spy_changes_5>0])/len(spy_changes_5))\n",
    "print(len(spy_changes_10[spy_changes_10>0])/len(spy_changes_10))"
   ]
  },
  {
   "cell_type": "code",
   "execution_count": null,
   "metadata": {},
   "outputs": [],
   "source": [
    "###############################################\n",
    "##moving average 20/50 golden cross ###########\n",
    "###############################################\n",
    "\n",
    "spy_changes_1 = []\n",
    "spy_changes_5 = []\n",
    "spy_changes_10 = []\n",
    "locations = []\n",
    "for i in master_spy_df['change'].index:\n",
    "    if master_spy_df['20_ma'][i] > master_spy_df['50_ma'][i] and master_spy_df['20_ma'][i-1] < master_spy_df['50_ma'][i-1]:\n",
    "        spy_changes_1.append(master_spy_df['change'][i+1])\n",
    "        spy_changes_5.append(master_spy_df['5_min_change'][i+5])\n",
    "        spy_changes_10.append(master_spy_df['10_min_change'][i+10])\n",
    "        locations.append(master_spy_df['times'][i])\n",
    "\n",
    "spy_changes_1 = np.array(spy_changes_1)\n",
    "spy_changes_5 = np.array(spy_changes_5)\n",
    "spy_changes_10 = np.array(spy_changes_10)"
   ]
  },
  {
   "cell_type": "code",
   "execution_count": null,
   "metadata": {},
   "outputs": [],
   "source": [
    "len(spy_changes_1)"
   ]
  },
  {
   "cell_type": "code",
   "execution_count": null,
   "metadata": {},
   "outputs": [],
   "source": [
    "print(spy_changes_1.mean())\n",
    "print(spy_changes_5.mean())\n",
    "print(spy_changes_10.mean())\n",
    "print(spy_changes_1.sum())\n",
    "print(spy_changes_5.sum())\n",
    "print(spy_changes_10.sum())"
   ]
  },
  {
   "cell_type": "code",
   "execution_count": null,
   "metadata": {},
   "outputs": [],
   "source": [
    "print(len(spy_changes_1[spy_changes_1>0])/len(spy_changes_1))\n",
    "print(len(spy_changes_5[spy_changes_5>0])/len(spy_changes_5))\n",
    "print(len(spy_changes_10[spy_changes_10>0])/len(spy_changes_10))"
   ]
  },
  {
   "cell_type": "code",
   "execution_count": null,
   "metadata": {},
   "outputs": [],
   "source": [
    "###############################################\n",
    "##moving average 20/50 death cross ###########\n",
    "###############################################\n",
    "\n",
    "spy_changes_1 = []\n",
    "spy_changes_5 = []\n",
    "spy_changes_10 = []\n",
    "locations = []\n",
    "for i in master_spy_df['change'].index:\n",
    "    if master_spy_df['20_ma'][i] < master_spy_df['50_ma'][i] and master_spy_df['20_ma'][i-1] > master_spy_df['50_ma'][i-1]:\n",
    "        spy_changes_1.append(master_spy_df['change'][i+1])\n",
    "        spy_changes_5.append(master_spy_df['5_min_change'][i+5])\n",
    "        spy_changes_10.append(master_spy_df['10_min_change'][i+10])\n",
    "        locations.append(master_spy_df['times'][i])\n",
    "\n",
    "spy_changes_1 = np.array(spy_changes_1)\n",
    "spy_changes_5 = np.array(spy_changes_5)\n",
    "spy_changes_10 = np.array(spy_changes_10)"
   ]
  },
  {
   "cell_type": "code",
   "execution_count": null,
   "metadata": {},
   "outputs": [],
   "source": [
    "print(spy_changes_1.mean())\n",
    "print(spy_changes_5.mean())\n",
    "print(spy_changes_10.mean())\n",
    "print(spy_changes_1.sum())\n",
    "print(spy_changes_5.sum())\n",
    "print(spy_changes_10.sum())"
   ]
  },
  {
   "cell_type": "code",
   "execution_count": null,
   "metadata": {},
   "outputs": [],
   "source": [
    "print(len(spy_changes_1[spy_changes_1>0])/len(spy_changes_1))\n",
    "print(len(spy_changes_5[spy_changes_5>0])/len(spy_changes_5))\n",
    "print(len(spy_changes_10[spy_changes_10>0])/len(spy_changes_10))"
   ]
  },
  {
   "cell_type": "code",
   "execution_count": null,
   "metadata": {},
   "outputs": [],
   "source": [
    "###############################################\n",
    "##bollinger bands #############################\n",
    "###############################################\n",
    "\n",
    "spy_changes_1 = []\n",
    "spy_changes_5 = []\n",
    "spy_changes_10 = []\n",
    "locations = []\n",
    "for i in master_spy_df['change'].index[1:-10]:\n",
    "    if master_spy_df['prices'][i] < master_spy_df['BB_20_lower_2std'][i] and not master_spy_df['prices'][i-1] < master_spy_df['BB_20_lower_2std'][i] and not str(i)[-4:]=='8300':\n",
    "        spy_changes_1.append(master_spy_df['change'][i+1])\n",
    "        spy_changes_5.append(master_spy_df['5_min_change'][i+5])\n",
    "        spy_changes_10.append(master_spy_df['10_min_change'][i+10])\n",
    "        locations.append(master_spy_df['times'][i])\n",
    "\n",
    "spy_changes_1 = np.array(spy_changes_1)\n",
    "spy_changes_5 = np.array(spy_changes_5)\n",
    "spy_changes_10 = np.array(spy_changes_10)"
   ]
  },
  {
   "cell_type": "code",
   "execution_count": null,
   "metadata": {},
   "outputs": [],
   "source": [
    "len(spy_changes_10)"
   ]
  },
  {
   "cell_type": "code",
   "execution_count": null,
   "metadata": {},
   "outputs": [],
   "source": [
    "print(spy_changes_1.mean())\n",
    "print(spy_changes_5.mean())\n",
    "print(spy_changes_10.mean())\n",
    "print(spy_changes_1.sum())\n",
    "print(spy_changes_5.sum())\n",
    "print(spy_changes_10.sum())"
   ]
  },
  {
   "cell_type": "code",
   "execution_count": null,
   "metadata": {},
   "outputs": [],
   "source": [
    "print(len(spy_changes_1[spy_changes_1>0])/len(spy_changes_1))\n",
    "print(len(spy_changes_5[spy_changes_5>0])/len(spy_changes_5))\n",
    "print(len(spy_changes_10[spy_changes_10>0])/len(spy_changes_10))"
   ]
  },
  {
   "cell_type": "code",
   "execution_count": null,
   "metadata": {},
   "outputs": [],
   "source": [
    "###############################################\n",
    "##bollinger bands #############################\n",
    "###############################################\n",
    "\n",
    "spy_changes_1 = []\n",
    "spy_changes_5 = []\n",
    "spy_changes_10 = []\n",
    "locations = []\n",
    "for i in master_spy_df['change'].index[1:-10]:\n",
    "    if master_spy_df['prices'][i] > master_spy_df['BB_20_upper_2std'][i] and not master_spy_df['prices'][i-1] > master_spy_df['BB_20_upper_2std'][i]:\n",
    "        spy_changes_1.append(master_spy_df['change'][i+1])\n",
    "        spy_changes_5.append(master_spy_df['5_min_change'][i+5])\n",
    "        spy_changes_10.append(master_spy_df['10_min_change'][i+10])\n",
    "        locations.append((master_spy_df['times'][i],master_spy_df['10_min_change'][i+10]))\n",
    "    \n",
    "\n",
    "spy_changes_1 = np.array(spy_changes_1)\n",
    "spy_changes_5 = np.array(spy_changes_5)\n",
    "spy_changes_10 = np.array(spy_changes_10)"
   ]
  },
  {
   "cell_type": "code",
   "execution_count": null,
   "metadata": {},
   "outputs": [],
   "source": [
    "len(spy_changes_10)"
   ]
  },
  {
   "cell_type": "code",
   "execution_count": null,
   "metadata": {},
   "outputs": [],
   "source": [
    "print(spy_changes_1.mean())\n",
    "print(spy_changes_5.mean())\n",
    "print(spy_changes_10.mean())\n",
    "print(spy_changes_1.sum())\n",
    "print(spy_changes_5.sum())\n",
    "print(spy_changes_10.sum())"
   ]
  },
  {
   "cell_type": "code",
   "execution_count": null,
   "metadata": {},
   "outputs": [],
   "source": [
    "print(len(spy_changes_1[spy_changes_1<0])/len(spy_changes_1))\n",
    "print(len(spy_changes_5[spy_changes_5<0])/len(spy_changes_5))\n",
    "print(len(spy_changes_10[spy_changes_10<0])/len(spy_changes_10))"
   ]
  },
  {
   "cell_type": "code",
   "execution_count": null,
   "metadata": {},
   "outputs": [],
   "source": [
    "###############################################\n",
    "##bollinger bands w/ macd#############################\n",
    "###############################################\n",
    "\n",
    "spy_changes_1 = []\n",
    "spy_changes_2 = []\n",
    "spy_changes_5 = []\n",
    "spy_changes_10 = []\n",
    "locations = []\n",
    "\n",
    "for i in master_spy_df['change'].index[1:-10]:\n",
    "    below_bb = []\n",
    "    if master_spy_df['macd'][i] > master_spy_df['signal'][i] and master_spy_df['macd'][i-1] < master_spy_df['signal'][i-1]:\n",
    "        for x in range(1,10):\n",
    "            #if master_spy_df['prices'][i-x] < master_spy_df['BB_20_lower_2std'][i-x]:\n",
    "            below_bb.append(master_spy_df['prices'][i-x] < master_spy_df['BB_20_lower_2std'][i-x])\n",
    "        if True in below_bb:\n",
    "            spy_changes_1.append(master_spy_df['change'][i+1])\n",
    "            spy_changes_2.append(master_spy_df['2_min_change'][i+2])\n",
    "            spy_changes_5.append(master_spy_df['5_min_change'][i+5])\n",
    "            spy_changes_10.append(master_spy_df['10_min_change'][i+10])\n",
    "            locations.append((master_spy_df['times'][i],master_spy_df['10_min_change'][i+10]))\n",
    "    \n",
    "\n",
    "spy_changes_1 = np.array(spy_changes_1)\n",
    "spy_changes_2 = np.array(spy_changes_2)\n",
    "spy_changes_5 = np.array(spy_changes_5)\n",
    "spy_changes_10 = np.array(spy_changes_10)"
   ]
  },
  {
   "cell_type": "code",
   "execution_count": null,
   "metadata": {},
   "outputs": [],
   "source": [
    "len(spy_changes_1)"
   ]
  },
  {
   "cell_type": "code",
   "execution_count": null,
   "metadata": {},
   "outputs": [],
   "source": [
    "print(spy_changes_1.mean())\n",
    "print(spy_changes_2.mean())\n",
    "print(spy_changes_5.mean())\n",
    "print(spy_changes_10.mean())\n",
    "print(spy_changes_1.sum())\n",
    "print(spy_changes_2.sum())\n",
    "print(spy_changes_5.sum())\n",
    "print(spy_changes_10.sum())"
   ]
  },
  {
   "cell_type": "code",
   "execution_count": null,
   "metadata": {},
   "outputs": [],
   "source": [
    "print(len(spy_changes_1[spy_changes_1>0])/len(spy_changes_1))\n",
    "print(len(spy_changes_2[spy_changes_2>0])/len(spy_changes_2))\n",
    "print(len(spy_changes_5[spy_changes_5>0])/len(spy_changes_5))\n",
    "print(len(spy_changes_10[spy_changes_10>0])/len(spy_changes_10))"
   ]
  },
  {
   "cell_type": "code",
   "execution_count": null,
   "metadata": {},
   "outputs": [],
   "source": [
    "locations"
   ]
  },
  {
   "cell_type": "code",
   "execution_count": null,
   "metadata": {},
   "outputs": [],
   "source": [
    "###############################################\n",
    "##bollinger bands w/ macd#############################\n",
    "###############################################\n",
    "\n",
    "spy_changes_1 = []\n",
    "spy_changes_5 = []\n",
    "spy_changes_10 = []\n",
    "locations = []\n",
    "\n",
    "for i in master_spy_df['change'].index[1:-10]:\n",
    "    above_bb = []\n",
    "    if master_spy_df['macd'][i] < master_spy_df['signal'][i] and master_spy_df['macd'][i-1] > master_spy_df['signal'][i-1]:\n",
    "        for x in range(1,10):\n",
    "            #if master_spy_df['prices'][i-x] < master_spy_df['BB_20_lower_2std'][i-x]:\n",
    "            above_bb.append(master_spy_df['prices'][i-x] > master_spy_df['BB_20_upper_2std'][i-x])\n",
    "        if True in above_bb:\n",
    "            spy_changes_1.append(master_spy_df['change'][i+1])\n",
    "            spy_changes_5.append(master_spy_df['5_min_change'][i+5])\n",
    "            spy_changes_10.append(master_spy_df['10_min_change'][i+10])\n",
    "            locations.append((master_spy_df['times'][i],master_spy_df['10_min_change'][i+10]))\n",
    "\n",
    "\n",
    "spy_changes_1 = np.array(spy_changes_1)\n",
    "spy_changes_5 = np.array(spy_changes_5)\n",
    "spy_changes_10 = np.array(spy_changes_10)"
   ]
  },
  {
   "cell_type": "code",
   "execution_count": null,
   "metadata": {},
   "outputs": [],
   "source": [
    "len(spy_changes_1)"
   ]
  },
  {
   "cell_type": "code",
   "execution_count": null,
   "metadata": {},
   "outputs": [],
   "source": [
    "print(spy_changes_1.mean())\n",
    "print(spy_changes_5.mean())\n",
    "print(spy_changes_10.mean())\n",
    "print(spy_changes_1.sum())\n",
    "print(spy_changes_5.sum())\n",
    "print(spy_changes_10.sum())"
   ]
  },
  {
   "cell_type": "code",
   "execution_count": null,
   "metadata": {},
   "outputs": [],
   "source": [
    "print(len(spy_changes_1[spy_changes_1>0])/len(spy_changes_1))\n",
    "print(len(spy_changes_5[spy_changes_5>0])/len(spy_changes_5))\n",
    "print(len(spy_changes_10[spy_changes_10>0])/len(spy_changes_10))"
   ]
  },
  {
   "cell_type": "code",
   "execution_count": null,
   "metadata": {},
   "outputs": [],
   "source": [
    "###############################################\n",
    "##bollinger bands w/ macd#############################\n",
    "###############################################\n",
    "\n",
    "spy_changes_1 = []\n",
    "spy_changes_5 = []\n",
    "spy_changes_10 = []\n",
    "locations = []\n",
    "\n",
    "for i in master_spy_df['change'].index[1:-10]:\n",
    "    below_bb = []\n",
    "    if master_spy_df['macd'][i] < 0 and master_spy_df['macd'][i] > master_spy_df['signal'][i] and master_spy_df['macd'][i-1] < master_spy_df['signal'][i-1]:\n",
    "        for x in range(1,20):\n",
    "            #if master_spy_df['prices'][i-x] < master_spy_df['BB_20_lower_2std'][i-x]:\n",
    "            below_bb.append(master_spy_df['prices'][i-x] < master_spy_df['BB_20_lower_2std'][i-x])\n",
    "        if True in below_bb:\n",
    "            spy_changes_1.append(master_spy_df['change'][i+1])\n",
    "            spy_changes_5.append(master_spy_df['5_min_change'][i+5])\n",
    "            spy_changes_10.append(master_spy_df['10_min_change'][i+10])\n",
    "            locations.append((master_spy_df['times'][i],master_spy_df['10_min_change'][i+10]))\n",
    "    \n",
    "\n",
    "spy_changes_1 = np.array(spy_changes_1)\n",
    "spy_changes_5 = np.array(spy_changes_5)\n",
    "spy_changes_10 = np.array(spy_changes_10)"
   ]
  },
  {
   "cell_type": "code",
   "execution_count": null,
   "metadata": {},
   "outputs": [],
   "source": [
    "len(spy_changes_1)"
   ]
  },
  {
   "cell_type": "code",
   "execution_count": null,
   "metadata": {},
   "outputs": [],
   "source": [
    "print(spy_changes_1.mean())\n",
    "print(spy_changes_5.mean())\n",
    "print(spy_changes_10.mean())\n",
    "print(spy_changes_1.sum())\n",
    "print(spy_changes_5.sum())\n",
    "print(spy_changes_10.sum())"
   ]
  },
  {
   "cell_type": "code",
   "execution_count": null,
   "metadata": {},
   "outputs": [],
   "source": [
    "print(len(spy_changes_1[spy_changes_1>0])/len(spy_changes_1))\n",
    "print(len(spy_changes_5[spy_changes_5>0])/len(spy_changes_5))\n",
    "print(len(spy_changes_10[spy_changes_10>0])/len(spy_changes_10))"
   ]
  },
  {
   "cell_type": "code",
   "execution_count": null,
   "metadata": {},
   "outputs": [],
   "source": [
    "########################################\n",
    "##bollinger bands w/ macd###############\n",
    "########################################\n",
    "\n",
    "spy_changes_1 = []\n",
    "spy_changes_5 = []\n",
    "spy_changes_10 = []\n",
    "locations = []\n",
    "\n",
    "for i in master_spy_df['change'].index[1:-10]:\n",
    "    above_bb = []\n",
    "    if master_spy_df['macd'][i] > 0 and master_spy_df['macd'][i] < master_spy_df['signal'][i] and master_spy_df['macd'][i-1] > master_spy_df['signal'][i-1]:\n",
    "        for x in range(1,20):\n",
    "            #if master_spy_df['prices'][i-x] < master_spy_df['BB_20_lower_2std'][i-x]:\n",
    "            above_bb.append(master_spy_df['prices'][i-x] < master_spy_df['BB_20_lower_2std'][i-x])\n",
    "        if True in above_bb:\n",
    "            spy_changes_1.append(master_spy_df['change'][i+1])\n",
    "            spy_changes_5.append(master_spy_df['5_min_change'][i+5])\n",
    "            spy_changes_10.append(master_spy_df['10_min_change'][i+10])\n",
    "            locations.append((master_spy_df['times'][i],master_spy_df['10_min_change'][i+10]))\n",
    "    \n",
    "\n",
    "spy_changes_1 = np.array(spy_changes_1)\n",
    "spy_changes_5 = np.array(spy_changes_5)\n",
    "spy_changes_10 = np.array(spy_changes_10)"
   ]
  },
  {
   "cell_type": "code",
   "execution_count": null,
   "metadata": {},
   "outputs": [],
   "source": [
    "len(spy_changes_1)"
   ]
  },
  {
   "cell_type": "code",
   "execution_count": null,
   "metadata": {},
   "outputs": [],
   "source": [
    "print(spy_changes_1.mean())\n",
    "print(spy_changes_5.mean())\n",
    "print(spy_changes_10.mean())\n",
    "print(spy_changes_1.sum())\n",
    "print(spy_changes_5.sum())\n",
    "print(spy_changes_10.sum())"
   ]
  },
  {
   "cell_type": "code",
   "execution_count": null,
   "metadata": {},
   "outputs": [],
   "source": [
    "########################################\n",
    "##macd###############\n",
    "########################################\n",
    "\n",
    "spy_changes_1 = []\n",
    "spy_changes_5 = []\n",
    "spy_changes_10 = []\n",
    "locations = []\n",
    "\n",
    "for i in master_spy_df['change'].index[1:-10]:\n",
    "    above_bb = []\n",
    "    if master_spy_df['macd'][i] > 0 and master_spy_df['macd'][i] > master_spy_df['signal'][i] and master_spy_df['macd'][i-1] < master_spy_df['signal'][i-1]:\n",
    "        spy_changes_1.append(master_spy_df['change'][i+1])\n",
    "        spy_changes_5.append(master_spy_df['5_min_change'][i+5])\n",
    "        spy_changes_10.append(master_spy_df['10_min_change'][i+10])\n",
    "        locations.append((master_spy_df['times'][i],master_spy_df['10_min_change'][i+10]))\n",
    "    \n",
    "\n",
    "spy_changes_1 = np.array(spy_changes_1)\n",
    "spy_changes_5 = np.array(spy_changes_5)\n",
    "spy_changes_10 = np.array(spy_changes_10)"
   ]
  },
  {
   "cell_type": "code",
   "execution_count": null,
   "metadata": {},
   "outputs": [],
   "source": [
    "len(spy_changes_1)"
   ]
  },
  {
   "cell_type": "code",
   "execution_count": null,
   "metadata": {},
   "outputs": [],
   "source": [
    "print(spy_changes_1.mean())\n",
    "print(spy_changes_5.mean())\n",
    "print(spy_changes_10.mean())\n",
    "print(spy_changes_1.sum())\n",
    "print(spy_changes_5.sum())\n",
    "print(spy_changes_10.sum())"
   ]
  },
  {
   "cell_type": "code",
   "execution_count": null,
   "metadata": {},
   "outputs": [],
   "source": [
    "print(len(spy_changes_1[spy_changes_1>0])/len(spy_changes_1))\n",
    "print(len(spy_changes_5[spy_changes_5>0])/len(spy_changes_5))\n",
    "print(len(spy_changes_10[spy_changes_10>0])/len(spy_changes_10))"
   ]
  },
  {
   "cell_type": "code",
   "execution_count": null,
   "metadata": {},
   "outputs": [],
   "source": [
    "########################################\n",
    "##macd###############\n",
    "########################################\n",
    "\n",
    "spy_changes_1 = []\n",
    "spy_changes_5 = []\n",
    "spy_changes_10 = []\n",
    "locations = []\n",
    "\n",
    "for i in master_spy_df['change'].index[1:-10]:\n",
    "    above_bb = []\n",
    "    if master_spy_df['macd'][i] < 0 and master_spy_df['macd'][i] < master_spy_df['signal'][i] and master_spy_df['macd'][i-1] > master_spy_df['signal'][i-1]:\n",
    "        spy_changes_1.append(master_spy_df['change'][i+1])\n",
    "        spy_changes_5.append(master_spy_df['5_min_change'][i+5])\n",
    "        spy_changes_10.append(master_spy_df['10_min_change'][i+10])\n",
    "        locations.append((master_spy_df['times'][i],master_spy_df['10_min_change'][i+10]))\n",
    "    \n",
    "\n",
    "spy_changes_1 = np.array(spy_changes_1)\n",
    "spy_changes_5 = np.array(spy_changes_5)\n",
    "spy_changes_10 = np.array(spy_changes_10)"
   ]
  },
  {
   "cell_type": "code",
   "execution_count": null,
   "metadata": {},
   "outputs": [],
   "source": [
    "print(len(spy_changes_1))\n",
    "print(spy_changes_1.mean())\n",
    "print(spy_changes_5.mean())\n",
    "print(spy_changes_10.mean())\n",
    "print(spy_changes_1.sum())\n",
    "print(spy_changes_5.sum())\n",
    "print(spy_changes_10.sum())\n",
    "\n",
    "print(len(spy_changes_1[spy_changes_1>0])/len(spy_changes_1))\n",
    "print(len(spy_changes_5[spy_changes_5>0])/len(spy_changes_5))\n",
    "print(len(spy_changes_10[spy_changes_10>0])/len(spy_changes_10))"
   ]
  },
  {
   "cell_type": "code",
   "execution_count": null,
   "metadata": {},
   "outputs": [],
   "source": [
    "###############################################\n",
    "##bollinger bands macd/bottom #################\n",
    "###############################################\n",
    "\n",
    "spy_changes_1 = []\n",
    "spy_changes_2 = []\n",
    "spy_changes_5 = []\n",
    "spy_changes_10 = []\n",
    "locations = []\n",
    "\n",
    "for i in master_spy_df['change'].index[10:-10]:\n",
    "    below_bb = []\n",
    "    if (master_spy_df['macd'][i-1]-master_spy_df['macd'][i-2]) <= 0 and (master_spy_df['macd'][i]-master_spy_df['macd'][i-1]) > 0:\n",
    "        for x in range(1,10):\n",
    "            #if master_spy_df['prices'][i-x] < master_spy_df['BB_20_lower_2std'][i-x]:\n",
    "            below_bb.append(master_spy_df['prices'][i-x] < master_spy_df['BB_20_lower_2std'][i-x])\n",
    "        if True in below_bb:\n",
    "            spy_changes_1.append(master_spy_df['change'][i+1])\n",
    "            spy_changes_2.append(master_spy_df['2_min_change'][i+2])\n",
    "            spy_changes_5.append(master_spy_df['5_min_change'][i+5])\n",
    "            spy_changes_10.append(master_spy_df['10_min_change'][i+10])\n",
    "            locations.append((master_spy_df['times'][i],master_spy_df['10_min_change'][i+10]))\n",
    "    \n",
    "\n",
    "spy_changes_1 = np.array(spy_changes_1)\n",
    "spy_changes_2 = np.array(spy_changes_2)\n",
    "spy_changes_5 = np.array(spy_changes_5)\n",
    "spy_changes_10 = np.array(spy_changes_10)"
   ]
  },
  {
   "cell_type": "code",
   "execution_count": null,
   "metadata": {},
   "outputs": [],
   "source": [
    "print(len(spy_changes_1))\n",
    "print(spy_changes_1.mean())\n",
    "print(spy_changes_2.mean())\n",
    "print(spy_changes_5.mean())\n",
    "print(spy_changes_10.mean())\n",
    "print(spy_changes_1.sum())\n",
    "print(spy_changes_2.sum())\n",
    "print(spy_changes_5.sum())\n",
    "print(spy_changes_10.sum())\n",
    "\n",
    "print(len(spy_changes_1[spy_changes_1>0])/len(spy_changes_1))\n",
    "print(len(spy_changes_2[spy_changes_2>0])/len(spy_changes_2))\n",
    "print(len(spy_changes_5[spy_changes_5>0])/len(spy_changes_5))\n",
    "print(len(spy_changes_10[spy_changes_10>0])/len(spy_changes_10))"
   ]
  },
  {
   "cell_type": "code",
   "execution_count": null,
   "metadata": {},
   "outputs": [],
   "source": []
  },
  {
   "cell_type": "code",
   "execution_count": null,
   "metadata": {},
   "outputs": [],
   "source": [
    "###############################################\n",
    "##bollinger bands macd top ####################\n",
    "###############################################\n",
    "\n",
    "spy_changes_1 = []\n",
    "spy_changes_2 = []\n",
    "spy_changes_5 = []\n",
    "spy_changes_10 = []\n",
    "locations = []\n",
    "\n",
    "for i in master_spy_df['change'].index[10:-10]:\n",
    "    above_bb = []\n",
    "    if (master_spy_df['macd'][i-1]-master_spy_df['macd'][i-2]) >= 0 and (master_spy_df['macd'][i]-master_spy_df['macd'][i-1]) < 0:\n",
    "        for x in range(1,10):\n",
    "            #if master_spy_df['prices'][i-x] < master_spy_df['BB_20_lower_2std'][i-x]:\n",
    "            above_bb.append(master_spy_df['prices'][i-x] > master_spy_df['BB_20_upper_2std'][i-x])\n",
    "        if True in above_bb:\n",
    "            spy_changes_1.append(master_spy_df['change'][i+1])\n",
    "            spy_changes_2.append(master_spy_df['2_min_change'][i+2])\n",
    "            spy_changes_5.append(master_spy_df['5_min_change'][i+5])\n",
    "            spy_changes_10.append(master_spy_df['10_min_change'][i+10])\n",
    "            locations.append((master_spy_df['times'][i],master_spy_df['10_min_change'][i+10]))\n",
    "    \n",
    "\n",
    "spy_changes_1 = np.array(spy_changes_1)\n",
    "spy_changes_2 = np.array(spy_changes_2)\n",
    "spy_changes_5 = np.array(spy_changes_5)\n",
    "spy_changes_10 = np.array(spy_changes_10)"
   ]
  },
  {
   "cell_type": "code",
   "execution_count": null,
   "metadata": {},
   "outputs": [],
   "source": [
    "print(len(spy_changes_1))\n",
    "print(spy_changes_1.mean())\n",
    "print(spy_changes_2.mean())\n",
    "print(np.nanmean(spy_changes_5))\n",
    "print(spy_changes_10.mean())\n",
    "print(spy_changes_1.sum())\n",
    "print(spy_changes_2.sum())\n",
    "print(np.nansum(spy_changes_5))\n",
    "print(spy_changes_10.sum())\n",
    "\n",
    "print(len(spy_changes_1[spy_changes_1>0])/len(spy_changes_1))\n",
    "print(len(spy_changes_2[spy_changes_2>0])/len(spy_changes_2))\n",
    "print(len(spy_changes_5[spy_changes_5>0])/len(spy_changes_5))\n",
    "print(len(spy_changes_10[spy_changes_10>0])/len(spy_changes_10))"
   ]
  },
  {
   "cell_type": "code",
   "execution_count": null,
   "metadata": {},
   "outputs": [],
   "source": [
    "len(master_spy_df['change'][master_spy_df['change']<0])/len(master_spy_df['change'])"
   ]
  },
  {
   "cell_type": "code",
   "execution_count": null,
   "metadata": {},
   "outputs": [],
   "source": []
  },
  {
   "cell_type": "code",
   "execution_count": null,
   "metadata": {},
   "outputs": [],
   "source": []
  },
  {
   "cell_type": "code",
   "execution_count": null,
   "metadata": {},
   "outputs": [],
   "source": []
  },
  {
   "cell_type": "code",
   "execution_count": null,
   "metadata": {},
   "outputs": [],
   "source": [
    "previous_10 = []\n",
    "locations = []\n",
    "\n",
    "for i in master_spy_df['change'].index[20:-10]:\n",
    "    if master_spy_df['5_min_change'][i] >.50:\n",
    "        previous_10.append(master_spy_df['change'][i-6])\n",
    "    \n",
    "\n",
    "previous_10 = np.array(previous_10)"
   ]
  },
  {
   "cell_type": "code",
   "execution_count": null,
   "metadata": {},
   "outputs": [],
   "source": [
    "len(previous_10)"
   ]
  },
  {
   "cell_type": "code",
   "execution_count": null,
   "metadata": {},
   "outputs": [],
   "source": [
    "previous_10.mean()"
   ]
  },
  {
   "cell_type": "code",
   "execution_count": null,
   "metadata": {},
   "outputs": [],
   "source": [
    "len(previous_10[previous_10>0])/len(previous_10)"
   ]
  },
  {
   "cell_type": "code",
   "execution_count": null,
   "metadata": {},
   "outputs": [],
   "source": [
    "previous_10[previous_10>0].mean()"
   ]
  },
  {
   "cell_type": "code",
   "execution_count": null,
   "metadata": {},
   "outputs": [],
   "source": []
  },
  {
   "cell_type": "code",
   "execution_count": null,
   "metadata": {},
   "outputs": [],
   "source": []
  },
  {
   "cell_type": "code",
   "execution_count": null,
   "metadata": {},
   "outputs": [],
   "source": []
  },
  {
   "cell_type": "code",
   "execution_count": null,
   "metadata": {},
   "outputs": [],
   "source": []
  },
  {
   "cell_type": "code",
   "execution_count": null,
   "metadata": {},
   "outputs": [],
   "source": []
  },
  {
   "cell_type": "code",
   "execution_count": null,
   "metadata": {},
   "outputs": [],
   "source": []
  },
  {
   "cell_type": "code",
   "execution_count": null,
   "metadata": {},
   "outputs": [],
   "source": []
  },
  {
   "cell_type": "code",
   "execution_count": null,
   "metadata": {},
   "outputs": [],
   "source": []
  },
  {
   "cell_type": "code",
   "execution_count": null,
   "metadata": {},
   "outputs": [],
   "source": [
    "spy_changes_1 = []\n",
    "spy_changes_5 = []\n",
    "spy_changes_10 = []\n",
    "previous_5 = []\n",
    "ma_20 = []\n",
    "ma_50 = []\n",
    "ma_100 = []\n",
    "ma_200 = []\n",
    "\n",
    "for i in master_spy_df['prices'].index:\n",
    "    if master_spy_df['change'][i] > .15:\n",
    "        previous_5.append(master_spy_df['change'][i-6:i])\n",
    "        ma_20.append(master_spy_df['20_ma'][i])\n",
    "        ma_50.append(master_spy_df['50_ma'][i])\n",
    "        ma_100.append(master_spy_df['100_ma'][i])\n",
    "        ma_200.append(master_spy_df['200_ma'][i])\n",
    "\n",
    "spy_changes_1 = np.array(spy_changes_1)\n",
    "spy_changes_5 = np.array(spy_changes_5)\n",
    "spy_changes_10 = np.array(spy_changes_10)"
   ]
  },
  {
   "cell_type": "code",
   "execution_count": null,
   "metadata": {},
   "outputs": [],
   "source": [
    "sums = []\n",
    "for i in previous_5:\n",
    "    sums.append(i.sum())\n",
    "sums = np.array(sums)"
   ]
  },
  {
   "cell_type": "code",
   "execution_count": null,
   "metadata": {},
   "outputs": [],
   "source": [
    "sums.mean()"
   ]
  },
  {
   "cell_type": "code",
   "execution_count": null,
   "metadata": {},
   "outputs": [],
   "source": [
    "previous_1 = []\n",
    "for i in previous_5:\n",
    "    try:\n",
    "        previous_1.append(list(i)[-1])\n",
    "    except:\n",
    "        pass\n",
    "previous_1 = np.array(previous_1)"
   ]
  },
  {
   "cell_type": "code",
   "execution_count": null,
   "metadata": {},
   "outputs": [],
   "source": [
    "previous_1.mean()"
   ]
  },
  {
   "cell_type": "code",
   "execution_count": null,
   "metadata": {},
   "outputs": [],
   "source": [
    "len(previous_1)"
   ]
  },
  {
   "cell_type": "code",
   "execution_count": null,
   "metadata": {},
   "outputs": [],
   "source": [
    "ma50_over_200 = []\n",
    "for i in range(len(previous_1)):\n",
    "    if ma_50[i] > ma_200[i]:\n",
    "        ma50_over_200.append(i)\n",
    "    "
   ]
  },
  {
   "cell_type": "code",
   "execution_count": null,
   "metadata": {},
   "outputs": [],
   "source": [
    "len(ma50_over_200)/len(ma_50)\n"
   ]
  },
  {
   "cell_type": "code",
   "execution_count": null,
   "metadata": {},
   "outputs": [],
   "source": []
  },
  {
   "cell_type": "code",
   "execution_count": null,
   "metadata": {},
   "outputs": [],
   "source": []
  },
  {
   "cell_type": "code",
   "execution_count": null,
   "metadata": {},
   "outputs": [],
   "source": [
    "spy_changes_1 = []\n",
    "spy_changes_5 = []\n",
    "spy_changes_10 = []\n",
    "previous_5 = []\n",
    "\n",
    "for i in master_spy_df['prices'].index:\n",
    "    if master_spy_df['change'][i] < -.15:\n",
    "        previous_5.append(master_spy_df['change'][i-6:i])\n",
    "\n",
    "spy_changes_1 = np.array(spy_changes_1)\n",
    "spy_changes_5 = np.array(spy_changes_5)\n",
    "spy_changes_10 = np.array(spy_changes_10)"
   ]
  },
  {
   "cell_type": "code",
   "execution_count": null,
   "metadata": {},
   "outputs": [],
   "source": [
    "sums = []\n",
    "for i in previous_5:\n",
    "    sums.append(i.sum())\n",
    "sums = np.array(sums)"
   ]
  },
  {
   "cell_type": "code",
   "execution_count": null,
   "metadata": {},
   "outputs": [],
   "source": [
    "sums.mean()"
   ]
  },
  {
   "cell_type": "code",
   "execution_count": null,
   "metadata": {},
   "outputs": [],
   "source": [
    "previous_1 = []\n",
    "for i in previous_5:\n",
    "    try:\n",
    "        previous_1.append(list(i)[-1])\n",
    "    except:\n",
    "        pass\n",
    "previous_1 = np.array(previous_1)"
   ]
  },
  {
   "cell_type": "code",
   "execution_count": null,
   "metadata": {},
   "outputs": [],
   "source": [
    "len(previous_1)"
   ]
  },
  {
   "cell_type": "code",
   "execution_count": null,
   "metadata": {},
   "outputs": [],
   "source": [
    "previous_1.mean()"
   ]
  },
  {
   "cell_type": "code",
   "execution_count": null,
   "metadata": {},
   "outputs": [],
   "source": [
    "#########################################################################\n",
    "###if sum of previous 5 is greater than .055 and previous change <.02####\n",
    "#########################################################################\n",
    "\n",
    "spy_changes_1 = []\n",
    "spy_changes_5 = []\n",
    "spy_changes_10 = []\n",
    "\n",
    "for i in master_spy_df['prices'].index[6:-10]:\n",
    "    if master_spy_df['change'][i-6:i].sum() >0.06 and master_spy_df['change'][i] >0.02:\n",
    "        spy_changes_1.append(master_spy_df['change'][i+1])\n",
    "        spy_changes_5.append(master_spy_df['5_min_change'][i+5])\n",
    "        spy_changes_10.append(master_spy_df['10_min_change'][i+10])\n",
    "\n",
    "spy_changes_1 = np.array(spy_changes_1)\n",
    "spy_changes_5 = np.array(spy_changes_5)\n",
    "spy_changes_10 = np.array(spy_changes_10)\n",
    "    "
   ]
  },
  {
   "cell_type": "code",
   "execution_count": null,
   "metadata": {},
   "outputs": [],
   "source": [
    "len(spy_changes_1)"
   ]
  },
  {
   "cell_type": "code",
   "execution_count": null,
   "metadata": {},
   "outputs": [],
   "source": [
    "len(spy_changes_1[spy_changes_1>0])/len(spy_changes_1)"
   ]
  },
  {
   "cell_type": "code",
   "execution_count": null,
   "metadata": {},
   "outputs": [],
   "source": [
    "spy_changes_1.sum()"
   ]
  },
  {
   "cell_type": "code",
   "execution_count": null,
   "metadata": {},
   "outputs": [],
   "source": [
    "spy_changes_1.mean()"
   ]
  },
  {
   "cell_type": "code",
   "execution_count": null,
   "metadata": {},
   "outputs": [],
   "source": []
  },
  {
   "cell_type": "code",
   "execution_count": null,
   "metadata": {},
   "outputs": [],
   "source": [
    "#########################################################################\n",
    "###if sum of previous 5 is greater than .055 and previous change <.02####\n",
    "#########################################################################\n",
    "\n",
    "spy_changes_1 = []\n",
    "spy_changes_5 = []\n",
    "spy_changes_10 = []\n",
    "\n",
    "for i in master_spy_df['prices'].index[6:-10]:\n",
    "    if master_spy_df['prices'][i-6:i].sum() < 0.10:\n",
    "        spy_changes_1.append(master_spy_df['change'][i+1])\n",
    "        spy_changes_5.append(master_spy_df['price'][i+5])\n",
    "        spy_changes_10.append(master_spy_df['change'][i+10])\n",
    "\n",
    "spy_changes_1 = np.array(spy_changes_1)\n",
    "spy_changes_5 = np.array(spy_changes_5)\n",
    "spy_changes_10 = np.array(spy_changes_10)"
   ]
  },
  {
   "cell_type": "code",
   "execution_count": null,
   "metadata": {},
   "outputs": [],
   "source": [
    "len(spy_changes_1)"
   ]
  },
  {
   "cell_type": "code",
   "execution_count": null,
   "metadata": {},
   "outputs": [],
   "source": [
    "print(sums)"
   ]
  },
  {
   "cell_type": "code",
   "execution_count": null,
   "metadata": {},
   "outputs": [],
   "source": [
    "winning_num = []\n",
    "for num in np.arange(-.30,.30,.01):\n",
    "    spy_changes_1 = []\n",
    "    spy_changes_5 = []\n",
    "    spy_changes_10 = []\n",
    "\n",
    "    for i in master_spy_df['prices'].index[6:-10]:\n",
    "        if round(master_spy_df['change'][i],2) > num+.03 <num-0.03:\n",
    "            spy_changes_1.append(master_spy_df['change'][i+1])\n",
    "            spy_changes_5.append(master_spy_df['5_min_change'][i+5])\n",
    "            spy_changes_10.append(master_spy_df['10_min_change'][i+10])\n",
    "\n",
    "    spy_changes_1 = np.array(spy_changes_1)\n",
    "    spy_changes_5 = np.array(spy_changes_5)\n",
    "    spy_changes_10 = np.array(spy_changes_10)\n",
    "    try:\n",
    "        spy_1_percent_winner = len(spy_changes_1[spy_changes_1>0])/len(spy_changes_1)\n",
    "        spy_5_percent_winner = len(spy_changes_5[spy_changes_5>0])/len(spy_changes_5)\n",
    "        spy_10_percent_winner = len(spy_changes_10[spy_changes_10>0])/len(spy_changes_10)\n",
    "    except:\n",
    "        pass\n",
    "    \n",
    "    try:\n",
    "        if spy_1_percent_winner >.60:\n",
    "            winning_num.append(num)\n",
    "        if spy_5_percent_winner >.60:\n",
    "            winning_num.append(num)\n",
    "        if spy_10_percent_winner >.60:\n",
    "            winning_num.append(num)\n",
    "    except:\n",
    "        pass"
   ]
  },
  {
   "cell_type": "code",
   "execution_count": null,
   "metadata": {},
   "outputs": [],
   "source": [
    "len(winning_num)"
   ]
  },
  {
   "cell_type": "code",
   "execution_count": null,
   "metadata": {},
   "outputs": [],
   "source": []
  },
  {
   "cell_type": "code",
   "execution_count": null,
   "metadata": {},
   "outputs": [],
   "source": [
    "symbols = []\n",
    "csv_read = csv.reader(open('companylist_all.csv'))\n",
    "for row in csv_read:\n",
    "    if row[0] != 'Symbol':\n",
    "        symbols.append(row[0])\n",
    "        \n",
    "x = len(symbols)\n",
    "\n",
    "def get_data(symbol):\n",
    "    url = requests.get(f'https://finance.yahoo.com/quote/{symbol}/history?p={symbol}.html')\n",
    "    soup = bs(url.content,'html.parser')\n",
    "    scripts = soup.find_all('script')\n",
    "    fin_data = scripts[31]\n",
    "    fin_data = str(fin_data).split('root.App.main = ')[1]\n",
    "    fin_data = fin_data.split(';\\n}(this));\\n</script>')[0]\n",
    "    fin_dict = json.loads(fin_data)\n",
    "    historical_prices = fin_dict['context']['dispatcher']['stores']['HistoricalPriceStore']['prices']\n",
    "    df = pd.DataFrame(historical_prices)\n",
    "    df.sort_index(ascending=False,inplace=True)\n",
    "    df['date'] = pd.to_datetime(df['date'],unit='s')\n",
    "    df['date'] = pd.to_datetime(df['date'], format='%d/%m/%y %H:%M:%S').dt.strftime('%m/%d/%Y')\n",
    "    df.set_index('date', inplace = True)\n",
    "    df.dropna(subset =['open'],inplace=True)\n",
    "    df[['adjclose','open','close','high','low','open']] = df[['adjclose','open','close','high','low','open']].round(2)\n",
    "    \n"
   ]
  },
  {
   "cell_type": "code",
   "execution_count": 6,
   "metadata": {},
   "outputs": [
    {
     "data": {
      "text/html": [
       "<div>\n",
       "<style scoped>\n",
       "    .dataframe tbody tr th:only-of-type {\n",
       "        vertical-align: middle;\n",
       "    }\n",
       "\n",
       "    .dataframe tbody tr th {\n",
       "        vertical-align: top;\n",
       "    }\n",
       "\n",
       "    .dataframe thead th {\n",
       "        text-align: right;\n",
       "    }\n",
       "</style>\n",
       "<table border=\"1\" class=\"dataframe\">\n",
       "  <thead>\n",
       "    <tr style=\"text-align: right;\">\n",
       "      <th></th>\n",
       "      <th>prices</th>\n",
       "      <th>times</th>\n",
       "      <th>change</th>\n",
       "      <th>2_min_change</th>\n",
       "      <th>5_min_change</th>\n",
       "      <th>10_min_change</th>\n",
       "      <th>15_min_change</th>\n",
       "      <th>20_min_change</th>\n",
       "      <th>10_ma</th>\n",
       "      <th>20_ma</th>\n",
       "      <th>50_ma</th>\n",
       "      <th>100_ma</th>\n",
       "      <th>200_ma</th>\n",
       "      <th>fast</th>\n",
       "      <th>slow</th>\n",
       "      <th>macd</th>\n",
       "      <th>signal</th>\n",
       "      <th>BB_20_upper_2std</th>\n",
       "      <th>BB_20_lower_2std</th>\n",
       "    </tr>\n",
       "  </thead>\n",
       "  <tbody>\n",
       "    <tr>\n",
       "      <th>6134</th>\n",
       "      <td>323.750</td>\n",
       "      <td>12714560</td>\n",
       "      <td>0.140</td>\n",
       "      <td>-0.070</td>\n",
       "      <td>0.240</td>\n",
       "      <td>-0.360</td>\n",
       "      <td>-0.240</td>\n",
       "      <td>-0.0750</td>\n",
       "      <td>323.6600</td>\n",
       "      <td>323.785505</td>\n",
       "      <td>324.039156</td>\n",
       "      <td>324.269933</td>\n",
       "      <td>324.515682</td>\n",
       "      <td>323.721118</td>\n",
       "      <td>323.834067</td>\n",
       "      <td>-0.112949</td>\n",
       "      <td>-0.117982</td>\n",
       "      <td>324.128214</td>\n",
       "      <td>323.442796</td>\n",
       "    </tr>\n",
       "    <tr>\n",
       "      <th>6135</th>\n",
       "      <td>323.805</td>\n",
       "      <td>12714570</td>\n",
       "      <td>0.055</td>\n",
       "      <td>0.195</td>\n",
       "      <td>0.285</td>\n",
       "      <td>0.005</td>\n",
       "      <td>-0.125</td>\n",
       "      <td>0.0749</td>\n",
       "      <td>323.6605</td>\n",
       "      <td>323.789250</td>\n",
       "      <td>324.030002</td>\n",
       "      <td>324.260083</td>\n",
       "      <td>324.510132</td>\n",
       "      <td>323.734023</td>\n",
       "      <td>323.831914</td>\n",
       "      <td>-0.097891</td>\n",
       "      <td>-0.113964</td>\n",
       "      <td>324.131045</td>\n",
       "      <td>323.447455</td>\n",
       "    </tr>\n",
       "    <tr>\n",
       "      <th>6136</th>\n",
       "      <td>323.750</td>\n",
       "      <td>12714580</td>\n",
       "      <td>-0.055</td>\n",
       "      <td>0.000</td>\n",
       "      <td>0.140</td>\n",
       "      <td>0.000</td>\n",
       "      <td>-0.180</td>\n",
       "      <td>-0.0100</td>\n",
       "      <td>323.6605</td>\n",
       "      <td>323.788750</td>\n",
       "      <td>324.019602</td>\n",
       "      <td>324.249983</td>\n",
       "      <td>324.504882</td>\n",
       "      <td>323.736481</td>\n",
       "      <td>323.825846</td>\n",
       "      <td>-0.089366</td>\n",
       "      <td>-0.109044</td>\n",
       "      <td>324.130755</td>\n",
       "      <td>323.446745</td>\n",
       "    </tr>\n",
       "    <tr>\n",
       "      <th>6137</th>\n",
       "      <td>323.590</td>\n",
       "      <td>12714590</td>\n",
       "      <td>-0.160</td>\n",
       "      <td>-0.215</td>\n",
       "      <td>-0.230</td>\n",
       "      <td>-0.090</td>\n",
       "      <td>-0.400</td>\n",
       "      <td>-0.2100</td>\n",
       "      <td>323.6515</td>\n",
       "      <td>323.778250</td>\n",
       "      <td>324.003802</td>\n",
       "      <td>324.238883</td>\n",
       "      <td>324.498982</td>\n",
       "      <td>323.713945</td>\n",
       "      <td>323.808376</td>\n",
       "      <td>-0.094431</td>\n",
       "      <td>-0.106122</td>\n",
       "      <td>324.131510</td>\n",
       "      <td>323.424990</td>\n",
       "    </tr>\n",
       "    <tr>\n",
       "      <th>6138</th>\n",
       "      <td>323.510</td>\n",
       "      <td>1271500</td>\n",
       "      <td>-0.080</td>\n",
       "      <td>-0.240</td>\n",
       "      <td>-0.100</td>\n",
       "      <td>-0.040</td>\n",
       "      <td>-0.430</td>\n",
       "      <td>-0.4200</td>\n",
       "      <td>323.6475</td>\n",
       "      <td>323.757250</td>\n",
       "      <td>323.991002</td>\n",
       "      <td>324.226483</td>\n",
       "      <td>324.492682</td>\n",
       "      <td>323.682569</td>\n",
       "      <td>323.786274</td>\n",
       "      <td>-0.103705</td>\n",
       "      <td>-0.105638</td>\n",
       "      <td>324.122266</td>\n",
       "      <td>323.392234</td>\n",
       "    </tr>\n",
       "  </tbody>\n",
       "</table>\n",
       "</div>"
      ],
      "text/plain": [
       "       prices     times  change  2_min_change  5_min_change  10_min_change  \\\n",
       "6134  323.750  12714560   0.140        -0.070         0.240         -0.360   \n",
       "6135  323.805  12714570   0.055         0.195         0.285          0.005   \n",
       "6136  323.750  12714580  -0.055         0.000         0.140          0.000   \n",
       "6137  323.590  12714590  -0.160        -0.215        -0.230         -0.090   \n",
       "6138  323.510   1271500  -0.080        -0.240        -0.100         -0.040   \n",
       "\n",
       "      15_min_change  20_min_change     10_ma       20_ma       50_ma  \\\n",
       "6134         -0.240        -0.0750  323.6600  323.785505  324.039156   \n",
       "6135         -0.125         0.0749  323.6605  323.789250  324.030002   \n",
       "6136         -0.180        -0.0100  323.6605  323.788750  324.019602   \n",
       "6137         -0.400        -0.2100  323.6515  323.778250  324.003802   \n",
       "6138         -0.430        -0.4200  323.6475  323.757250  323.991002   \n",
       "\n",
       "          100_ma      200_ma        fast        slow      macd    signal  \\\n",
       "6134  324.269933  324.515682  323.721118  323.834067 -0.112949 -0.117982   \n",
       "6135  324.260083  324.510132  323.734023  323.831914 -0.097891 -0.113964   \n",
       "6136  324.249983  324.504882  323.736481  323.825846 -0.089366 -0.109044   \n",
       "6137  324.238883  324.498982  323.713945  323.808376 -0.094431 -0.106122   \n",
       "6138  324.226483  324.492682  323.682569  323.786274 -0.103705 -0.105638   \n",
       "\n",
       "      BB_20_upper_2std  BB_20_lower_2std  \n",
       "6134        324.128214        323.442796  \n",
       "6135        324.131045        323.447455  \n",
       "6136        324.130755        323.446745  \n",
       "6137        324.131510        323.424990  \n",
       "6138        324.122266        323.392234  "
      ]
     },
     "execution_count": 6,
     "metadata": {},
     "output_type": "execute_result"
    }
   ],
   "source": [
    "master_spy_df.tail()"
   ]
  },
  {
   "cell_type": "code",
   "execution_count": 32,
   "metadata": {},
   "outputs": [],
   "source": [
    "master_spy_df['macd_difference'] = master_spy_df['macd']-master_spy_df['signal']\n",
    "master_spy_df['macd_difference_avg'] = master_spy_df['macd_difference'].rolling(20).mean()"
   ]
  },
  {
   "cell_type": "code",
   "execution_count": 117,
   "metadata": {},
   "outputs": [],
   "source": [
    "master_spy_df['upper_macd_std'] = master_spy_df['macd_difference_avg']+(master_spy_df['macd_difference'].std())\n",
    "master_spy_df['lower_macd_std'] = master_spy_df['macd_difference_avg']-(master_spy_df['macd_difference'].std())"
   ]
  },
  {
   "cell_type": "code",
   "execution_count": 118,
   "metadata": {},
   "outputs": [
    {
     "data": {
      "text/plain": [
       "<matplotlib.axes._subplots.AxesSubplot at 0x10c0eff0>"
      ]
     },
     "execution_count": 118,
     "metadata": {},
     "output_type": "execute_result"
    },
    {
     "data": {
      "image/png": "[encoded data removed]",
      "text/plain": [
       "<Figure size 432x288 with 1 Axes>"
      ]
     },
     "metadata": {},
     "output_type": "display_data"
    }
   ],
   "source": [
    "master_spy_df['macd_difference'][:200].plot()\n",
    "master_spy_df['macd_difference_avg'][:200].plot()\n",
    "master_spy_df['upper_macd_std'][:200].plot()\n",
    "master_spy_df['lower_macd_std'][:200].plot()"
   ]
  },
  {
   "cell_type": "code",
   "execution_count": 128,
   "metadata": {},
   "outputs": [],
   "source": [
    "short_enters = []\n",
    "spy_changes_1 = []\n",
    "spy_changes_5 = []\n",
    "spy_changes_10 = []\n",
    "spy_changes_15 = []\n",
    "is_short = False\n",
    "enter_i = 0\n",
    "for i in master_spy_df.index[20:-20]:\n",
    "    if master_spy_df['macd_difference'].iloc[i] > master_spy_df['upper_macd_std'].iloc[i] and not is_short:\n",
    "        short_enters.append((i,master_spy_df['prices'].iloc[i]))\n",
    "        spy_changes_1.append(master_spy_df['change'].iloc[i+1])\n",
    "        spy_changes_5.append(master_spy_df['5_min_change'].iloc[i+5])\n",
    "        spy_changes_10.append(master_spy_df['10_min_change'].iloc[i+10])\n",
    "        spy_changes_15.append(master_spy_df['15_min_change'].iloc[i+15])\n",
    "        is_short = True\n",
    "        enter_i = i\n",
    "    if i - enter_i >= 15:\n",
    "        is_short = False\n",
    "        \n",
    "        \n",
    "short_df = pd.DataFrame(short_enters,columns=['index','prices'])\n",
    "short_df.set_index('index',inplace=True)\n",
    "\n",
    "spy_changes_1 = np.array(spy_changes_1)\n",
    "spy_changes_5 = np.array(spy_changes_5)\n",
    "spy_changes_10 = np.array(spy_changes_10)\n",
    "spy_changes_15 = np.array(spy_changes_15)"
   ]
  },
  {
   "cell_type": "code",
   "execution_count": 140,
   "metadata": {},
   "outputs": [
    {
     "data": {
      "text/plain": [
       "[<matplotlib.lines.Line2D at 0x10c7adf0>]"
      ]
     },
     "execution_count": 140,
     "metadata": {},
     "output_type": "execute_result"
    },
    {
     "data": {
      "image/png": "[encoded data removed]",
      "text/plain": [
       "<Figure size 432x288 with 1 Axes>"
      ]
     },
     "metadata": {},
     "output_type": "display_data"
    }
   ],
   "source": [
    "plt.plot(master_spy_df['prices'])\n",
    "plt.plot(short_df,'ro')"
   ]
  },
  {
   "cell_type": "code",
   "execution_count": 121,
   "metadata": {},
   "outputs": [
    {
     "data": {
      "text/plain": [
       "0.6666666666666666"
      ]
     },
     "execution_count": 121,
     "metadata": {},
     "output_type": "execute_result"
    }
   ],
   "source": [
    "len(spy_changes_5[spy_changes_5<0])/len(spy_changes_5)"
   ]
  },
  {
   "cell_type": "code",
   "execution_count": 122,
   "metadata": {},
   "outputs": [
    {
     "data": {
      "text/plain": [
       "0.625"
      ]
     },
     "execution_count": 122,
     "metadata": {},
     "output_type": "execute_result"
    }
   ],
   "source": [
    "len(spy_changes_10[spy_changes_10<0])/len(spy_changes_10)"
   ]
  },
  {
   "cell_type": "code",
   "execution_count": 125,
   "metadata": {},
   "outputs": [
    {
     "data": {
      "text/plain": [
       "-2.619799999999998"
      ]
     },
     "execution_count": 125,
     "metadata": {},
     "output_type": "execute_result"
    }
   ],
   "source": [
    "spy_changes_10.sum()"
   ]
  },
  {
   "cell_type": "code",
   "execution_count": 124,
   "metadata": {},
   "outputs": [
    {
     "data": {
      "text/plain": [
       "-0.8298000000000343"
      ]
     },
     "execution_count": 124,
     "metadata": {},
     "output_type": "execute_result"
    }
   ],
   "source": [
    "spy_changes_5.sum()"
   ]
  },
  {
   "cell_type": "code",
   "execution_count": 126,
   "metadata": {},
   "outputs": [
    {
     "name": "stdout",
     "output_type": "stream",
     "text": [
      "-0.03457500000000143\n",
      "-0.10915833333333325\n"
     ]
    }
   ],
   "source": [
    "print(spy_changes_5.mean())\n",
    "print(spy_changes_10.mean())"
   ]
  },
  {
   "cell_type": "code",
   "execution_count": 127,
   "metadata": {},
   "outputs": [
    {
     "data": {
      "text/plain": [
       "-0.5269000000001256"
      ]
     },
     "execution_count": 127,
     "metadata": {},
     "output_type": "execute_result"
    }
   ],
   "source": [
    "spy_changes_1.sum()"
   ]
  },
  {
   "cell_type": "code",
   "execution_count": 129,
   "metadata": {},
   "outputs": [
    {
     "data": {
      "text/plain": [
       "-2.5880000000002497"
      ]
     },
     "execution_count": 129,
     "metadata": {},
     "output_type": "execute_result"
    }
   ],
   "source": [
    "spy_changes_15.sum()"
   ]
  },
  {
   "cell_type": "code",
   "execution_count": 133,
   "metadata": {},
   "outputs": [
    {
     "data": {
      "text/plain": [
       "12128320.0"
      ]
     },
     "execution_count": 133,
     "metadata": {},
     "output_type": "execute_result"
    }
   ],
   "source": [
    "master_spy_df.iloc[1]['times']"
   ]
  },
  {
   "cell_type": "code",
   "execution_count": null,
   "metadata": {},
   "outputs": [],
   "source": []
  },
  {
   "cell_type": "code",
   "execution_count": null,
   "metadata": {},
   "outputs": [],
   "source": []
  }
 ],
 "metadata": {
  "kernelspec": {
   "display_name": "Python 3",
   "language": "python",
   "name": "python3"
  },
  "language_info": {
   "codemirror_mode": {
    "name": "ipython",
    "version": 3
   },
   "file_extension": ".py",
   "mimetype": "text/x-python",
   "name": "python",
   "nbconvert_exporter": "python",
   "pygments_lexer": "ipython3",
   "version": "3.6.5"
  }
 },
 "nbformat": 4,
 "nbformat_minor": 2
}
