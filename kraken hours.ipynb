{
 "cells": [
  {
   "cell_type": "code",
   "execution_count": 15,
   "id": "relative-reservation",
   "metadata": {},
   "outputs": [],
   "source": [
    "import requests\n",
    "import pandas as pd\n",
    "import json\n",
    "import matplotlib.pyplot as plt\n",
    "from mpl_finance import candlestick_ohlc\n",
    "from twilio.rest import Client \n",
    "\n",
    "\n",
    "coins = [\n",
    "'BTC',\n",
    "'ETH',\n",
    "'ADA',\n",
    "'USDT',\n",
    "'DOGE',\n",
    "'XRP',\n",
    "'DOT',\n",
    "'BCH',\n",
    "'UNI',\n",
    "'LTC',\n",
    "'LINK',\n",
    "'USDC',\n",
    "'XLM',\n",
    "'ETC',\n",
    "'EOS',\n",
    "'TRX',\n",
    "'FIL',\n",
    "'XMR',\n",
    "'AAVE',\n",
    "'XTZ',\n",
    "'ATOM',\n",
    "'DAI',\n",
    "'KSM',\n",
    "'ALGO',\n",
    "'COMP',\n",
    "'DASH',\n",
    "'ZEC',\n",
    "'WAVES',\n",
    "'YFI',\n",
    "'SNX',\n",
    "'NANO',\n",
    "'MANA',\n",
    "'QTUM',\n",
    "'BAT',\n",
    "'GRT',\n",
    "'SC',\n",
    "'OMG',\n",
    "'ICX',\n",
    "'CRV',\n",
    "'LSK',\n",
    "'FLOW',\n",
    "'KNC',\n",
    "'EWT',\n",
    "'OCEAN',\n",
    "'STORJ',\n",
    "'REP',\n",
    "'BAL',\n",
    "'REPV2',\n",
    "'GNO',\n",
    "'KAVA',\n",
    "'ANT',\n",
    "'KEEP',\n",
    "'OXT',\n",
    "'MLN',\n",
    "'PAXG',\n",
    "'TBTC',\n",
    "'ETH2']\n"
   ]
  },
  {
   "cell_type": "code",
   "execution_count": 2,
   "id": "chemical-stephen",
   "metadata": {},
   "outputs": [],
   "source": [
    "r = requests.get('https://api.kraken.com/0/public/Assets?currency=USD')\n",
    "pr = json.loads(r.text)"
   ]
  },
  {
   "cell_type": "code",
   "execution_count": 3,
   "id": "remarkable-white",
   "metadata": {},
   "outputs": [],
   "source": [
    "coin_dict = {}\n",
    "for coin in coins:\n",
    "    resp = requests.get(f'https://api.kraken.com/0/public/OHLC?pair={coin}USD&interval=60&since=1598011000')\n",
    "    try: \n",
    "        coin_dict[coin] = pd.DataFrame(json.loads(resp.text)['result'][list(json.loads(resp.text)['result'].keys())[0]],columns = ['time','open','high','low','close','avg','volume','idk'])\n",
    "    except: \n",
    "        pass\n"
   ]
  },
  {
   "cell_type": "code",
   "execution_count": 12,
   "id": "breathing-domestic",
   "metadata": {},
   "outputs": [],
   "source": [
    "for coin in coin_dict.keys():\n",
    "    coin_dict[coin]['datetime'] = pd.to_datetime(coin_dict[coin]['time'], unit = 's')\n",
    "    coin_dict[coin]['average_volume'] = coin_dict[coin]['volume'].rolling(50).mean()\n",
    "    coin_dict[coin]['ma_50'] = coin_dict[coin]['close'].rolling(50).mean()\n",
    "    coin_dict[coin]['volume'] = coin_dict[coin]['volume'].astype(float)\n",
    "    coin_dict[coin]['open'] = coin_dict[coin]['open'].astype(float)\n",
    "    coin_dict[coin]['high'] = coin_dict[coin]['high'].astype(float)\n",
    "    coin_dict[coin]['low'] = coin_dict[coin]['low'].astype(float)\n",
    "    coin_dict[coin]['close'] = coin_dict[coin]['close'].astype(float)\n",
    "    coin_dict[coin]['3x_volume'] = coin_dict[coin]['volume'] > (coin_dict[coin]['average_volume'] *5)"
   ]
  },
  {
   "cell_type": "code",
   "execution_count": null,
   "id": "juvenile-kentucky",
   "metadata": {},
   "outputs": [],
   "source": []
  },
  {
   "cell_type": "code",
   "execution_count": 9,
   "id": "deadly-roberts",
   "metadata": {},
   "outputs": [],
   "source": [
    "for coin in coin_dict.keys():\n",
    "    df = coin_dict[coin]\n",
    "    ohlc = df[['time','open', 'high', 'low', 'close']]\n",
    "    fig, ax = plt.subplots(figsize = (20,10))\n",
    "    candlestick_ohlc(ax, ohlc.values, width=0.6, colorup='green', colordown='red', alpha=0.8)\n",
    "    ax.plot(df[(df['3x_volume']==True)]['time'],df[(df['3x_volume']==True)]['close'],'go')\n",
    "    fig.savefig(f'{coin}.jpeg')\n",
    "    plt.close(fig)"
   ]
  },
  {
   "cell_type": "code",
   "execution_count": 13,
   "id": "built-regard",
   "metadata": {},
   "outputs": [
    {
     "name": "stdout",
     "output_type": "stream",
     "text": [
      "[]\n"
     ]
    }
   ],
   "source": [
    "buy_coins = []\n",
    "for coin in coin_dict.keys():\n",
    "    df = coin_dict[coin]\n",
    "    if df.iloc[-1]['3x_volume']==True and df.iloc[-1]['open']<df.iloc[-1]['close']:\n",
    "        buy_coins.append(coin)\n",
    "print(buy_coins)"
   ]
  },
  {
   "cell_type": "code",
   "execution_count": null,
   "id": "forward-nurse",
   "metadata": {},
   "outputs": [],
   "source": [
    "if len(buy_coins) >= 0:\n",
    "    account_sid = 'AC49b7d33ba06b660a203511a81ae796cf'\n",
    "    auth_token = '7b108310716502dd154df40a6fcde504'\n",
    "    client = Client(account_sid, auth_token)\n",
    "\n",
    "    message = client.messages \\\n",
    "                    .create(\n",
    "                         body=f\"Check out these coins {buy_coins}\",\n",
    "                         from_='+12253073889',\n",
    "                         to='+17089418511'\n",
    "                     )\n",
    "\n",
    "    print(message.sid)"
   ]
  },
  {
   "cell_type": "code",
   "execution_count": null,
   "id": "surface-patient",
   "metadata": {},
   "outputs": [],
   "source": []
  },
  {
   "cell_type": "code",
   "execution_count": null,
   "id": "interested-stamp",
   "metadata": {},
   "outputs": [],
   "source": []
  }
 ],
 "metadata": {
  "kernelspec": {
   "display_name": "Python 3",
   "language": "python",
   "name": "python3"
  },
  "language_info": {
   "codemirror_mode": {
    "name": "ipython",
    "version": 3
   },
   "file_extension": ".py",
   "mimetype": "text/x-python",
   "name": "python",
   "nbconvert_exporter": "python",
   "pygments_lexer": "ipython3",
   "version": "3.8.8"
  }
 },
 "nbformat": 4,
 "nbformat_minor": 5
}
