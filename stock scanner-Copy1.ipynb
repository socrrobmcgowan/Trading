{
 "cells": [
  {
   "cell_type": "code",
   "execution_count": 1,
   "metadata": {},
   "outputs": [],
   "source": [
    "import numpy as np\n",
    "import pandas as pd\n",
    "import pandas_datareader.data as web\n",
    "import matplotlib.pyplot as plt\n",
    "import csv\n",
    "import requests\n",
    "import json\n",
    "%matplotlib inline"
   ]
  },
  {
   "cell_type": "code",
   "execution_count": 2,
   "metadata": {},
   "outputs": [],
   "source": [
    "symbols = []\n",
    "csv_read = csv.reader(open('companylist.csv'))\n",
    "for row in csv_read:\n",
    "    if row[0] != 'Symbol':\n",
    "        symbols.append(row[0])"
   ]
  },
  {
   "cell_type": "code",
   "execution_count": 3,
   "metadata": {},
   "outputs": [
    {
     "ename": "SyntaxError",
     "evalue": "invalid syntax (<ipython-input-3-51ee0bd63b0f>, line 34)",
     "output_type": "error",
     "traceback": [
      "\u001b[1;36m  File \u001b[1;32m\"<ipython-input-3-51ee0bd63b0f>\"\u001b[1;36m, line \u001b[1;32m34\u001b[0m\n\u001b[1;33m    print(x)\u001b[0m\n\u001b[1;37m        ^\u001b[0m\n\u001b[1;31mSyntaxError\u001b[0m\u001b[1;31m:\u001b[0m invalid syntax\n"
     ]
    }
   ],
   "source": [
    "master_df_d = {} \n",
    "print(len(symbols))\n",
    "x = 1\n",
    "for symbol in symbols: \n",
    "    try: \n",
    "        data = web.RobinhoodHistoricalReader(symbol)\n",
    "        data = data.read()\n",
    "        df = pd.DataFrame(data)\n",
    "        df = df.reset_index(level=0, drop = True)\n",
    "        df = df.reset_index(level=0, drop = True)\n",
    "        df.dropna(inplace=True)\n",
    "        df['close_price'] = df['close_price'].astype(float)\n",
    "        df['high_price'] = df['high_price'].astype(float)\n",
    "        df['low_price'] = df['low_price'].astype(float)\n",
    "        df['open_price'] = df['open_price'].astype(float)\n",
    "        df['prev_price'] = df['close_price'].shift(1)\n",
    "        df['gain'] = df['close_price'] - df['prev_price']\n",
    "        df['loss'] = df['close_price'] - df['prev_price']\n",
    "        df['gain'].where(df['gain']>0, other = 0.0, inplace = True)\n",
    "        df['loss'].where(df['loss']<0 , other = 0.0, inplace = True)\n",
    "        df['loss'] = abs(df['loss'])\n",
    "        df['avg_gain'] = df['gain'].ewma(span=14).mean()\n",
    "        df['avg_loss'] = df['loss'].ewma(span=14).mean()\n",
    "        df['rs'] = df['avg_gain']/df['avg_loss']\n",
    "        df['rsi'] = 100 - (100/(1.0+df['rs']))\n",
    "        df['prev_open'] = df['open_price'].shift(1)\n",
    "        df['prev_close'] = df['close_price'].shift(1)\n",
    "        master_df_d[symbol] = {'rsi': df.iloc[251]['rsi'] ,\n",
    "                           'prev_open' : df.iloc[251]['prev_open'],\n",
    "                           'prev_close' : df.iloc[251]['prev_close'],\n",
    "                           'open' : df.iloc[251]['open_price'],\n",
    "                           'close' : df.iloc[251]['close_price']}\n",
    "    \n",
    "    print(x)\n",
    "    x+=1\n",
    "except KeyError:\n",
    "    next"
   ]
  },
  {
   "cell_type": "code",
   "execution_count": null,
   "metadata": {},
   "outputs": [],
   "source": [
    "buy_stocks = []\n",
    "\n",
    "for symbol in master_df_d:\n",
    "    if master_df_d[symbol]['prev_close'] <= master_df_d[symbol]['prev_open'] and master_df_d[symbol]['open'] < master_df_d[symbol]['prev_close'] :\n",
    "        if master_df_d[symbol]['close'] > master_df_d[symbol]['prev_open'] and master_df_d[symbol]['rsi'] < 31:\n",
    "            buy_stocks.append(symbol)\n",
    "print(buy_stocks)\n",
    "        "
   ]
  },
  {
   "cell_type": "code",
   "execution_count": null,
   "metadata": {},
   "outputs": [],
   "source": [
    "master_df_d['SND']"
   ]
  },
  {
   "cell_type": "code",
   "execution_count": null,
   "metadata": {},
   "outputs": [],
   "source": []
  },
  {
   "cell_type": "code",
   "execution_count": null,
   "metadata": {},
   "outputs": [],
   "source": [
    "master_df_d = {}\n",
    "print(len(symbols))\n",
    "x=1\n",
    "for symbol in symbols:\n",
    "    try:\n",
    "        data = web.RobinhoodHistoricalReader(symbol)\n",
    "        data = data.read()\n",
    "        df = pd.DataFrame(data)\n",
    "        df = df.reset_index(level = 0, drop = True)\n",
    "        df = df.reset_index(level = 0, drop = True)\n",
    "        df.dropna(inplace = True)\n",
    "        df['close_price'] = df['close_price'].astype(float)\n",
    "        df['high_price'] = df['high_price'].astype(float)\n",
    "        df['low_price'] = df['low_price'].astype(float)\n",
    "        df['open_price'] = df['open_price'].astype(float)\n",
    "        df['prev_price'] = df['close_price'].shift(1)\n",
    "        df['gain'] = df['close_price'] - df['prev_price']\n",
    "        df['loss'] = df['close_price'] - df['prev_price']\n",
    "        df['gain'].where(df['gain']>0, other=0.0,inplace = True)\n",
    "        df['loss'].where(df['loss']<0, other=0.0, inplace = True)\n",
    "        df['loss'] = abs(df['loss'])\n",
    "        df['avg_gain'] = df['gain'].ewma(span=14).mean()\n",
    "        df['avg_loss'] = df['loss'].ewa(span=14).mean()\n",
    "        #df['last_avg_gain'] = df['avg_gain'].shift(1)\n",
    "        #df['last_avg_loss'] = df['avg_loss'].shift(1)\n",
    "        df['n_avg_gain'] = float(0.0)\n",
    "        df['n_avg_loss'] = float(0.0)\n",
    "        df.iloc[15]['n_avg_gain'] = df.iloc[15]['avg_gain']\n",
    "        df.iloc[15]['n_avg_loss'] = df.iloc[15]['avg_loss']\n",
    "        df['n_avg_gain'] = ((df['n_avg_gain'].shift(1)*13)+df['gain'])/14\n",
    "        df['n_avg_loss'] = ((df['n_avg_loss'].shift(1)*13)+df['loss'])/14\n",
    "        df['rs'] = df['avg_gain']/df['avg_loss']\n",
    "        df['rsi'] = 100 - (100/(1.0+df['rs']))\n",
    "        df['prev_open'] = df['open_price'].shift(1)\n",
    "        df['prev_close'] = df['close_price'].shift(1)\n",
    "        master_df_d[symbol] = {'rsi': df.iloc[251]['rsi'] ,\n",
    "                               'prev_open' : df.iloc[251]['prev_open'],\n",
    "                               'prev_close' : df.iloc[251]['prev_close'],\n",
    "                               'open' : df.iloc[251]['open_price'],\n",
    "                               'close' : df.iloc[251]['close_price']}\n",
    "        print(x)\n",
    "        x+=1\n",
    "    except KeyError:\n",
    "        next\n"
   ]
  },
  {
   "cell_type": "code",
   "execution_count": null,
   "metadata": {},
   "outputs": [],
   "source": []
  },
  {
   "cell_type": "code",
   "execution_count": null,
   "metadata": {},
   "outputs": [],
   "source": []
  },
  {
   "cell_type": "code",
   "execution_count": null,
   "metadata": {},
   "outputs": [],
   "source": []
  },
  {
   "cell_type": "code",
   "execution_count": null,
   "metadata": {},
   "outputs": [],
   "source": []
  },
  {
   "cell_type": "code",
   "execution_count": null,
   "metadata": {},
   "outputs": [],
   "source": []
  }
 ],
 "metadata": {
  "kernelspec": {
   "display_name": "Python 3",
   "language": "python",
   "name": "python3"
  },
  "language_info": {
   "codemirror_mode": {
    "name": "ipython",
    "version": 3
   },
   "file_extension": ".py",
   "mimetype": "text/x-python",
   "name": "python",
   "nbconvert_exporter": "python",
   "pygments_lexer": "ipython3",
   "version": "3.6.5"
  }
 },
 "nbformat": 4,
 "nbformat_minor": 2
}
