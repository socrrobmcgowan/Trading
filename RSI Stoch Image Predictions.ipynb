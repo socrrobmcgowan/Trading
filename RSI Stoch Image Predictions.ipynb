{
 "cells": [
  {
   "cell_type": "code",
   "execution_count": 1,
   "id": "perfect-senator",
   "metadata": {
    "scrolled": true
   },
   "outputs": [
    {
     "name": "stderr",
     "output_type": "stream",
     "text": [
      "c:\\users\\rob\\trading\\venv_38\\lib\\site-packages\\mpl_finance.py:16: DeprecationWarning: \n",
      "\n",
      "  =================================================================\n",
      "\n",
      "   WARNING: `mpl_finance` is deprecated:\n",
      "\n",
      "    Please use `mplfinance` instead (no hyphen, no underscore).\n",
      "\n",
      "    To install: `pip install --upgrade mplfinance` \n",
      "\n",
      "   For more information, see: https://pypi.org/project/mplfinance/\n",
      "\n",
      "  =================================================================\n",
      "\n",
      "  __warnings.warn('\\n\\n  ================================================================='+\n"
     ]
    }
   ],
   "source": [
    "import os\n",
    "import tensorflow as tf\n",
    "\n",
    "from tensorflow import keras\n",
    "from tensorflow.keras import layers\n",
    "from tensorflow.keras.models import Sequential\n",
    "\n",
    "import numpy as np\n",
    "import pandas as pd\n",
    "import requests\n",
    "import json\n",
    "import datetime\n",
    "import plotly.figure_factory as FF\n",
    "from chart_studio.plotly import iplot\n",
    "import plotly.graph_objects as go\n",
    "import matplotlib.pyplot as plt\n",
    "from PIL import Image\n",
    "from mpl_finance import candlestick_ohlc\n",
    "\n",
    "from bs4 import BeautifulSoup as bs\n",
    "\n",
    "batch_size = 32\n",
    "img_height = 180\n",
    "img_width = 180"
   ]
  },
  {
   "cell_type": "code",
   "execution_count": 2,
   "id": "returning-compatibility",
   "metadata": {},
   "outputs": [],
   "source": [
    "def stochastic(row):\n",
    "    return ((row['close']-row['14_min'])/(row['14_max']-row['14_min']))*100\n",
    "\n",
    "\n",
    "def gain(row):\n",
    "    if row['change'] >= 0:\n",
    "        return row['change']\n",
    "    else:\n",
    "        return 0\n",
    "\n",
    "def loss(row):\n",
    "    if row['change']<= 0:\n",
    "        return row['change']\n",
    "    else:\n",
    "        return 0\n",
    "    \n",
    "def rsi(row):\n",
    "    return 100 - (100 / (1+((row['prev_avg_gain']*13)+row['gain'])/-((row['prev_avg_loss']*13)+row['loss'])))"
   ]
  },
  {
   "cell_type": "code",
   "execution_count": 11,
   "id": "employed-activation",
   "metadata": {},
   "outputs": [],
   "source": [
    "stock_dict = {}\n",
    "\n",
    "stocks = ['AAPL','BAC','TSLA','MSFT','FB','CSCO','ROKU','SPY','QQQ','IWM', 'SQ', 'INTC', 'PAYC','NVDA','WFC', 'GE', 'F']\n",
    "\n",
    "for stock in stocks:\n",
    "    r = requests.get(f\"https://finance.yahoo.com/quote/{stock}/history?p={stock}\")\n",
    "    soup = bs(r.content)\n",
    "    scripts = soup.find_all('script')\n",
    "    pr = str(scripts[52]).split('root.App.main = ')[1]\n",
    "    pr = pr.split(';\\n}(this));\\n</script>')[0]\n",
    "    fin_data = json.loads(pr)\n",
    "    new_df = pd.DataFrame(fin_data['context']['dispatcher']['stores']['HistoricalPriceStore']['prices'])\n",
    "    if 'type' in new_df.columns:\n",
    "        new_df = new_df[new_df['type']!='DIVIDEND']\n",
    "    new_df.sort_values('date', inplace=True)\n",
    "    new_df.reset_index(inplace=True)\n",
    "    new_df.drop('index',axis=1,inplace=True)\n",
    "    stock_dict[stock] = new_df"
   ]
  },
  {
   "cell_type": "code",
   "execution_count": 12,
   "id": "noticed-executive",
   "metadata": {},
   "outputs": [],
   "source": [
    "rsi_below_40 = tf.keras.models.load_model('rsi_below_60_model/')\n",
    "rsi_above_60 = tf.keras.models.load_model('rsi_above_60_model/')\n",
    "macd_below_0 = tf.keras.models.load_model('macd_below_0_model/')\n",
    "macd_above_0 = tf.keras.models.load_model('macd_above_0_model/')"
   ]
  },
  {
   "cell_type": "code",
   "execution_count": 13,
   "id": "asian-trout",
   "metadata": {},
   "outputs": [],
   "source": [
    "class_names = ['rsi_gain', 'rsi_loss']\n",
    "\n",
    "for stock in stock_dict:\n",
    "    df = stock_dict[stock]\n",
    "    df.reset_index(inplace=True)\n",
    "    df['change'] = df['close'] - df['close'].shift(1)\n",
    "    df['ema_26'] = df['close'].ewm(span=26).mean()\n",
    "    df['ema_12'] = df['close'].ewm(span=12).mean()\n",
    "    df['macd'] = df['ema_12'] - df['ema_26']\n",
    "    df['signal'] = df['macd'].ewm(9).mean()\n",
    "    df['gain'] = df.apply(gain, axis = 1)\n",
    "    df['loss'] = df.apply(loss, axis = 1)\n",
    "    df['avg_gain'] = df['gain'].rolling(14).mean()\n",
    "    df['avg_loss'] = df['loss']. rolling(14).mean()\n",
    "    df['prev_avg_gain'] = df['avg_gain'].shift(1)\n",
    "    df['prev_avg_loss'] = df['avg_loss'].shift(1)\n",
    "    df['ma_20'] = df['close'].rolling(20).mean()\n",
    "    df['ma_9'] = df['close'].rolling(9).mean()\n",
    "    df['ma_50'] = df['close'].rolling(50).mean()\n",
    "    df['14_min'] = df['low'].rolling(14).min()\n",
    "    df['14_max'] = df['high'].rolling(14).max()\n",
    "    df['stdev'] = abs(df['close'].rolling(20).std())\n",
    "    df['upperband'] = df['ma_20'] + (df['stdev']*2)\n",
    "    df['lowerband'] = df['ma_20'] - (df['stdev']*2)\n",
    "    df['stochastic'] = df.apply(stochastic, axis = 1)\n",
    "    df['rsi'] = df.apply(rsi, axis = 1)\n",
    "    \n",
    "    fig, ax = plt.subplots()\n",
    "    ax.plot(df.iloc[-20:]['index'], df.iloc[-20:]['rsi'], color = 'blue', linewidth = 4)\n",
    "    ax.plot(df.iloc[-20:]['index'], df.iloc[-20:]['stochastic'], color = 'green', linewidth = 4)\n",
    "    ax.axhline(y=70, color = 'black', linewidth = 4)\n",
    "    ax.axhline(y=30, color = 'black', linewidth = 4)\n",
    "\n",
    "\n",
    "    ax.axis('off')\n",
    "    fig.savefig(f'rsi_stoch_images/{stock}_rsi.jpeg')\n",
    "    plt.close(fig)\n",
    "\n",
    "    fig, ax = plt.subplots()\n",
    "    ax.plot(df.iloc[-20:]['index'], df.iloc[-20:]['macd'], color = 'blue', linewidth = 4)\n",
    "    ax.plot(df.iloc[-20:]['index'], df.iloc[-20:]['signal'], color = 'green', linewidth = 4)\n",
    "    ax.axhline(y=0, color = 'black', linewidth = 4)\n",
    "\n",
    "\n",
    "    ax.axis('off')\n",
    "    fig.savefig(f'rsi_stoch_images/{stock}_macd.jpeg')\n",
    "    plt.close(fig)\n",
    "    \n",
    "    "
   ]
  },
  {
   "cell_type": "code",
   "execution_count": 14,
   "id": "attempted-people",
   "metadata": {
    "scrolled": false
   },
   "outputs": [
    {
     "name": "stdout",
     "output_type": "stream",
     "text": [
      "AAPL 34.0374124343943\n",
      "AAPL \n",
      " This image most likely belongs to rsi_loss with a 72.76 percent confidence.\n",
      "This MACD image most likely belongs to rsi_loss with a 83.73 percent confidence.\n",
      "BAC 60.639929404387786\n",
      "BAC \n",
      " This image most likely belongs to rsi_gain with a 87.35 percent confidence.\n",
      "This MACD image most likely belongs to rsi_gain with a 99.55 percent confidence.\n",
      "TSLA 33.13260549071089\n",
      "TSLA \n",
      " This image most likely belongs to rsi_gain with a 99.37 percent confidence.\n",
      "WARNING:tensorflow:5 out of the last 27 calls to <function Model.make_predict_function.<locals>.predict_function at 0x0000025D28196670> triggered tf.function retracing. Tracing is expensive and the excessive number of tracings could be due to (1) creating @tf.function repeatedly in a loop, (2) passing tensors with different shapes, (3) passing Python objects instead of tensors. For (1), please define your @tf.function outside of the loop. For (2), @tf.function has experimental_relax_shapes=True option that relaxes argument shapes that can avoid unnecessary retracing. For (3), please refer to https://www.tensorflow.org/guide/function#controlling_retracing and https://www.tensorflow.org/api_docs/python/tf/function for  more details.\n",
      "TSLA \n",
      " This MACD image most likely belongs to rsi_loss with a 100.00 percent confidence.\n",
      "MSFT 34.51174712349889\n",
      "MSFT \n",
      " This image most likely belongs to rsi_gain with a 97.90 percent confidence.\n",
      "This MACD image most likely belongs to rsi_gain with a 84.25 percent confidence.\n",
      "FB 56.03823254210688\n",
      "FB \n",
      " This image most likely belongs to rsi_loss with a 99.78 percent confidence.\n",
      "This MACD image most likely belongs to rsi_gain with a 87.76 percent confidence.\n",
      "CSCO 42.13626416117461\n",
      "CSCO \n",
      " This image most likely belongs to rsi_loss with a 100.00 percent confidence.\n",
      "This MACD image most likely belongs to rsi_loss with a 74.02 percent confidence.\n",
      "ROKU 24.82832484897412\n",
      "ROKU \n",
      " This image most likely belongs to rsi_gain with a 59.02 percent confidence.\n",
      "ROKU \n",
      " This MACD image most likely belongs to rsi_gain with a 99.96 percent confidence.\n",
      "SPY 53.69541098729609\n",
      "SPY \n",
      " This image most likely belongs to rsi_gain with a 98.82 percent confidence.\n",
      "This MACD image most likely belongs to rsi_loss with a 100.00 percent confidence.\n",
      "QQQ 37.29175246398615\n",
      "QQQ \n",
      " This image most likely belongs to rsi_loss with a 98.99 percent confidence.\n",
      "This MACD image most likely belongs to rsi_gain with a 100.00 percent confidence.\n",
      "IWM 52.99574239748751\n",
      "IWM \n",
      " This image most likely belongs to rsi_loss with a 99.99 percent confidence.\n",
      "This MACD image most likely belongs to rsi_gain with a 97.30 percent confidence.\n",
      "SQ 21.271824773723964\n",
      "SQ \n",
      " This image most likely belongs to rsi_gain with a 96.26 percent confidence.\n",
      "This MACD image most likely belongs to rsi_loss with a 100.00 percent confidence.\n",
      "INTC 18.68287711227279\n",
      "INTC \n",
      " This image most likely belongs to rsi_loss with a 98.23 percent confidence.\n",
      "INTC \n",
      " This MACD image most likely belongs to rsi_gain with a 99.92 percent confidence.\n",
      "PAYC 31.37534281153468\n",
      "PAYC \n",
      " This image most likely belongs to rsi_gain with a 90.75 percent confidence.\n",
      "PAYC \n",
      " This MACD image most likely belongs to rsi_gain with a 100.00 percent confidence.\n",
      "NVDA 35.822573916669114\n",
      "NVDA \n",
      " This image most likely belongs to rsi_gain with a 52.85 percent confidence.\n",
      "This MACD image most likely belongs to rsi_gain with a 98.12 percent confidence.\n",
      "WFC 74.60840341517483\n",
      "WFC \n",
      " This image most likely belongs to rsi_gain with a 63.18 percent confidence.\n",
      "This MACD image most likely belongs to rsi_gain with a 100.00 percent confidence.\n",
      "GE 43.52092785789286\n",
      "GE \n",
      " This image most likely belongs to rsi_loss with a 95.28 percent confidence.\n",
      "This MACD image most likely belongs to rsi_gain with a 100.00 percent confidence.\n",
      "F 39.11599823569243\n",
      "F \n",
      " This image most likely belongs to rsi_loss with a 97.10 percent confidence.\n",
      "F \n",
      " This MACD image most likely belongs to rsi_loss with a 99.88 percent confidence.\n"
     ]
    }
   ],
   "source": [
    "for stock in stocks:\n",
    "    print(stock, stock_dict[stock].iloc[-1]['rsi'])\n",
    "    \n",
    "    img = keras.preprocessing.image.load_img(\n",
    "        f\"rsi_stoch_images/{stock}_rsi.jpeg\", target_size=(img_height, img_width)\n",
    "    )\n",
    "    img_array = keras.preprocessing.image.img_to_array(img)\n",
    "    img_array = tf.expand_dims(img_array, 0) # Create a batch\n",
    "\n",
    "    if stock_dict[stock].iloc[-1]['rsi'] < 50:\n",
    "        predictions = rsi_below_40.predict(img_array)\n",
    "        score = tf.nn.softmax(predictions[0])\n",
    "\n",
    "        print(stock,\"\\n\",\n",
    "            \"This image most likely belongs to {} with a {:.2f} percent confidence.\"\n",
    "            .format(class_names[np.argmax(score)], 100 * np.max(score))\n",
    "        )\n",
    "\n",
    "    elif stock_dict[stock].iloc[-1]['rsi'] > 50:\n",
    "        predictions = rsi_above_60.predict(img_array)\n",
    "        score = tf.nn.softmax(predictions[0])\n",
    "\n",
    "        print(stock,\"\\n\",\n",
    "            \"This image most likely belongs to {} with a {:.2f} percent confidence.\"\n",
    "            .format(class_names[np.argmax(score)], 100 * np.max(score))\n",
    "        )\n",
    "        \n",
    "        \n",
    "        \n",
    "    img = keras.preprocessing.image.load_img(\n",
    "        f\"rsi_stoch_images/{stock}_macd.jpeg\", target_size=(img_height, img_width)\n",
    "    )\n",
    "    img_array = keras.preprocessing.image.img_to_array(img)\n",
    "    img_array = tf.expand_dims(img_array, 0) # Create a batch\n",
    "\n",
    "    if stock_dict[stock].iloc[-1]['macd'] < 0:\n",
    "        predictions = macd_below_0.predict(img_array)\n",
    "        score = tf.nn.softmax(predictions[0])\n",
    "\n",
    "        print(stock,\"\\n\",\n",
    "            \"This MACD image most likely belongs to {} with a {:.2f} percent confidence.\"\n",
    "            .format(class_names[np.argmax(score)], 100 * np.max(score))\n",
    "        )\n",
    "\n",
    "    elif stock_dict[stock].iloc[-1]['macd'] > 0:\n",
    "        predictions = macd_above_0.predict(img_array)\n",
    "        score = tf.nn.softmax(predictions[0])\n",
    "\n",
    "        print(\"This MACD image most likely belongs to {} with a {:.2f} percent confidence.\"\n",
    "            .format(class_names[np.argmax(score)], 100 * np.max(score))\n",
    "        )\n",
    "\n"
   ]
  },
  {
   "cell_type": "code",
   "execution_count": 7,
   "id": "basic-charm",
   "metadata": {},
   "outputs": [],
   "source": [
    "api_token = 'sk_f491c9326e6a4b79a7ed5b1689c178f3'\n",
    "token = 'pk_36b1f2b4c74a4c86bec74d5e48fb2517'\n",
    "\n",
    "r = requests.get(f'https://cloud.iexapis.com/stable/stock/spy/chart/5dm?token={api_token}')\n",
    "\n",
    "pr = json.loads(r.content)\n",
    "df = pd.DataFrame(pr)\n",
    "\n",
    "def future_max_price(row):\n",
    "    i = int(row['index'])\n",
    "    try:\n",
    "        return max(df.iloc[i+1]['high'],df.iloc[i+2]['high'],df.iloc[i+3]['high'],df.iloc[i+4]['high'],df.iloc[i+5]['high'],df.iloc[i+6]['high'],df.iloc[i+7]['high'],df.iloc[i+8]['high'],df.iloc[i+9]['high'],df.iloc[i+10]['high'])\n",
    "    except:\n",
    "        return None\n",
    "    \n",
    "def future_min_price(row):\n",
    "    i = int(row['index'])\n",
    "    try:\n",
    "        return min(df.iloc[i+1]['low'],df.iloc[i+2]['low'],df.iloc[i+3]['low'],df.iloc[i+4]['low'],df.iloc[i+5]['low'],df.iloc[i+6]['low'],df.iloc[i+7]['low'],df.iloc[i+8]['low'],df.iloc[i+9]['low'],df.iloc[i+10]['low'])\n",
    "    except:\n",
    "        return None\n",
    "    \n",
    "def stochastic(row):\n",
    "    return ((row['close']-row['14_min'])/(row['14_max']-row['14_min']))*100\n",
    "\n",
    "\n",
    "def gain(row):\n",
    "    if row['change'] >= 0:\n",
    "        return row['change']\n",
    "    else:\n",
    "        return 0\n",
    "\n",
    "def loss(row):\n",
    "    if row['change']<= 0:\n",
    "        return row['change']\n",
    "    else:\n",
    "        return 0\n",
    "    \n",
    "def rsi(row):\n",
    "    return 100 - (100 / (1+((row['prev_avg_gain']*13)+row['gain'])/-((row['prev_avg_loss']*13)+row['loss'])))\n",
    "    "
   ]
  },
  {
   "cell_type": "code",
   "execution_count": 8,
   "id": "controlled-forge",
   "metadata": {},
   "outputs": [],
   "source": [
    "df.reset_index(inplace=True)"
   ]
  },
  {
   "cell_type": "code",
   "execution_count": 9,
   "id": "perceived-nudist",
   "metadata": {},
   "outputs": [],
   "source": [
    "df['change'] = df['close'] - df['close'].shift(1)\n",
    "df['gain'] = df.apply(gain, axis = 1)\n",
    "df['loss'] = df.apply(loss, axis = 1)\n",
    "df['avg_gain'] = df['gain'].rolling(14).mean()\n",
    "df['avg_loss'] = df['loss']. rolling(14).mean()\n",
    "df['ema_26'] = df['close'].ewm(span=26).mean()\n",
    "df['ema_12'] = df['close'].ewm(span=12).mean()\n",
    "df['macd'] = df['ema_12'] - df['ema_26']\n",
    "df['signal'] = df['macd'].ewm(span=9).mean()\n",
    "df['prev_avg_gain'] = df['avg_gain'].shift(1)\n",
    "df['prev_avg_loss'] = df['avg_loss'].shift(1)\n",
    "df['ma_20'] = df['close'].rolling(20).mean()\n",
    "df['ma_9'] = df['close'].rolling(9).mean()\n",
    "df['ma_50'] = df['close'].rolling(50).mean()\n",
    "df['14_min'] = df['close'].rolling(14).min()\n",
    "df['14_max'] = df['close'].rolling(14).max()\n",
    "df['stdev'] = abs(df['close'].rolling(20).std())\n",
    "df['upperband'] = df['ma_20'] + (df['stdev']*2)\n",
    "df['lowerband'] = df['ma_20'] - (df['stdev']*2)\n",
    "df['future_max_30'] = df.apply(future_max_price,axis=1)\n",
    "df['future_min_30'] = df.apply(future_min_price,axis=1)\n",
    "df['max_change'] = df['future_max_30'] - df['close']\n",
    "df['min_change'] = df['future_min_30'] - df['close']\n",
    "df['stochastic'] = df.apply(stochastic, axis = 1)\n",
    "df['rsi'] = df.apply(rsi, axis = 1)"
   ]
  },
  {
   "cell_type": "code",
   "execution_count": 10,
   "id": "inner-sudan",
   "metadata": {},
   "outputs": [],
   "source": [
    "for i in df.index[27:190]:\n",
    "    end = i\n",
    "    fig, ax = plt.subplots()\n",
    "    ax.plot(df.loc[end-20:end]['index'], df.loc[end-20:end]['rsi'], color = 'blue', linewidth = 4)\n",
    "    ax.plot(df.loc[end-20:end]['index'], df.loc[end-20:end]['stochastic'], color = 'green', linewidth = 4)\n",
    "    ax.axhline(y=70, color = 'black', linewidth = 4)\n",
    "    ax.axhline(y=30, color = 'black', linewidth = 4)\n",
    "\n",
    "    ax.axis('off')\n",
    "    fig.savefig(f'spy_images/{i}_spy_rsi.jpeg')\n",
    "    plt.close(fig)\n",
    "    \n",
    "    fig, ax = plt.subplots()\n",
    "    ax.plot(df.loc[end-20:end]['index'], df.loc[end-20:end]['macd'], color = 'blue', linewidth = 4)\n",
    "    ax.plot(df.loc[end-20:end]['index'], df.loc[end-20:end]['signal'], color = 'green', linewidth = 4)\n",
    "    ax.axhline(y=0, color = 'black', linewidth = 4)\n",
    "\n",
    "    ax.axis('off')\n",
    "    fig.savefig(f'spy_images/{i}_spy_macd.jpeg')\n",
    "    plt.close(fig)\n",
    "    \n",
    "    "
   ]
  },
  {
   "cell_type": "code",
   "execution_count": 114,
   "id": "improving-ladder",
   "metadata": {},
   "outputs": [],
   "source": [
    "buys = []\n",
    "sells = []\n",
    "long = False\n",
    "enter = 0\n",
    "longs = []\n",
    "long_trades = []\n",
    "short = False\n",
    "shorts = []\n",
    "short_trades = []\n",
    "for i in df.index[27:190]:\n",
    "    preds = ['none','none']\n",
    "    img = keras.preprocessing.image.load_img(\n",
    "        f\"spy_images/{i}_spy_rsi.jpeg\", target_size=(img_height, img_width)\n",
    "    )\n",
    "    img_array = keras.preprocessing.image.img_to_array(img)\n",
    "    img_array = tf.expand_dims(img_array, 0) # Create a batch\n",
    "\n",
    "    if df.iloc[i]['rsi'] < 50:\n",
    "        predictions = rsi_below_40.predict(img_array)\n",
    "        score = tf.nn.softmax(predictions[0])\n",
    "\n",
    "        preds[0] = class_names[np.argmax(score)]\n",
    "\n",
    "    elif df.iloc[i]['rsi'] > 50:\n",
    "        predictions = rsi_above_60.predict(img_array)\n",
    "        score = tf.nn.softmax(predictions[0])\n",
    "\n",
    "        preds[0] = class_names[np.argmax(score)]\n",
    "        \n",
    "    img = keras.preprocessing.image.load_img(\n",
    "        f\"spy_images/{i}_spy_macd.jpeg\", target_size=(img_height, img_width)\n",
    "    )\n",
    "    img_array = keras.preprocessing.image.img_to_array(img)\n",
    "    img_array = tf.expand_dims(img_array, 0) # Create a batch\n",
    "\n",
    "    if df.iloc[i]['macd'] < 0:\n",
    "        predictions = macd_below_0.predict(img_array)\n",
    "        score = tf.nn.softmax(predictions[0])\n",
    "\n",
    "        preds[1] = class_names[np.argmax(score)]\n",
    "\n",
    "    elif df.iloc[i]['macd'] > 0:\n",
    "        predictions = macd_above_0.predict(img_array)\n",
    "        score = tf.nn.softmax(predictions[0])\n",
    "        preds[1] = class_names[np.argmax(score)]\n",
    "        \n",
    "    if preds[0] == 'rsi_gain' and preds[1] == 'rsi_gain':\n",
    "        buys.append((df.iloc[i]['close'],df.iloc[i]['future_max_30'],df.iloc[i]['future_min_30'],df.iloc[i]['future_max_30']-df.iloc[i]['close'],df.iloc[i]['future_min_30']-df.iloc[i]['close']))\n",
    "    \n",
    "        \n",
    "    if preds[0] == 'rsi_loss' and preds[1] == 'rsi_loss':\n",
    "        sells.append((df.iloc[i]['close'],df.iloc[i]['future_max_30'],df.iloc[i]['future_min_30'],df.iloc[i]['future_max_30']-df.iloc[i]['close'],df.iloc[i]['future_min_30']-df.iloc[i]['close']))\n",
    "    \n",
    "    if long and df.iloc[i]['low'] - enter <-.40:\n",
    "        long = False\n",
    "        longs.append('loss')\n",
    "        long_trades.append((enter_i, enter, i))\n",
    "    \n",
    "    if long and df.iloc[i]['high'] - enter > .80:\n",
    "        long = False\n",
    "        longs.append('win')\n",
    "        long_trades.append((enter_i, enter, i))\n",
    "    if preds[0] == 'rsi_gain' and preds[1] == 'rsi_gain' and not long and not short and df.iloc[i]['rsi'] >50 and df.iloc[i]['macd']>0:\n",
    "        long = True\n",
    "        enter = df.iloc[i]['close']\n",
    "        enter_i = i\n",
    " \n",
    "    if short and df.iloc[i]['low'] - enter <-.80:\n",
    "        short = False\n",
    "        shorts.append('win')\n",
    "        short_trades.append((enter_i, enter, i))\n",
    "    \n",
    "    if short and df.iloc[i]['high'] - enter > .40:\n",
    "        short = False\n",
    "        shorts.append('loss')\n",
    "        short_trades.append((enter_i, enter, i))\n",
    "\n",
    "    if preds[0] == 'rsi_loss' and preds[1] == 'rsi_loss' and not long and not short and df.iloc[i]['macd']<0 and df.iloc[i]['rsi']<50:\n",
    "        short = True\n",
    "        enter = df.iloc[i]['close']\n",
    "        enter_i = i\n",
    "        "
   ]
  },
  {
   "cell_type": "code",
   "execution_count": 21,
   "id": "realistic-square",
   "metadata": {},
   "outputs": [],
   "source": [
    "buys = np.array(buys)\n",
    "buy_gains = buys[:,3]\n",
    "buy_losses = buys[:,4]"
   ]
  },
  {
   "cell_type": "code",
   "execution_count": 22,
   "id": "historic-coupon",
   "metadata": {},
   "outputs": [],
   "source": [
    "sells = np.array(sells)\n",
    "sell_gains = sells[:,3]\n",
    "sell_losses = buys[:,4]"
   ]
  },
  {
   "cell_type": "code",
   "execution_count": 23,
   "id": "exterior-banana",
   "metadata": {},
   "outputs": [
    {
     "data": {
      "text/plain": [
       "array([1.265, 1.82 , 1.855, 1.84 , 1.93 , 1.14 , 0.335, 0.225, 0.73 ,\n",
       "       0.655, 1.07 , 0.1  , 0.98 , 1.31 , 1.24 , 1.43 , 1.175, 0.845,\n",
       "       0.55 , 0.35 , 0.28 , 0.395, 0.215, 0.275, 0.33 , 0.25 ,   nan,\n",
       "       1.205, 1.345, 0.81 , 0.43 , 0.59 , 1.   , 0.59 , 0.13 , 0.225,\n",
       "       0.38 , 0.64 , 0.42 , 0.03 , 0.12 , 0.47 , 0.215, 0.17 , 0.185,\n",
       "       0.475, 2.305, 4.2  , 1.365, 1.21 , 0.555, 0.53 , 0.245, 0.735,\n",
       "       1.07 , 0.17 , 0.6  , 0.59 , 0.5  , 0.295,   nan])"
      ]
     },
     "execution_count": 23,
     "metadata": {},
     "output_type": "execute_result"
    }
   ],
   "source": [
    "buy_gains"
   ]
  },
  {
   "cell_type": "code",
   "execution_count": 24,
   "id": "elegant-title",
   "metadata": {},
   "outputs": [
    {
     "data": {
      "text/plain": [
       "array([-0.235, -0.33 , -0.295, -0.31 , -0.22 , -0.11 , -0.665, -0.775,\n",
       "       -0.265, -0.125, -0.105, -0.48 , -0.39 , -0.29 , -0.36 ,  0.   ,\n",
       "       -0.11 , -0.195, -0.49 , -0.13 , -0.2  , -0.06 , -0.345, -0.285,\n",
       "       -0.325, -0.405,    nan, -0.045, -0.065, -0.14 , -0.815, -0.775,\n",
       "       -0.365, -0.58 , -1.04 , -0.945, -0.79 , -0.53 , -0.7  , -1.09 ,\n",
       "       -0.68 , -1.89 , -2.145, -2.085, -2.07 , -1.21 , -1.185,  2.46 ,\n",
       "       -0.375,  0.06 , -0.345, -0.39 , -0.765, -0.405, -0.09 , -0.53 ,\n",
       "       -0.1  , -0.08 , -0.1  , -0.585,    nan])"
      ]
     },
     "execution_count": 24,
     "metadata": {},
     "output_type": "execute_result"
    }
   ],
   "source": [
    "buy_losses"
   ]
  },
  {
   "cell_type": "code",
   "execution_count": 25,
   "id": "empty-durham",
   "metadata": {},
   "outputs": [
    {
     "data": {
      "text/plain": [
       "nan"
      ]
     },
     "execution_count": 25,
     "metadata": {},
     "output_type": "execute_result"
    }
   ],
   "source": [
    "buy_gains.mean()"
   ]
  },
  {
   "cell_type": "code",
   "execution_count": 26,
   "id": "unsigned-modem",
   "metadata": {},
   "outputs": [
    {
     "data": {
      "text/plain": [
       "nan"
      ]
     },
     "execution_count": 26,
     "metadata": {},
     "output_type": "execute_result"
    }
   ],
   "source": [
    "buy_losses.mean()"
   ]
  },
  {
   "cell_type": "code",
   "execution_count": 27,
   "id": "amended-history",
   "metadata": {},
   "outputs": [
    {
     "data": {
      "text/plain": [
       "nan"
      ]
     },
     "execution_count": 27,
     "metadata": {},
     "output_type": "execute_result"
    }
   ],
   "source": [
    "buy_gains.sum()"
   ]
  },
  {
   "cell_type": "code",
   "execution_count": 28,
   "id": "hidden-integral",
   "metadata": {},
   "outputs": [
    {
     "data": {
      "text/plain": [
       "nan"
      ]
     },
     "execution_count": 28,
     "metadata": {},
     "output_type": "execute_result"
    }
   ],
   "source": [
    "buy_losses.sum()"
   ]
  },
  {
   "cell_type": "code",
   "execution_count": 29,
   "id": "swedish-hearts",
   "metadata": {},
   "outputs": [
    {
     "data": {
      "text/plain": [
       "0.5621428571428656"
      ]
     },
     "execution_count": 29,
     "metadata": {},
     "output_type": "execute_result"
    }
   ],
   "source": [
    "sell_gains[:7].mean()"
   ]
  },
  {
   "cell_type": "code",
   "execution_count": 30,
   "id": "confirmed-luther",
   "metadata": {},
   "outputs": [
    {
     "data": {
      "text/plain": [
       "-0.3092857142857172"
      ]
     },
     "execution_count": 30,
     "metadata": {},
     "output_type": "execute_result"
    }
   ],
   "source": [
    "sell_losses[:7].mean()"
   ]
  },
  {
   "cell_type": "code",
   "execution_count": 31,
   "id": "union-debate",
   "metadata": {},
   "outputs": [
    {
     "data": {
      "text/plain": [
       "3.935000000000059"
      ]
     },
     "execution_count": 31,
     "metadata": {},
     "output_type": "execute_result"
    }
   ],
   "source": [
    "sell_gains[:7].sum()"
   ]
  },
  {
   "cell_type": "code",
   "execution_count": 32,
   "id": "interior-daughter",
   "metadata": {},
   "outputs": [
    {
     "data": {
      "text/plain": [
       "-2.1650000000000205"
      ]
     },
     "execution_count": 32,
     "metadata": {},
     "output_type": "execute_result"
    }
   ],
   "source": [
    "sell_losses[:7].sum()"
   ]
  },
  {
   "cell_type": "code",
   "execution_count": 115,
   "id": "amino-manchester",
   "metadata": {},
   "outputs": [
    {
     "data": {
      "text/plain": [
       "8"
      ]
     },
     "execution_count": 115,
     "metadata": {},
     "output_type": "execute_result"
    }
   ],
   "source": [
    "len([x for x in longs if x == 'win'])"
   ]
  },
  {
   "cell_type": "code",
   "execution_count": 116,
   "id": "measured-innocent",
   "metadata": {},
   "outputs": [
    {
     "data": {
      "text/plain": [
       "7"
      ]
     },
     "execution_count": 116,
     "metadata": {},
     "output_type": "execute_result"
    }
   ],
   "source": [
    "len([x for x in longs if x == 'loss'])"
   ]
  },
  {
   "cell_type": "code",
   "execution_count": 117,
   "id": "illegal-nursery",
   "metadata": {},
   "outputs": [
    {
     "data": {
      "text/plain": [
       "[(27, 409.745, 36),\n",
       " (41, 410.87, 45),\n",
       " (45, 410.47, 56),\n",
       " (63, 411.03, 65),\n",
       " (70, 410.94, 76),\n",
       " (76, 411.635, 79),\n",
       " (84, 411.86, 106),\n",
       " (108, 412.715, 112),\n",
       " (112, 413.39, 114),\n",
       " (114, 412.94, 119),\n",
       " (119, 413.81, 120),\n",
       " (120, 413.715, 122),\n",
       " (122, 413.3, 128),\n",
       " (160, 414.23, 162),\n",
       " (163, 414.885, 177)]"
      ]
     },
     "execution_count": 117,
     "metadata": {},
     "output_type": "execute_result"
    }
   ],
   "source": [
    "long_trades"
   ]
  },
  {
   "cell_type": "code",
   "execution_count": 118,
   "id": "different-penguin",
   "metadata": {},
   "outputs": [
    {
     "data": {
      "text/plain": [
       "1"
      ]
     },
     "execution_count": 118,
     "metadata": {},
     "output_type": "execute_result"
    }
   ],
   "source": [
    "len([x for x in shorts if x == 'win'])"
   ]
  },
  {
   "cell_type": "code",
   "execution_count": 119,
   "id": "adopted-punch",
   "metadata": {},
   "outputs": [
    {
     "data": {
      "text/plain": [
       "1"
      ]
     },
     "execution_count": 119,
     "metadata": {},
     "output_type": "execute_result"
    }
   ],
   "source": [
    "len([x for x in shorts if x == 'loss'])"
   ]
  },
  {
   "cell_type": "code",
   "execution_count": 107,
   "id": "functioning-redhead",
   "metadata": {},
   "outputs": [
    {
     "data": {
      "text/plain": [
       "[]"
      ]
     },
     "execution_count": 107,
     "metadata": {},
     "output_type": "execute_result"
    }
   ],
   "source": [
    "short_trades"
   ]
  },
  {
   "cell_type": "code",
   "execution_count": 39,
   "id": "split-chosen",
   "metadata": {},
   "outputs": [
    {
     "data": {
      "text/plain": [
       "index                              188\n",
       "date                        2021-04-15\n",
       "minute                           14:50\n",
       "label                            14:50\n",
       "open                            415.37\n",
       "high                           415.475\n",
       "low                             415.19\n",
       "close                           415.31\n",
       "average                     415.332697\n",
       "volume                            9308\n",
       "notional                    3865918.82\n",
       "numberOfTrades                     131\n",
       "marketOpen                      415.36\n",
       "marketHigh                      415.48\n",
       "marketLow                       415.18\n",
       "marketClose                     415.36\n",
       "marketAverage               415.351117\n",
       "marketVolume                    625587\n",
       "marketNotional          259838210.7668\n",
       "marketNumberOfTrades              4096\n",
       "change                           -0.05\n",
       "gain                               0.0\n",
       "loss                             -0.05\n",
       "avg_gain                        0.0625\n",
       "avg_loss                     -0.070357\n",
       "ema_26                      415.015118\n",
       "ema_12                      415.374343\n",
       "macd                          0.359225\n",
       "signal                        0.443529\n",
       "prev_avg_gain                   0.0775\n",
       "prev_avg_loss                -0.066786\n",
       "ma_20                          415.309\n",
       "ma_9                        415.458333\n",
       "ma_50                         413.9742\n",
       "14_min                          415.19\n",
       "14_max                          415.67\n",
       "stdev                         0.243665\n",
       "upperband                    415.79633\n",
       "lowerband                    414.82167\n",
       "future_max_30                      NaN\n",
       "future_min_30                      NaN\n",
       "max_change                         NaN\n",
       "min_change                         NaN\n",
       "stochastic                        25.0\n",
       "rsi                          52.318249\n",
       "Name: 188, dtype: object"
      ]
     },
     "execution_count": 39,
     "metadata": {},
     "output_type": "execute_result"
    }
   ],
   "source": [
    "df.iloc[188]"
   ]
  },
  {
   "cell_type": "code",
   "execution_count": 14,
   "id": "lasting-baghdad",
   "metadata": {},
   "outputs": [],
   "source": [
    "mylist = ['hello','hi']"
   ]
  },
  {
   "cell_type": "code",
   "execution_count": 16,
   "id": "loving-spelling",
   "metadata": {},
   "outputs": [
    {
     "data": {
      "text/plain": [
       "'hi'"
      ]
     },
     "execution_count": 16,
     "metadata": {},
     "output_type": "execute_result"
    }
   ],
   "source": [
    "mylist.pop(1)"
   ]
  },
  {
   "cell_type": "code",
   "execution_count": 17,
   "id": "sacred-title",
   "metadata": {},
   "outputs": [
    {
     "data": {
      "text/plain": [
       "['hello']"
      ]
     },
     "execution_count": 17,
     "metadata": {},
     "output_type": "execute_result"
    }
   ],
   "source": [
    "mylist"
   ]
  },
  {
   "cell_type": "markdown",
   "id": "broken-peripheral",
   "metadata": {},
   "source": [
    "Successful combinations: \n",
    "Buy when RSI > 50 and MACD > 0\n",
    "Combined with selling when MACD < 0"
   ]
  }
 ],
 "metadata": {
  "kernelspec": {
   "display_name": "Python 3",
   "language": "python",
   "name": "python3"
  },
  "language_info": {
   "codemirror_mode": {
    "name": "ipython",
    "version": 3
   },
   "file_extension": ".py",
   "mimetype": "text/x-python",
   "name": "python",
   "nbconvert_exporter": "python",
   "pygments_lexer": "ipython3",
   "version": "3.8.8"
  }
 },
 "nbformat": 4,
 "nbformat_minor": 5
}
