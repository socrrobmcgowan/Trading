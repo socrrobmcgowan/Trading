{
 "cells": [
  {
   "cell_type": "code",
   "execution_count": 9,
   "metadata": {},
   "outputs": [
    {
     "name": "stdout",
     "output_type": "stream",
     "text": [
      "Symbol Lookup Fail\n",
      "6895\n"
     ]
    }
   ],
   "source": [
    "import numpy as np\n",
    "import pandas as pd\n",
    "import csv\n",
    "import requests\n",
    "import json\n",
    "import datetime\n",
    "import html\n",
    "\n",
    "api_key = 'sk_f491c9326e6a4b79a7ed5b1689c178f3'\n",
    "csv_read = csv.reader(open('companylist_all.csv'))\n",
    "symbols = []\n",
    "symbol_dict = {}\n",
    "from bs4 import BeautifulSoup as bs\n",
    "for i in csv_read:\n",
    "    if i[0] != 'Symbol' :\n",
    "        symbols.append(i[0])\n",
    "        \n",
    "        \n",
    "x = len(symbols)\n",
    "symbols = ['AAPL']\n",
    "for symbol in symbols: \n",
    "    try:\n",
    "        url = requests.get(f'https://finance.yahoo.com/quote/{symbol}/history?p={symbol}')\n",
    "        soup = bs(url.content,'html.parser')\n",
    "        scripts = soup.find_all('script')\n",
    "        fin_data = scripts[52]\n",
    "        fin_data = str(fin_data).split('root.App.main = ')[1]\n",
    "        fin_data = fin_data.split(';\\n}(this));\\n</script>')[0]\n",
    "        fin_dict = json.loads(fin_data)\n",
    "        historical_prices = fin_dict['context']['dispatcher']['stores']['HistoricalPriceStore']['prices']\n",
    "        df = pd.DataFrame(historical_prices)\n",
    "        df.sort_index(ascending=False,inplace=True)\n",
    "        df['date'] = pd.to_datetime(df['date'],unit='s')\n",
    "        df['date'] = pd.to_datetime(df['date'], format='%d/%m/%y %H:%M:%S').dt.strftime('%m/%d/%Y')\n",
    "        df.set_index('date', inplace = True)\n",
    "        df.dropna(subset =['open'],inplace=True)\n",
    "        df[['adjclose','open','close','high','low','open']] = df[['adjclose','open','close','high','low','open']].round(2)\n",
    "        df['open'] = df['open'].astype(float)\n",
    "        df['high'] = df['high'].astype(float)\n",
    "        df['low'] = df['low'].astype(float)\n",
    "        df['close'] = df['close'].astype(float)\n",
    "        df['volume'] = df['volume'].astype(float)\n",
    "        df['fast'] = df['close'].ewm(span=12).mean()\n",
    "        df['slow'] = df['close'].ewm(span=26).mean()\n",
    "        df['macd'] = df['fast']-df['slow']\n",
    "        df['signal'] = df['macd'].ewm(span=9).mean()\n",
    "        df['200MA'] = df['close'].rolling(200).mean()\n",
    "        df['50MA'] = df['close'].rolling(50).mean()\n",
    "        df['100MA'] = df['close'].rolling(100).mean()\n",
    "        df['10MA'] = df['close'].rolling(10).mean()\n",
    "        df['20MA'] = df['close'].rolling(20).mean()\n",
    "        df['BB_20_upper_2std'] = (df['close'].rolling(20).std()*2) + df['20MA']\n",
    "        df['BB_20_lower_2std'] = df['20MA'] - (df['close'].rolling(20).std()*2)\n",
    "        df['day_change'] = df['close'].diff(periods=1)\n",
    "        df['2_day_change'] = df['close'].diff(periods=2)\n",
    "        df['3_day_change'] = df['close'].diff(periods=3)\n",
    "        df['5_day_change'] = df['close'].diff(periods=5)\n",
    "        symbol_dict[symbol] = df\n",
    "    except:\n",
    "        print('Symbol Lookup Fail')\n",
    "        pass\n",
    "    print(x)\n",
    "    x -= 1\n",
    "# for symbol in symbol_dict: \n",
    "#     df = symbol_dict[symbol]\n",
    "#     try:\n",
    "#         if (df['3_day_change'].iloc[-1]/df['close'].iloc[-4]) > 2 and df['volume'].iloc[-1] >1000000:\n",
    "#             print(symbol, df['close'].iloc[-4],df['close'].iloc[-1])\n",
    "#     except:\n",
    "#         pass\n",
    "    \n",
    "for symbol in symbol_dict: \n",
    "    df = symbol_dict[symbol]\n",
    "    try: \n",
    "        if (df['20MA'].iloc[-1] < df['200MA'].iloc[-1] or df['20MA'].iloc[-1] < df['100MA'].iloc[-1]) and df['50MA'].iloc[-1] > df['100MA'].iloc[-1] and df['100MA'].iloc[-1] > df['200MA'].iloc[-1]:\n",
    "            print(symbol,df['close'].iloc[-1])\n",
    "    except:\n",
    "        pass\n"
   ]
  },
  {
   "cell_type": "code",
   "execution_count": 7,
   "metadata": {},
   "outputs": [
    {
     "ename": "IndexError",
     "evalue": "list index out of range",
     "output_type": "error",
     "traceback": [
      "\u001b[1;31m---------------------------------------------------------------------------\u001b[0m",
      "\u001b[1;31mIndexError\u001b[0m                                Traceback (most recent call last)",
      "\u001b[1;32m<ipython-input-7-699b707a54ce>\u001b[0m in \u001b[0;36m<module>\u001b[1;34m\u001b[0m\n\u001b[0;32m      8\u001b[0m \u001b[0msoup\u001b[0m \u001b[1;33m=\u001b[0m \u001b[0mbs\u001b[0m\u001b[1;33m(\u001b[0m\u001b[0murl\u001b[0m\u001b[1;33m.\u001b[0m\u001b[0mcontent\u001b[0m\u001b[1;33m,\u001b[0m\u001b[1;34m'html.parser'\u001b[0m\u001b[1;33m)\u001b[0m\u001b[1;33m\u001b[0m\u001b[1;33m\u001b[0m\u001b[0m\n\u001b[0;32m      9\u001b[0m \u001b[0mscripts\u001b[0m \u001b[1;33m=\u001b[0m \u001b[0msoup\u001b[0m\u001b[1;33m.\u001b[0m\u001b[0mfind_all\u001b[0m\u001b[1;33m(\u001b[0m\u001b[1;34m'script'\u001b[0m\u001b[1;33m)\u001b[0m\u001b[1;33m\u001b[0m\u001b[1;33m\u001b[0m\u001b[0m\n\u001b[1;32m---> 10\u001b[1;33m \u001b[0mfin_data\u001b[0m \u001b[1;33m=\u001b[0m \u001b[0mscripts\u001b[0m\u001b[1;33m[\u001b[0m\u001b[1;36m53\u001b[0m\u001b[1;33m]\u001b[0m\u001b[1;33m\u001b[0m\u001b[1;33m\u001b[0m\u001b[0m\n\u001b[0m\u001b[0;32m     11\u001b[0m \u001b[0mfin_data\u001b[0m \u001b[1;33m=\u001b[0m \u001b[0mstr\u001b[0m\u001b[1;33m(\u001b[0m\u001b[0mfin_data\u001b[0m\u001b[1;33m)\u001b[0m\u001b[1;33m.\u001b[0m\u001b[0msplit\u001b[0m\u001b[1;33m(\u001b[0m\u001b[1;34m'root.App.main = '\u001b[0m\u001b[1;33m)\u001b[0m\u001b[1;33m[\u001b[0m\u001b[1;36m1\u001b[0m\u001b[1;33m]\u001b[0m\u001b[1;33m\u001b[0m\u001b[1;33m\u001b[0m\u001b[0m\n\u001b[0;32m     12\u001b[0m \u001b[0mfin_data\u001b[0m \u001b[1;33m=\u001b[0m \u001b[0mfin_data\u001b[0m\u001b[1;33m.\u001b[0m\u001b[0msplit\u001b[0m\u001b[1;33m(\u001b[0m\u001b[1;34m';\\n}(this));\\n</script>'\u001b[0m\u001b[1;33m)\u001b[0m\u001b[1;33m[\u001b[0m\u001b[1;36m0\u001b[0m\u001b[1;33m]\u001b[0m\u001b[1;33m\u001b[0m\u001b[1;33m\u001b[0m\u001b[0m\n",
      "\u001b[1;31mIndexError\u001b[0m: list index out of range"
     ]
    }
   ],
   "source": [
    "import requests\n",
    "import pandas as pd\n",
    "from bs4 import BeautifulSoup as bs\n",
    "import json\n",
    "\n",
    "symbol = 'AAPL'\n",
    "url = requests.get(f'https://finance.yahoo.com/quote/{symbol}/history')\n",
    "soup = bs(url.content,'html.parser')\n",
    "scripts = soup.find_all('script')\n",
    "fin_data = scripts[53]\n",
    "fin_data = str(fin_data).split('root.App.main = ')[1]\n",
    "fin_data = fin_data.split(';\\n}(this));\\n</script>')[0]\n",
    "fin_dict = json.loads(fin_data)\n",
    "historical_prices = fin_dict['context']['dispatcher']['stores']['HistoricalPriceStore']['prices']\n",
    "df = pd.DataFrame(historical_prices)\n",
    "df.sort_index(ascending=False,inplace=True)\n",
    "df['date'] = pd.to_datetime(df['date'],unit='s')\n",
    "df['date'] = pd.to_datetime(df['date'], format='%d/%m/%y %H:%M:%S').dt.strftime('%m/%d/%Y')\n",
    "df.set_index('date', inplace = True)\n",
    "df.dropna(subset =['open'],inplace=True)\n",
    "df[['adjclose','open','close','high','low','open']] = df[['adjclose','open','close','high','low','open']].round(2)\n",
    "df.tail()"
   ]
  },
  {
   "cell_type": "code",
   "execution_count": 8,
   "metadata": {},
   "outputs": [
    {
     "data": {
      "text/plain": [
       "[<script>\n",
       "     document.write('<img src=\"//geo.yahoo.com/b?s=1197757129&t='+new Date().getTime()+'&src=aws&err_url='+encodeURIComponent(document.URL)+'&err=%<pssc>&test='+encodeURIComponent('%<{Bucket}cqh[:200]>')+'\" width=\"0px\" height=\"0px\"/>');var beacon = new Image();beacon.src=\"//bcn.fp.yahoo.com/p?s=1197757129&t=\"+new Date().getTime()+\"&src=aws&err_url=\"+encodeURIComponent(document.URL)+\"&err=%<pssc>&test=\"+encodeURIComponent('%<{Bucket}cqh[:200]>');\n",
       "   </script>]"
      ]
     },
     "execution_count": 8,
     "metadata": {},
     "output_type": "execute_result"
    }
   ],
   "source": [
    "scripts"
   ]
  },
  {
   "cell_type": "code",
   "execution_count": 4,
   "metadata": {},
   "outputs": [
    {
     "name": "stderr",
     "output_type": "stream",
     "text": [
      "c:\\users\\rob\\appdata\\local\\programs\\python\\python36-32\\lib\\site-packages\\ipykernel_launcher.py:4: RuntimeWarning: invalid value encountered in double_scalars\n",
      "  after removing the cwd from sys.path.\n"
     ]
    },
    {
     "name": "stdout",
     "output_type": "stream",
     "text": [
      "SSI 0.03 14900.0\n",
      "GRNQ 0.36 2.58\n",
      "ZIONW 0.17 0.44\n"
     ]
    }
   ],
   "source": [
    "\n",
    "\n",
    "for symbol in symbol_dict: \n",
    "    df = symbol_dict[symbol]\n",
    "    try:\n",
    "        if (df['3_day_change'].iloc[-1]/df['close'].iloc[-4]) > 1 and df['volume'].iloc[-1] >1000000:\n",
    "            print(symbol, df['close'].iloc[-4],df['close'].iloc[-1])\n",
    "    except:\n",
    "        pass"
   ]
  },
  {
   "cell_type": "code",
   "execution_count": 10,
   "metadata": {},
   "outputs": [
    {
     "data": {
      "text/plain": [
       "<!DOCTYPE html>\n",
       "\n",
       "<html lang=\"en-us\"><head>\n",
       "<meta content=\"text/html; charset=utf-8\" http-equiv=\"content-type\"/>\n",
       "<meta charset=\"utf-8\"/>\n",
       "<title>Yahoo</title>\n",
       "<meta content=\"width=device-width,initial-scale=1,minimal-ui\" name=\"viewport\"/>\n",
       "<meta content=\"IE=edge,chrome=1\" http-equiv=\"X-UA-Compatible\"/>\n",
       "<style>\n",
       "  html {\n",
       "      height: 100%;\n",
       "  }\n",
       "  body {\n",
       "      background: #fafafc url(https://s.yimg.com/nn/img/sad-panda-201402200631.png) 50% 50%;\n",
       "      background-size: cover;\n",
       "      height: 100%;\n",
       "      text-align: center;\n",
       "      font: 300 18px \"helvetica neue\", helvetica, verdana, tahoma, arial, sans-serif;\n",
       "  }\n",
       "  table {\n",
       "      height: 100%;\n",
       "      width: 100%;\n",
       "      table-layout: fixed;\n",
       "      border-collapse: collapse;\n",
       "      border-spacing: 0;\n",
       "      border: none;\n",
       "  }\n",
       "  h1 {\n",
       "      font-size: 42px;\n",
       "      font-weight: 400;\n",
       "      color: #400090;\n",
       "  }\n",
       "  p {\n",
       "      color: #1A1A1A;\n",
       "  }\n",
       "  #message-1 {\n",
       "      font-weight: bold;\n",
       "      margin: 0;\n",
       "  }\n",
       "  #message-2 {\n",
       "      display: inline-block;\n",
       "      *display: inline;\n",
       "      zoom: 1;\n",
       "      max-width: 17em;\n",
       "      _width: 17em;\n",
       "  }\n",
       "      </style>\n",
       "<script>\n",
       "    document.write('<img src=\"//geo.yahoo.com/b?s=1197757129&t='+new Date().getTime()+'&src=aws&err_url='+encodeURIComponent(document.URL)+'&err=%<pssc>&test='+encodeURIComponent('%<{Bucket}cqh[:200]>')+'\" width=\"0px\" height=\"0px\"/>');var beacon = new Image();beacon.src=\"//bcn.fp.yahoo.com/p?s=1197757129&t=\"+new Date().getTime()+\"&src=aws&err_url=\"+encodeURIComponent(document.URL)+\"&err=%<pssc>&test=\"+encodeURIComponent('%<{Bucket}cqh[:200]>');\n",
       "  </script>\n",
       "</head>\n",
       "<body>\n",
       "<!-- status code : 404 -->\n",
       "<!-- Not Found on Server -->\n",
       "<table>\n",
       "<tbody><tr>\n",
       "<td>\n",
       "<img alt=\"Yahoo Logo\" src=\"https://s.yimg.com/rz/p/yahoo_frontpage_en-US_s_f_p_205x58_frontpage.png\"/>\n",
       "<h1 style=\"margin-top:20px;\">Will be right back...</h1>\n",
       "<p id=\"message-1\">Thank you for your patience.</p>\n",
       "<p id=\"message-2\">Our engineers are working quickly to resolve the issue.</p>\n",
       "</td>\n",
       "</tr>\n",
       "</tbody></table>\n",
       "</body></html>"
      ]
     },
     "execution_count": 10,
     "metadata": {},
     "output_type": "execute_result"
    }
   ],
   "source": [
    "soup"
   ]
  },
  {
   "cell_type": "code",
   "execution_count": null,
   "metadata": {},
   "outputs": [],
   "source": []
  }
 ],
 "metadata": {
  "kernelspec": {
   "display_name": "Python 3",
   "language": "python",
   "name": "python3"
  },
  "language_info": {
   "codemirror_mode": {
    "name": "ipython",
    "version": 3
   },
   "file_extension": ".py",
   "mimetype": "text/x-python",
   "name": "python",
   "nbconvert_exporter": "python",
   "pygments_lexer": "ipython3",
   "version": "3.8.8"
  }
 },
 "nbformat": 4,
 "nbformat_minor": 2
}
